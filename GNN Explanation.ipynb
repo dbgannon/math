{
 "cells": [
  {
   "cell_type": "markdown",
   "metadata": {},
   "source": [
    "## An excellent example from Pytorch Geometric\n",
    "https://pytorch-geometric.readthedocs.io/en/latest/notes/colabs.html\n",
    "\n",
    "This example is from their colab notebook collection.\n"
   ]
  },
  {
   "cell_type": "code",
   "execution_count": 6,
   "metadata": {
    "colab": {
     "background_save": true
    },
    "id": "F1op-CbyLuN4",
    "outputId": "708a2fc9-54e4-4752-fb36-ca03c9bcc0ce"
   },
   "outputs": [],
   "source": [
    "# Install required packages.\n",
    "!pip install -q captum\n",
    "\n",
    "# Helper function for visualization.\n",
    "%matplotlib inline\n",
    "import matplotlib.pyplot as plt"
   ]
  },
  {
   "cell_type": "markdown",
   "metadata": {
    "id": "nMTL0kk0seBw"
   },
   "source": [
    "# Explaining GNN Model Predictions using Captum\n",
    "\n",
    "In this tutorial we demonstrate how to apply feature attribution methods to graphs. Specifically, we try to find the most important edges for each instance prediction.  \n",
    "\n",
    "We use the Mutagenicity dataset from [TUDatasets](https://chrsmrrs.github.io/datasets/). This dataset consists of 4337 molecule graphs where the task is to predict the molecule mutagenicity."
   ]
  },
  {
   "cell_type": "markdown",
   "metadata": {
    "id": "mJtgD2A1uJAa"
   },
   "source": [
    "## Loading the dataset\n",
    "\n",
    "We load the dataset and use 10% of the data as the test split."
   ]
  },
  {
   "cell_type": "code",
   "execution_count": 2,
   "metadata": {
    "colab": {
     "base_uri": "https://localhost:8080/"
    },
    "executionInfo": {
     "elapsed": 7497,
     "status": "ok",
     "timestamp": 1631264101630,
     "user": {
      "displayName": "Matthias Fey",
      "photoUrl": "https://lh3.googleusercontent.com/a/default-user=s64",
      "userId": "07888747774515796046"
     },
     "user_tz": -120
    },
    "id": "SE2iREv4q2dL",
    "outputId": "c46fb1ad-84b2-4d43-89a2-101fe6a61c66"
   },
   "outputs": [
    {
     "data": {
      "text/plain": [
       "2"
      ]
     },
     "execution_count": 2,
     "metadata": {},
     "output_type": "execute_result"
    }
   ],
   "source": [
    "from torch_geometric.loader import DataLoader\n",
    "from torch_geometric.datasets import TUDataset\n",
    "\n",
    "path = '.'\n",
    "dataset = TUDataset(path, name='Mutagenicity').shuffle()\n",
    "test_dataset = dataset[:len(dataset) // 10]\n",
    "train_dataset = dataset[len(dataset) // 10:]\n",
    "test_loader = DataLoader(test_dataset, batch_size=128)\n",
    "train_loader = DataLoader(train_dataset, batch_size=128)\n",
    "dataset.num_classes"
   ]
  },
  {
   "cell_type": "code",
   "execution_count": 3,
   "metadata": {},
   "outputs": [
    {
     "data": {
      "text/plain": [
       "Mutagenicity(4337)"
      ]
     },
     "execution_count": 3,
     "metadata": {},
     "output_type": "execute_result"
    }
   ],
   "source": [
    "dataset"
   ]
  },
  {
   "cell_type": "markdown",
   "metadata": {
    "id": "g35SSQ3oukNM"
   },
   "source": [
    "## Visualizing the data\n",
    "\n",
    "We define some utility functions for visualizing the molecules and draw a random molecule."
   ]
  },
  {
   "cell_type": "code",
   "execution_count": 32,
   "metadata": {
    "id": "9Hh3YNASuYxm"
   },
   "outputs": [],
   "source": [
    "import networkx as nx\n",
    "import numpy as np\n",
    "\n",
    "from torch_geometric.utils import to_networkx\n",
    "\n",
    "\n",
    "def draw_molecule(g, edge_mask=None, draw_edge_labels=False):\n",
    "    g = g.copy().to_undirected()\n",
    "    node_labels = {}\n",
    "    for u, data in g.nodes(data=True):\n",
    "        node_labels[u] = data['name']\n",
    "    pos = nx.planar_layout(g)\n",
    "    pos = nx.spring_layout(g, pos=pos)\n",
    "    if edge_mask is None:\n",
    "        edge_color = 'black'\n",
    "        widths = None\n",
    "    else:\n",
    "        edge_color = [edge_mask[(u, v)] for u, v in g.edges()]\n",
    "        widths = [x * 10 for x in edge_color]\n",
    "    nx.draw(g, pos=pos, labels=node_labels, width=widths,\n",
    "            edge_color=edge_color, edge_cmap=plt.cm.Blues,\n",
    "            node_color='azure')\n",
    "    \n",
    "    if draw_edge_labels and edge_mask is not None:\n",
    "        edge_labels = {k: ('%.2f' % v) for k, v in edge_mask.items()}    \n",
    "        nx.draw_networkx_edge_labels(g, pos, edge_labels=edge_labels,\n",
    "                                    font_color='red')\n",
    "    plt.show()\n",
    "\n",
    "\n",
    "def to_molecule(data):\n",
    "    ATOM_MAP = ['C', 'O', 'Cl', 'H', 'N', 'F',\n",
    "                'Br', 'S', 'P', 'I', 'Na', 'K', 'Li', 'Ca']\n",
    "    g = to_networkx(data, node_attrs=['x'])\n",
    "    for u, data in g.nodes(data=True):\n",
    "        #print('u=',u, ' data=', data)\n",
    "        data['name'] = ATOM_MAP[data['x'].index(1.0)]\n",
    "        del data['x']\n",
    "    print(\"g=\",g)\n",
    "    \n",
    "    return g\n"
   ]
  },
  {
   "cell_type": "markdown",
   "metadata": {
    "id": "cJ3JuTH1vV1V"
   },
   "source": [
    "## Sample visualization\n",
    "\n",
    "We sample a single molecule from train_dataset and visualize it"
   ]
  },
  {
   "cell_type": "code",
   "execution_count": 33,
   "metadata": {
    "colab": {
     "base_uri": "https://localhost:8080/",
     "height": 391
    },
    "executionInfo": {
     "elapsed": 976,
     "status": "ok",
     "timestamp": 1631264102939,
     "user": {
      "displayName": "Matthias Fey",
      "photoUrl": "https://lh3.googleusercontent.com/a/default-user=s64",
      "userId": "07888747774515796046"
     },
     "user_tz": -120
    },
    "id": "4Z2uE7zVuhXU",
    "outputId": "14795a19-032e-4836-b07d-b5fe6b594e7f"
   },
   "outputs": [
    {
     "name": "stdout",
     "output_type": "stream",
     "text": [
      "Data(edge_index=[2, 80], x=[37, 14], edge_attr=[80, 3], y=[1])\n",
      "g= DiGraph with 37 nodes and 80 edges\n"
     ]
    },
    {
     "data": {
      "image/png": "[encoded data removed]",
      "text/plain": [
       "<Figure size 720x360 with 1 Axes>"
      ]
     },
     "metadata": {},
     "output_type": "display_data"
    }
   ],
   "source": [
    "import random\n",
    "\n",
    "data = random.choice([t for t in train_dataset])\n",
    "print(data)\n",
    "mol = to_molecule(data)\n",
    "plt.figure(figsize=(10, 5))\n",
    "draw_molecule(mol)"
   ]
  },
  {
   "cell_type": "code",
   "execution_count": 37,
   "metadata": {},
   "outputs": [
    {
     "data": {
      "text/plain": [
       "14"
      ]
     },
     "execution_count": 37,
     "metadata": {},
     "output_type": "execute_result"
    }
   ],
   "source": [
    "dataset.num_features"
   ]
  },
  {
   "cell_type": "markdown",
   "metadata": {
    "id": "6kZo9g1hwCGG"
   },
   "source": [
    "## Training the model\n",
    "\n",
    "In the next section, we train a GNN model with 5 convolution layers. We use GraphConv which supports `edge_weight` as a parameter. Many convolution layers in Pytorch Geometric supoort this argument."
   ]
  },
  {
   "cell_type": "markdown",
   "metadata": {
    "id": "GBVIOfMCCHAb"
   },
   "source": [
    "### Define the model"
   ]
  },
  {
   "cell_type": "code",
   "execution_count": 38,
   "metadata": {
    "id": "iI1qpFUhrA2p"
   },
   "outputs": [],
   "source": [
    "import torch\n",
    "from torch.nn import Linear\n",
    "import torch.nn.functional as F\n",
    "\n",
    "from torch_geometric.nn import GraphConv, global_add_pool\n",
    "\n",
    "class Net(torch.nn.Module):\n",
    "    def __init__(self, dim):\n",
    "        super(Net, self).__init__()\n",
    "\n",
    "        num_features = dataset.num_features\n",
    "        self.dim = dim\n",
    "\n",
    "        self.conv1 = GraphConv(num_features, dim)\n",
    "        self.conv2 = GraphConv(dim, dim)\n",
    "        self.conv3 = GraphConv(dim, dim)\n",
    "        self.conv4 = GraphConv(dim, dim)\n",
    "        self.conv5 = GraphConv(dim, dim)\n",
    "\n",
    "        self.lin1 = Linear(dim, dim)\n",
    "        self.lin2 = Linear(dim, dataset.num_classes)\n",
    "\n",
    "    def forward(self, x, edge_index, batch, edge_weight=None):\n",
    "        x = self.conv1(x, edge_index, edge_weight).relu()\n",
    "        x = self.conv2(x, edge_index, edge_weight).relu()\n",
    "        x = self.conv3(x, edge_index, edge_weight).relu()\n",
    "        x = self.conv4(x, edge_index, edge_weight).relu()\n",
    "        x = self.conv5(x, edge_index, edge_weight).relu()\n",
    "        x = global_add_pool(x, batch)\n",
    "        x = self.lin1(x).relu()\n",
    "        x = F.dropout(x, p=0.5, training=self.training)\n",
    "        x = self.lin2(x)\n",
    "        return F.log_softmax(x, dim=-1)\n"
   ]
  },
  {
   "cell_type": "markdown",
   "metadata": {
    "id": "L3WOZ40OCKO5"
   },
   "source": [
    "### Define train and test functions"
   ]
  },
  {
   "cell_type": "code",
   "execution_count": 40,
   "metadata": {},
   "outputs": [
    {
     "name": "stdout",
     "output_type": "stream",
     "text": [
      "DataBatch(edge_index=[2, 8046], x=[4289, 14], edge_attr=[8046, 3], y=[128], batch=[4289], ptr=[129])\n"
     ]
    }
   ],
   "source": [
    "for data in train_loader:\n",
    "    print(data)\n",
    "    break"
   ]
  },
  {
   "cell_type": "code",
   "execution_count": 39,
   "metadata": {
    "id": "ExNsODp3rKjN"
   },
   "outputs": [],
   "source": [
    "def train(epoch):\n",
    "    model.train()\n",
    "\n",
    "    if epoch == 51:\n",
    "        for param_group in optimizer.param_groups:\n",
    "            param_group['lr'] = 0.5 * param_group['lr']\n",
    "\n",
    "    loss_all = 0\n",
    "    for data in train_loader:\n",
    "        data = data.to(device)\n",
    "        optimizer.zero_grad()\n",
    "        output = model(data.x, data.edge_index, data.batch)\n",
    "        loss = F.nll_loss(output, data.y)\n",
    "        loss.backward()\n",
    "        loss_all += loss.item() * data.num_graphs\n",
    "        optimizer.step()\n",
    "    return loss_all / len(train_dataset)\n",
    "\n",
    "\n",
    "def test(loader):\n",
    "    model.eval()\n",
    "\n",
    "    correct = 0\n",
    "    for data in loader:\n",
    "        data = data.to(device)\n",
    "        output = model(data.x, data.edge_index, data.batch)\n",
    "        pred = output.max(dim=1)[1]\n",
    "        correct += pred.eq(data.y).sum().item()\n",
    "    return correct / len(loader.dataset)"
   ]
  },
  {
   "cell_type": "markdown",
   "metadata": {
    "id": "rsv9CQ6hCNMI"
   },
   "source": [
    "### Train the model for 100 epochs\n",
    "\n",
    "The accuracy should be around 80% in the end"
   ]
  },
  {
   "cell_type": "code",
   "execution_count": 41,
   "metadata": {
    "colab": {
     "base_uri": "https://localhost:8080/"
    },
    "executionInfo": {
     "elapsed": 185867,
     "status": "ok",
     "timestamp": 1631264289135,
     "user": {
      "displayName": "Matthias Fey",
      "photoUrl": "https://lh3.googleusercontent.com/a/default-user=s64",
      "userId": "07888747774515796046"
     },
     "user_tz": -120
    },
    "id": "4imSoTlMrQdN",
    "outputId": "410f11c4-8fac-4086-80a1-46bd4c0a8709"
   },
   "outputs": [
    {
     "name": "stdout",
     "output_type": "stream",
     "text": [
      "Epoch: 001, Loss: 0.8916, Train Acc: 0.5538, Test Acc: 0.5727\n",
      "Epoch: 002, Loss: 0.6278, Train Acc: 0.6778, Test Acc: 0.6697\n",
      "Epoch: 003, Loss: 0.6066, Train Acc: 0.6606, Test Acc: 0.6790\n",
      "Epoch: 004, Loss: 0.5866, Train Acc: 0.7085, Test Acc: 0.6928\n",
      "Epoch: 005, Loss: 0.5696, Train Acc: 0.7354, Test Acc: 0.7044\n",
      "Epoch: 006, Loss: 0.5603, Train Acc: 0.7451, Test Acc: 0.7090\n",
      "Epoch: 007, Loss: 0.5401, Train Acc: 0.7446, Test Acc: 0.7413\n",
      "Epoch: 008, Loss: 0.5369, Train Acc: 0.7626, Test Acc: 0.7483\n",
      "Epoch: 009, Loss: 0.5220, Train Acc: 0.7608, Test Acc: 0.7552\n",
      "Epoch: 010, Loss: 0.5268, Train Acc: 0.7666, Test Acc: 0.7413\n",
      "Epoch: 011, Loss: 0.5199, Train Acc: 0.7577, Test Acc: 0.7252\n",
      "Epoch: 012, Loss: 0.5144, Train Acc: 0.7846, Test Acc: 0.7806\n",
      "Epoch: 013, Loss: 0.4900, Train Acc: 0.7853, Test Acc: 0.7737\n",
      "Epoch: 014, Loss: 0.4966, Train Acc: 0.7848, Test Acc: 0.7760\n",
      "Epoch: 015, Loss: 0.4850, Train Acc: 0.7841, Test Acc: 0.7737\n",
      "Epoch: 016, Loss: 0.4857, Train Acc: 0.7943, Test Acc: 0.7783\n",
      "Epoch: 017, Loss: 0.4720, Train Acc: 0.8015, Test Acc: 0.7760\n",
      "Epoch: 018, Loss: 0.4679, Train Acc: 0.8040, Test Acc: 0.7921\n",
      "Epoch: 019, Loss: 0.4675, Train Acc: 0.8051, Test Acc: 0.7644\n",
      "Epoch: 020, Loss: 0.4588, Train Acc: 0.8046, Test Acc: 0.7852\n",
      "Epoch: 021, Loss: 0.4672, Train Acc: 0.7989, Test Acc: 0.7783\n",
      "Epoch: 022, Loss: 0.4621, Train Acc: 0.8017, Test Acc: 0.7921\n",
      "Epoch: 023, Loss: 0.4637, Train Acc: 0.8040, Test Acc: 0.7968\n",
      "Epoch: 024, Loss: 0.4488, Train Acc: 0.8125, Test Acc: 0.7968\n",
      "Epoch: 025, Loss: 0.4530, Train Acc: 0.7928, Test Acc: 0.7667\n",
      "Epoch: 026, Loss: 0.4434, Train Acc: 0.8148, Test Acc: 0.7898\n",
      "Epoch: 027, Loss: 0.4407, Train Acc: 0.8140, Test Acc: 0.7945\n",
      "Epoch: 028, Loss: 0.4337, Train Acc: 0.8094, Test Acc: 0.7829\n",
      "Epoch: 029, Loss: 0.4321, Train Acc: 0.8222, Test Acc: 0.7921\n",
      "Epoch: 030, Loss: 0.4278, Train Acc: 0.8222, Test Acc: 0.7968\n",
      "Epoch: 031, Loss: 0.4255, Train Acc: 0.8207, Test Acc: 0.7898\n",
      "Epoch: 032, Loss: 0.4214, Train Acc: 0.8210, Test Acc: 0.7968\n",
      "Epoch: 033, Loss: 0.4137, Train Acc: 0.8135, Test Acc: 0.7898\n",
      "Epoch: 034, Loss: 0.4188, Train Acc: 0.8158, Test Acc: 0.7991\n",
      "Epoch: 035, Loss: 0.4178, Train Acc: 0.8274, Test Acc: 0.7991\n",
      "Epoch: 036, Loss: 0.4106, Train Acc: 0.8105, Test Acc: 0.7829\n",
      "Epoch: 037, Loss: 0.4000, Train Acc: 0.8276, Test Acc: 0.7921\n",
      "Epoch: 038, Loss: 0.3968, Train Acc: 0.8315, Test Acc: 0.7921\n",
      "Epoch: 039, Loss: 0.3988, Train Acc: 0.8322, Test Acc: 0.7921\n",
      "Epoch: 040, Loss: 0.3958, Train Acc: 0.8271, Test Acc: 0.7875\n",
      "Epoch: 041, Loss: 0.4012, Train Acc: 0.8233, Test Acc: 0.7875\n",
      "Epoch: 042, Loss: 0.3970, Train Acc: 0.8448, Test Acc: 0.7945\n",
      "Epoch: 043, Loss: 0.3863, Train Acc: 0.8404, Test Acc: 0.7991\n",
      "Epoch: 044, Loss: 0.4011, Train Acc: 0.8522, Test Acc: 0.7875\n",
      "Epoch: 045, Loss: 0.3834, Train Acc: 0.8404, Test Acc: 0.7968\n",
      "Epoch: 046, Loss: 0.3751, Train Acc: 0.8471, Test Acc: 0.7945\n",
      "Epoch: 047, Loss: 0.3715, Train Acc: 0.8463, Test Acc: 0.8083\n",
      "Epoch: 048, Loss: 0.3805, Train Acc: 0.8553, Test Acc: 0.8037\n",
      "Epoch: 049, Loss: 0.3747, Train Acc: 0.8435, Test Acc: 0.7991\n",
      "Epoch: 050, Loss: 0.3714, Train Acc: 0.8589, Test Acc: 0.8037\n",
      "Epoch: 051, Loss: 0.3598, Train Acc: 0.8573, Test Acc: 0.8060\n",
      "Epoch: 052, Loss: 0.3625, Train Acc: 0.8496, Test Acc: 0.8014\n",
      "Epoch: 053, Loss: 0.3581, Train Acc: 0.8630, Test Acc: 0.8129\n",
      "Epoch: 054, Loss: 0.3560, Train Acc: 0.8619, Test Acc: 0.8152\n",
      "Epoch: 055, Loss: 0.3554, Train Acc: 0.8645, Test Acc: 0.8106\n",
      "Epoch: 056, Loss: 0.3475, Train Acc: 0.8612, Test Acc: 0.7991\n",
      "Epoch: 057, Loss: 0.3551, Train Acc: 0.8653, Test Acc: 0.8152\n",
      "Epoch: 058, Loss: 0.3483, Train Acc: 0.8642, Test Acc: 0.8106\n",
      "Epoch: 059, Loss: 0.3518, Train Acc: 0.8665, Test Acc: 0.8152\n",
      "Epoch: 060, Loss: 0.3565, Train Acc: 0.8678, Test Acc: 0.8152\n",
      "Epoch: 061, Loss: 0.3483, Train Acc: 0.8663, Test Acc: 0.8152\n",
      "Epoch: 062, Loss: 0.3450, Train Acc: 0.8724, Test Acc: 0.8176\n",
      "Epoch: 063, Loss: 0.3465, Train Acc: 0.8676, Test Acc: 0.8199\n",
      "Epoch: 064, Loss: 0.3498, Train Acc: 0.8653, Test Acc: 0.8199\n",
      "Epoch: 065, Loss: 0.3441, Train Acc: 0.8650, Test Acc: 0.8060\n",
      "Epoch: 066, Loss: 0.3388, Train Acc: 0.8701, Test Acc: 0.8245\n",
      "Epoch: 067, Loss: 0.3392, Train Acc: 0.8671, Test Acc: 0.8083\n",
      "Epoch: 068, Loss: 0.3446, Train Acc: 0.8683, Test Acc: 0.8083\n",
      "Epoch: 069, Loss: 0.3420, Train Acc: 0.8727, Test Acc: 0.8152\n",
      "Epoch: 070, Loss: 0.3318, Train Acc: 0.8694, Test Acc: 0.8129\n",
      "Epoch: 071, Loss: 0.3318, Train Acc: 0.8637, Test Acc: 0.8014\n",
      "Epoch: 072, Loss: 0.3309, Train Acc: 0.8712, Test Acc: 0.8037\n",
      "Epoch: 073, Loss: 0.3185, Train Acc: 0.8770, Test Acc: 0.8152\n",
      "Epoch: 074, Loss: 0.3210, Train Acc: 0.8753, Test Acc: 0.8152\n",
      "Epoch: 075, Loss: 0.3225, Train Acc: 0.8722, Test Acc: 0.8014\n",
      "Epoch: 076, Loss: 0.3199, Train Acc: 0.8794, Test Acc: 0.8106\n",
      "Epoch: 077, Loss: 0.3165, Train Acc: 0.8730, Test Acc: 0.8106\n",
      "Epoch: 078, Loss: 0.3201, Train Acc: 0.8745, Test Acc: 0.8176\n",
      "Epoch: 079, Loss: 0.3195, Train Acc: 0.8794, Test Acc: 0.8037\n",
      "Epoch: 080, Loss: 0.3168, Train Acc: 0.8737, Test Acc: 0.8037\n",
      "Epoch: 081, Loss: 0.3175, Train Acc: 0.8794, Test Acc: 0.8060\n",
      "Epoch: 082, Loss: 0.3275, Train Acc: 0.8765, Test Acc: 0.7991\n",
      "Epoch: 083, Loss: 0.3214, Train Acc: 0.8788, Test Acc: 0.8083\n",
      "Epoch: 084, Loss: 0.3096, Train Acc: 0.8773, Test Acc: 0.7945\n",
      "Epoch: 085, Loss: 0.3190, Train Acc: 0.8819, Test Acc: 0.8060\n",
      "Epoch: 086, Loss: 0.3055, Train Acc: 0.8817, Test Acc: 0.7991\n",
      "Epoch: 087, Loss: 0.3059, Train Acc: 0.8829, Test Acc: 0.8083\n",
      "Epoch: 088, Loss: 0.3112, Train Acc: 0.8770, Test Acc: 0.8014\n",
      "Epoch: 089, Loss: 0.3096, Train Acc: 0.8842, Test Acc: 0.8106\n",
      "Epoch: 090, Loss: 0.3075, Train Acc: 0.8822, Test Acc: 0.8106\n",
      "Epoch: 091, Loss: 0.2973, Train Acc: 0.8876, Test Acc: 0.8129\n",
      "Epoch: 092, Loss: 0.2905, Train Acc: 0.8837, Test Acc: 0.8083\n",
      "Epoch: 093, Loss: 0.3072, Train Acc: 0.8842, Test Acc: 0.8176\n",
      "Epoch: 094, Loss: 0.3020, Train Acc: 0.8829, Test Acc: 0.8176\n",
      "Epoch: 095, Loss: 0.3001, Train Acc: 0.8893, Test Acc: 0.8106\n",
      "Epoch: 096, Loss: 0.3008, Train Acc: 0.8886, Test Acc: 0.8129\n",
      "Epoch: 097, Loss: 0.2977, Train Acc: 0.8881, Test Acc: 0.8106\n",
      "Epoch: 098, Loss: 0.2964, Train Acc: 0.8899, Test Acc: 0.8199\n",
      "Epoch: 099, Loss: 0.2914, Train Acc: 0.8863, Test Acc: 0.8199\n",
      "Epoch: 100, Loss: 0.2898, Train Acc: 0.8891, Test Acc: 0.8222\n",
      "Epoch: 101, Loss: 0.2921, Train Acc: 0.8850, Test Acc: 0.8083\n",
      "Epoch: 102, Loss: 0.2882, Train Acc: 0.8868, Test Acc: 0.8060\n",
      "Epoch: 103, Loss: 0.2854, Train Acc: 0.8878, Test Acc: 0.8291\n",
      "Epoch: 104, Loss: 0.2929, Train Acc: 0.8865, Test Acc: 0.8222\n",
      "Epoch: 105, Loss: 0.2895, Train Acc: 0.8827, Test Acc: 0.7945\n",
      "Epoch: 106, Loss: 0.2924, Train Acc: 0.8847, Test Acc: 0.8152\n",
      "Epoch: 107, Loss: 0.2888, Train Acc: 0.8768, Test Acc: 0.7991\n",
      "Epoch: 108, Loss: 0.2945, Train Acc: 0.8724, Test Acc: 0.8037\n",
      "Epoch: 109, Loss: 0.3051, Train Acc: 0.8758, Test Acc: 0.8060\n",
      "Epoch: 110, Loss: 0.2966, Train Acc: 0.8704, Test Acc: 0.7968\n",
      "Epoch: 111, Loss: 0.3131, Train Acc: 0.8791, Test Acc: 0.8037\n",
      "Epoch: 112, Loss: 0.2981, Train Acc: 0.8730, Test Acc: 0.8083\n",
      "Epoch: 113, Loss: 0.2976, Train Acc: 0.8691, Test Acc: 0.8014\n",
      "Epoch: 114, Loss: 0.3039, Train Acc: 0.8783, Test Acc: 0.7875\n",
      "Epoch: 115, Loss: 0.3033, Train Acc: 0.8858, Test Acc: 0.7921\n",
      "Epoch: 116, Loss: 0.2952, Train Acc: 0.8855, Test Acc: 0.7898\n",
      "Epoch: 117, Loss: 0.3019, Train Acc: 0.8837, Test Acc: 0.8037\n",
      "Epoch: 118, Loss: 0.2930, Train Acc: 0.8973, Test Acc: 0.8222\n",
      "Epoch: 119, Loss: 0.2922, Train Acc: 0.9001, Test Acc: 0.8083\n",
      "Epoch: 120, Loss: 0.2898, Train Acc: 0.8998, Test Acc: 0.8222\n",
      "Epoch: 121, Loss: 0.2907, Train Acc: 0.9004, Test Acc: 0.8199\n",
      "Epoch: 122, Loss: 0.2748, Train Acc: 0.9014, Test Acc: 0.8129\n",
      "Epoch: 123, Loss: 0.2705, Train Acc: 0.9055, Test Acc: 0.8083\n",
      "Epoch: 124, Loss: 0.2751, Train Acc: 0.9027, Test Acc: 0.8129\n",
      "Epoch: 125, Loss: 0.2706, Train Acc: 0.9057, Test Acc: 0.8176\n",
      "Epoch: 126, Loss: 0.2692, Train Acc: 0.9034, Test Acc: 0.8152\n",
      "Epoch: 127, Loss: 0.2631, Train Acc: 0.9073, Test Acc: 0.8152\n",
      "Epoch: 128, Loss: 0.2584, Train Acc: 0.9037, Test Acc: 0.8106\n",
      "Epoch: 129, Loss: 0.2674, Train Acc: 0.9006, Test Acc: 0.7991\n",
      "Epoch: 130, Loss: 0.2676, Train Acc: 0.9011, Test Acc: 0.8129\n",
      "Epoch: 131, Loss: 0.2754, Train Acc: 0.9039, Test Acc: 0.8222\n",
      "Epoch: 132, Loss: 0.2649, Train Acc: 0.9055, Test Acc: 0.8291\n",
      "Epoch: 133, Loss: 0.2592, Train Acc: 0.9055, Test Acc: 0.8152\n"
     ]
    },
    {
     "name": "stdout",
     "output_type": "stream",
     "text": [
      "Epoch: 134, Loss: 0.2574, Train Acc: 0.9088, Test Acc: 0.8222\n",
      "Epoch: 135, Loss: 0.2632, Train Acc: 0.9032, Test Acc: 0.8152\n",
      "Epoch: 136, Loss: 0.2602, Train Acc: 0.9101, Test Acc: 0.8129\n",
      "Epoch: 137, Loss: 0.2582, Train Acc: 0.9027, Test Acc: 0.8129\n",
      "Epoch: 138, Loss: 0.2567, Train Acc: 0.9098, Test Acc: 0.8083\n",
      "Epoch: 139, Loss: 0.2491, Train Acc: 0.9088, Test Acc: 0.8060\n",
      "Epoch: 140, Loss: 0.2527, Train Acc: 0.9101, Test Acc: 0.8014\n",
      "Epoch: 141, Loss: 0.2581, Train Acc: 0.9065, Test Acc: 0.8083\n",
      "Epoch: 142, Loss: 0.2521, Train Acc: 0.9065, Test Acc: 0.8083\n",
      "Epoch: 143, Loss: 0.2620, Train Acc: 0.8978, Test Acc: 0.8060\n",
      "Epoch: 144, Loss: 0.2585, Train Acc: 0.9101, Test Acc: 0.8129\n",
      "Epoch: 145, Loss: 0.2555, Train Acc: 0.8942, Test Acc: 0.8199\n",
      "Epoch: 146, Loss: 0.2652, Train Acc: 0.9011, Test Acc: 0.8083\n",
      "Epoch: 147, Loss: 0.2575, Train Acc: 0.9103, Test Acc: 0.8083\n",
      "Epoch: 148, Loss: 0.2546, Train Acc: 0.9055, Test Acc: 0.8060\n",
      "Epoch: 149, Loss: 0.2535, Train Acc: 0.9050, Test Acc: 0.8060\n",
      "Epoch: 150, Loss: 0.2533, Train Acc: 0.9096, Test Acc: 0.8291\n",
      "Epoch: 151, Loss: 0.2439, Train Acc: 0.9027, Test Acc: 0.8037\n",
      "Epoch: 152, Loss: 0.2478, Train Acc: 0.8978, Test Acc: 0.8060\n",
      "Epoch: 153, Loss: 0.2513, Train Acc: 0.9129, Test Acc: 0.8060\n",
      "Epoch: 154, Loss: 0.2409, Train Acc: 0.9070, Test Acc: 0.8106\n",
      "Epoch: 155, Loss: 0.2467, Train Acc: 0.9116, Test Acc: 0.8199\n",
      "Epoch: 156, Loss: 0.2526, Train Acc: 0.8991, Test Acc: 0.8037\n",
      "Epoch: 157, Loss: 0.2443, Train Acc: 0.9080, Test Acc: 0.7991\n",
      "Epoch: 158, Loss: 0.2363, Train Acc: 0.9083, Test Acc: 0.8129\n",
      "Epoch: 159, Loss: 0.2393, Train Acc: 0.9109, Test Acc: 0.8176\n",
      "Epoch: 160, Loss: 0.2454, Train Acc: 0.9139, Test Acc: 0.8199\n",
      "Epoch: 161, Loss: 0.2345, Train Acc: 0.9083, Test Acc: 0.8152\n",
      "Epoch: 162, Loss: 0.2356, Train Acc: 0.9114, Test Acc: 0.8176\n",
      "Epoch: 163, Loss: 0.2372, Train Acc: 0.9121, Test Acc: 0.8152\n",
      "Epoch: 164, Loss: 0.2321, Train Acc: 0.9121, Test Acc: 0.8060\n",
      "Epoch: 165, Loss: 0.2350, Train Acc: 0.9178, Test Acc: 0.8152\n",
      "Epoch: 166, Loss: 0.2303, Train Acc: 0.9142, Test Acc: 0.8176\n",
      "Epoch: 167, Loss: 0.2282, Train Acc: 0.9109, Test Acc: 0.8152\n",
      "Epoch: 168, Loss: 0.2321, Train Acc: 0.9019, Test Acc: 0.8176\n",
      "Epoch: 169, Loss: 0.2439, Train Acc: 0.9111, Test Acc: 0.8106\n",
      "Epoch: 170, Loss: 0.2359, Train Acc: 0.9132, Test Acc: 0.8129\n",
      "Epoch: 171, Loss: 0.2332, Train Acc: 0.9109, Test Acc: 0.8199\n",
      "Epoch: 172, Loss: 0.2448, Train Acc: 0.9129, Test Acc: 0.8222\n",
      "Epoch: 173, Loss: 0.2511, Train Acc: 0.9157, Test Acc: 0.8291\n",
      "Epoch: 174, Loss: 0.2323, Train Acc: 0.9168, Test Acc: 0.8152\n",
      "Epoch: 175, Loss: 0.2281, Train Acc: 0.9147, Test Acc: 0.8222\n",
      "Epoch: 176, Loss: 0.2245, Train Acc: 0.9137, Test Acc: 0.8337\n",
      "Epoch: 177, Loss: 0.2268, Train Acc: 0.9201, Test Acc: 0.8176\n",
      "Epoch: 178, Loss: 0.2211, Train Acc: 0.9160, Test Acc: 0.8245\n",
      "Epoch: 179, Loss: 0.2155, Train Acc: 0.9157, Test Acc: 0.8314\n",
      "Epoch: 180, Loss: 0.2234, Train Acc: 0.9155, Test Acc: 0.8383\n",
      "Epoch: 181, Loss: 0.2379, Train Acc: 0.9114, Test Acc: 0.8176\n",
      "Epoch: 182, Loss: 0.2418, Train Acc: 0.9196, Test Acc: 0.8176\n",
      "Epoch: 183, Loss: 0.2347, Train Acc: 0.9109, Test Acc: 0.8083\n",
      "Epoch: 184, Loss: 0.2228, Train Acc: 0.9121, Test Acc: 0.8199\n",
      "Epoch: 185, Loss: 0.2242, Train Acc: 0.9114, Test Acc: 0.8360\n",
      "Epoch: 186, Loss: 0.2255, Train Acc: 0.9173, Test Acc: 0.8337\n",
      "Epoch: 187, Loss: 0.2252, Train Acc: 0.9139, Test Acc: 0.8222\n",
      "Epoch: 188, Loss: 0.2195, Train Acc: 0.9188, Test Acc: 0.8337\n",
      "Epoch: 189, Loss: 0.2192, Train Acc: 0.9083, Test Acc: 0.8268\n",
      "Epoch: 190, Loss: 0.2356, Train Acc: 0.9111, Test Acc: 0.8268\n",
      "Epoch: 191, Loss: 0.2327, Train Acc: 0.9088, Test Acc: 0.8106\n",
      "Epoch: 192, Loss: 0.2264, Train Acc: 0.9155, Test Acc: 0.8199\n",
      "Epoch: 193, Loss: 0.2271, Train Acc: 0.9091, Test Acc: 0.8245\n",
      "Epoch: 194, Loss: 0.2220, Train Acc: 0.9062, Test Acc: 0.8083\n",
      "Epoch: 195, Loss: 0.2587, Train Acc: 0.9014, Test Acc: 0.8268\n",
      "Epoch: 196, Loss: 0.2451, Train Acc: 0.9006, Test Acc: 0.7921\n",
      "Epoch: 197, Loss: 0.2262, Train Acc: 0.9155, Test Acc: 0.8083\n",
      "Epoch: 198, Loss: 0.2198, Train Acc: 0.9173, Test Acc: 0.8268\n",
      "Epoch: 199, Loss: 0.2164, Train Acc: 0.9139, Test Acc: 0.8176\n",
      "Epoch: 200, Loss: 0.2209, Train Acc: 0.9124, Test Acc: 0.8152\n"
     ]
    }
   ],
   "source": [
    "device = torch.device('cuda' if torch.cuda.is_available() else 'cpu')\n",
    "#device = torch.device('cpu')\n",
    "model = Net(dim=32).to(device)\n",
    "optimizer = torch.optim.Adam(model.parameters(), lr=0.001)\n",
    "\n",
    "for epoch in range(1, 201):\n",
    "    loss = train(epoch)\n",
    "    train_acc = test(train_loader)\n",
    "    test_acc = test(test_loader)\n",
    "    print(f'Epoch: {epoch:03d}, Loss: {loss:.4f}, '\n",
    "          f'Train Acc: {train_acc:.4f}, Test Acc: {test_acc:.4f}')\n"
   ]
  },
  {
   "cell_type": "markdown",
   "metadata": {
    "id": "PzX9xwFxCTff"
   },
   "source": [
    "## Explaining the predictions\n",
    "\n",
    "Now we look at two popular attribution methods. First, we calculate the gradient of the output with respect to the edge weights $w_{e_i}$. Edge weights are initially one for all edges.\n",
    "For the saliency method, we use the absolute value of the gradient as the attribution value for each edge:\n",
    "\n",
    "$$\n",
    "Attribution_{e_i} = |\\frac{\\partial F(x)}{\\partial w_{e_i}}|\n",
    "$$\n",
    "\n",
    "Where $x$ is the input and $F(x)$ is the output of the GNN model on input $x$.\n",
    "\n",
    "For Integrated Gradients method, we interpolate between the current input and a baseline input where the weight of all edges is zero and accumulate the gradient values for each edge:\n",
    "\n",
    "$$\n",
    "Attribution_{e_i} = \\int_{\\alpha =0}^1 \\frac{\\partial F(x_{\\alpha})}{\\partial w_{e_i}} d\\alpha\n",
    "$$\n",
    "\n",
    "Where $x_{\\alpha}$ is the same as the original input graph but the weight of all edges is set to $\\alpha$. Integrated Gradients complete formulation is more complicated but since our initial edge weights are equal to one and the baseline is zero, it can be simplified to the formulation above. You can read more about this method [here](https://arxiv.org/abs/1703.01365). Of course, this can not be calculated directly and is approximated by a discrete sum.\n",
    "\n",
    "We use the [captum](https://captum.ai/) library for calculating the attribution values. We define the `model_forward` function which calculates the `batch` argument assuming that we are only explaining a single graph at a time.\n",
    "\n"
   ]
  },
  {
   "cell_type": "code",
   "execution_count": 42,
   "metadata": {
    "id": "Wz6B1NgorzAX"
   },
   "outputs": [],
   "source": [
    "from captum.attr import Saliency, IntegratedGradients\n",
    "\n",
    "def model_forward(edge_mask, data):\n",
    "    batch = torch.zeros(data.x.shape[0], dtype=int).to(device)\n",
    "    out = model(data.x, data.edge_index, batch, edge_mask)\n",
    "    return out\n",
    "\n",
    "\n",
    "def explain(method, data, target=0):\n",
    "    input_mask = torch.ones(data.edge_index.shape[1]).requires_grad_(True).to(device)\n",
    "    if method == 'ig':\n",
    "        ig = IntegratedGradients(model_forward)\n",
    "        mask = ig.attribute(input_mask, target=target,\n",
    "                            additional_forward_args=(data,),\n",
    "                            internal_batch_size=data.edge_index.shape[1])\n",
    "    elif method == 'saliency':\n",
    "        saliency = Saliency(model_forward)\n",
    "        mask = saliency.attribute(input_mask, target=target,\n",
    "                                  additional_forward_args=(data,))\n",
    "    else:\n",
    "        raise Exception('Unknown explanation method')\n",
    "\n",
    "    edge_mask = np.abs(mask.cpu().detach().numpy())\n",
    "    if edge_mask.max() > 0:  # avoid division by zero\n",
    "        edge_mask = edge_mask / edge_mask.max()\n",
    "    return edge_mask"
   ]
  },
  {
   "cell_type": "markdown",
   "metadata": {
    "id": "0FPGLRtSFacR"
   },
   "source": [
    "Finally we take a random sample from the test dataset and run the explanation methods. For a simpler visualization, we make the graph undirected and merge the explanations of each edge in both directions.\n",
    "\n",
    "It is known that NO2 substructure makes the molecules mutagenic in many cases and you can verify this by the model explanations.\n",
    "\n",
    "Mutagenic molecules have label 0 in this dataset and we only sample from those molecules but you can change the code and see the explanations for the other class as well.\n",
    "\n",
    "In this visualization, edge colors and thickness represent the importance. You can also see the numeric value by passing `draw_edge_labels` to `draw_molecule` function.\n",
    "\n",
    "As you can see Integrated Gradients tend to create more accurate explanations."
   ]
  },
  {
   "cell_type": "code",
   "execution_count": 45,
   "metadata": {
    "colab": {
     "base_uri": "https://localhost:8080/",
     "height": 621
    },
    "executionInfo": {
     "elapsed": 923,
     "status": "ok",
     "timestamp": 1631264467516,
     "user": {
      "displayName": "Matthias Fey",
      "photoUrl": "https://lh3.googleusercontent.com/a/default-user=s64",
      "userId": "07888747774515796046"
     },
     "user_tz": -120
    },
    "id": "Z1mJVbKorh5y",
    "outputId": "771555b4-e2b0-4701-984c-88537723f10c",
    "scrolled": true
   },
   "outputs": [
    {
     "name": "stdout",
     "output_type": "stream",
     "text": [
      "g= DiGraph with 16 nodes and 32 edges\n"
     ]
    },
    {
     "data": {
      "image/png": "[encoded data removed]",
      "text/plain": [
       "<Figure size 720x360 with 1 Axes>"
      ]
     },
     "metadata": {},
     "output_type": "display_data"
    },
    {
     "data": {
      "image/png": "[encoded data removed]",
      "text/plain": [
       "<Figure size 720x360 with 1 Axes>"
      ]
     },
     "metadata": {},
     "output_type": "display_data"
    }
   ],
   "source": [
    "import random\n",
    "from collections import defaultdict\n",
    "\n",
    "def aggregate_edge_directions(edge_mask, data):\n",
    "    edge_mask_dict = defaultdict(float)\n",
    "    for val, u, v in list(zip(edge_mask, *data.edge_index)):\n",
    "        u, v = u.item(), v.item()\n",
    "        if u > v:\n",
    "            u, v = v, u\n",
    "        edge_mask_dict[(u, v)] += val\n",
    "    return edge_mask_dict\n",
    "    \n",
    "\n",
    "data = random.choice([t for t in test_dataset if not t.y.item()])\n",
    "data = data.to(device)\n",
    "mol = to_molecule(data)\n",
    "for title, method in [('Integrated Gradients', 'ig'), ('Saliency', 'saliency')]:\n",
    "    edge_mask = explain(method, data, target=0)\n",
    "    edge_mask_dict = aggregate_edge_directions(edge_mask, data)\n",
    "    plt.figure(figsize=(10, 5))\n",
    "    plt.title(title)\n",
    "    draw_molecule(mol, edge_mask_dict)"
   ]
  },
  {
   "cell_type": "code",
   "execution_count": null,
   "metadata": {},
   "outputs": [],
   "source": []
  },
  {
   "cell_type": "code",
   "execution_count": null,
   "metadata": {},
   "outputs": [],
   "source": []
  }
 ],
 "metadata": {
  "colab": {
   "collapsed_sections": [],
   "name": "Copy of 6. GNN Explanation.ipynb",
   "provenance": [
    {
     "file_id": "1fLJbFPz0yMCQg81DdCP5I8jXw9LoggKO",
     "timestamp": 1640104577148
    },
    {
     "file_id": "14OvFnAXggxB8vM4e8vSURUp1TaKnovzX",
     "timestamp": 1604936366881
    }
   ]
  },
  "kernelspec": {
   "display_name": "Python 3 (ipykernel)",
   "language": "python",
   "name": "python3"
  },
  "language_info": {
   "codemirror_mode": {
    "name": "ipython",
    "version": 3
   },
   "file_extension": ".py",
   "mimetype": "text/x-python",
   "name": "python",
   "nbconvert_exporter": "python",
   "pygments_lexer": "ipython3",
   "version": "3.8.0"
  }
 },
 "nbformat": 4,
 "nbformat_minor": 1
}
