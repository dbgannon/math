{
 "cells": [
  {
   "cell_type": "markdown",
   "metadata": {},
   "source": [
    "### Example of Regression for applied to the knot theory problem presented Davies, et.al. (Figure 1 from “Advancing mathematics by guiding human intuition with AI”. Nature, Vol 600, 2 December 2021)\n",
    "this is just an adaption of the standard MS notebook regression but using knot case data and some graphics at the end."
   ]
  },
  {
   "cell_type": "markdown",
   "metadata": {},
   "source": [
    "Copyright (c) Microsoft Corporation. All rights reserved.\n",
    "\n",
    "Licensed under the MIT License."
   ]
  },
  {
   "cell_type": "markdown",
   "metadata": {},
   "source": [
    "![Impressions](https://PixelServer20190423114238.azurewebsites.net/api/impressions/MachineLearningNotebooks/how-to-use-azureml/automated-machine-learning/regression/auto-ml-regression.png)"
   ]
  },
  {
   "cell_type": "markdown",
   "metadata": {},
   "source": [
    "# Automated Machine Learning\n",
    "_**Regression with Aml Compute**_\n",
    "\n",
    "## Contents\n",
    "1. [Introduction](#Introduction)\n",
    "1. [Setup](#Setup)\n",
    "1. [Data](#Data)\n",
    "1. [Train](#Train)\n",
    "1. [Results](#Results)\n",
    "1. [Test](#Test)\n",
    "\n"
   ]
  },
  {
   "cell_type": "markdown",
   "metadata": {},
   "source": [
    "## Introduction\n",
    "\n",
    "\n",
    "In this notebook you will:\n",
    "1. Create an `Experiment` in an existing `Workspace`.\n",
    "2. Configure AutoML using `AutoMLConfig`.\n",
    "3. Train the model using local compute.\n",
    "4. Explore the results.\n",
    "5. Test the best fitted model."
   ]
  },
  {
   "cell_type": "markdown",
   "metadata": {},
   "source": [
    "## Setup\n",
    "\n",
    "As part of the setup you have already created an Azure ML `Workspace` object. For Automated ML you will need to create an `Experiment` object, which is a named object in a `Workspace` used to run experiments."
   ]
  },
  {
   "cell_type": "code",
   "execution_count": 1,
   "metadata": {},
   "outputs": [],
   "source": [
    "#!pip install azureml"
   ]
  },
  {
   "cell_type": "code",
   "execution_count": 2,
   "metadata": {},
   "outputs": [
    {
     "name": "stderr",
     "output_type": "stream",
     "text": [
      "Failure while loading azureml_run_type_providers. Failed to load entrypoint hyperdrive = azureml.train.hyperdrive:HyperDriveRun._from_run_dto with exception (azureml-telemetry 1.36.0 (c:\\users\\denni\\anaconda3\\envs\\azureml2\\lib\\site-packages), Requirement.parse('azureml-telemetry~=1.35.0')).\n",
      "Failure while loading azureml_run_type_providers. Failed to load entrypoint automl = azureml.train.automl.run:AutoMLRun._from_run_dto with exception (azureml-dataset-runtime 1.36.0 (c:\\users\\denni\\anaconda3\\envs\\azureml2\\lib\\site-packages), Requirement.parse('azureml-dataset-runtime~=1.35.0')).\n"
     ]
    }
   ],
   "source": [
    "import logging\n",
    "\n",
    "from matplotlib import pyplot as plt\n",
    "import numpy as np\n",
    "import pandas as pd\n",
    " \n",
    "\n",
    "import azureml.core\n",
    "from azureml.core.experiment import Experiment\n",
    "from azureml.core.workspace import Workspace\n",
    "from azureml.core.dataset import Dataset\n",
    "from azureml.train.automl import AutoMLConfig\n"
   ]
  },
  {
   "cell_type": "markdown",
   "metadata": {},
   "source": [
    "This sample notebook may use features that are not available in previous versions of the Azure ML SDK."
   ]
  },
  {
   "cell_type": "code",
   "execution_count": 3,
   "metadata": {},
   "outputs": [
    {
     "name": "stdout",
     "output_type": "stream",
     "text": [
      "This notebook was created using version 1.35.0 of the Azure ML SDK\n",
      "You are currently using version 1.36.0 of the Azure ML SDK\n"
     ]
    }
   ],
   "source": [
    "print(\"This notebook was created using version 1.35.0 of the Azure ML SDK\")\n",
    "print(\"You are currently using version\", azureml.core.VERSION, \"of the Azure ML SDK\")"
   ]
  },
  {
   "cell_type": "code",
   "execution_count": 4,
   "metadata": {},
   "outputs": [
    {
     "data": {
      "text/html": [
       "<div>\n",
       "<style scoped>\n",
       "    .dataframe tbody tr th:only-of-type {\n",
       "        vertical-align: middle;\n",
       "    }\n",
       "\n",
       "    .dataframe tbody tr th {\n",
       "        vertical-align: top;\n",
       "    }\n",
       "\n",
       "    .dataframe thead th {\n",
       "        text-align: right;\n",
       "    }\n",
       "</style>\n",
       "<table border=\"1\" class=\"dataframe\">\n",
       "  <thead>\n",
       "    <tr style=\"text-align: right;\">\n",
       "      <th></th>\n",
       "      <th></th>\n",
       "    </tr>\n",
       "  </thead>\n",
       "  <tbody>\n",
       "    <tr>\n",
       "      <th>Subscription ID</th>\n",
       "      <td>f518fe6b-5262-4e5a-80cb-05b7a39f9298</td>\n",
       "    </tr>\n",
       "    <tr>\n",
       "      <th>Workspace</th>\n",
       "      <td>azure_ml_workspace</td>\n",
       "    </tr>\n",
       "    <tr>\n",
       "      <th>Resource Group</th>\n",
       "      <td>azure_ml</td>\n",
       "    </tr>\n",
       "    <tr>\n",
       "      <th>Location</th>\n",
       "      <td>westus2</td>\n",
       "    </tr>\n",
       "    <tr>\n",
       "      <th>Run History Name</th>\n",
       "      <td>automl-regression</td>\n",
       "    </tr>\n",
       "  </tbody>\n",
       "</table>\n",
       "</div>"
      ],
      "text/plain": [
       "                                                      \n",
       "Subscription ID   f518fe6b-5262-4e5a-80cb-05b7a39f9298\n",
       "Workspace         azure_ml_workspace                  \n",
       "Resource Group    azure_ml                            \n",
       "Location          westus2                             \n",
       "Run History Name  automl-regression                   "
      ]
     },
     "execution_count": 4,
     "metadata": {},
     "output_type": "execute_result"
    }
   ],
   "source": [
    "ws = Workspace.from_config()\n",
    "\n",
    "# Choose a name for the experiment.\n",
    "experiment_name = 'automl-regression'\n",
    "\n",
    "experiment = Experiment(ws, experiment_name)\n",
    "\n",
    "output = {}\n",
    "output['Subscription ID'] = ws.subscription_id\n",
    "output['Workspace'] = ws.name\n",
    "output['Resource Group'] = ws.resource_group\n",
    "output['Location'] = ws.location\n",
    "output['Run History Name'] = experiment_name\n",
    "pd.set_option('display.max_colwidth', -1)\n",
    "outputDf = pd.DataFrame(data = output, index = [''])\n",
    "outputDf.T"
   ]
  },
  {
   "cell_type": "markdown",
   "metadata": {},
   "source": [
    "### Using AmlCompute\n",
    "You will need to create a [compute target](https://docs.microsoft.com/azure/machine-learning/service/concept-azure-machine-learning-architecture#compute-target) for your AutoML run. In this tutorial, you use `AmlCompute` as your training compute resource."
   ]
  },
  {
   "cell_type": "code",
   "execution_count": 5,
   "metadata": {},
   "outputs": [
    {
     "name": "stdout",
     "output_type": "stream",
     "text": [
      "Found existing cluster, use it.\n",
      "Succeeded\n",
      "AmlCompute wait for completion finished\n",
      "\n",
      "Minimum number of nodes requested have been provisioned\n"
     ]
    }
   ],
   "source": [
    "from azureml.core.compute import ComputeTarget, AmlCompute\n",
    "from azureml.core.compute_target import ComputeTargetException\n",
    "\n",
    "# Choose a name for your CPU cluster\n",
    "cpu_cluster_name = \"bike-cluster\"\n",
    "\n",
    "# Verify that cluster does not exist already\n",
    "try:\n",
    "    compute_target = ComputeTarget(workspace=ws, name=cpu_cluster_name)\n",
    "    print('Found existing cluster, use it.')\n",
    "except ComputeTargetException:\n",
    "    compute_config = AmlCompute.provisioning_configuration(vm_size='STANDARD_DS12_V2',\n",
    "                                                           max_nodes=4)\n",
    "    compute_target = ComputeTarget.create(ws, cpu_cluster_name, compute_config)\n",
    "\n",
    "compute_target.wait_for_completion(show_output=True)"
   ]
  },
  {
   "cell_type": "markdown",
   "metadata": {},
   "source": [
    "## Data\n"
   ]
  },
  {
   "cell_type": "markdown",
   "metadata": {},
   "source": [
    "### Load Data\n",
    "Load the knot dataset from a csv file containing both training features and labels. The features are inputs to the model, while the training labels represent the expected output of the model. Next, we'll split the data using random_split and extract the training data for the model. "
   ]
  },
  {
   "cell_type": "markdown",
   "metadata": {},
   "source": [
    "## In this case we are going to modify the MS notebook\n",
    "50% will be for training and 50% for testing"
   ]
  },
  {
   "cell_type": "code",
   "execution_count": 9,
   "metadata": {},
   "outputs": [],
   "source": [
    "import tempfile\n",
    "import pandas as pd"
   ]
  },
  {
   "cell_type": "code",
   "execution_count": 52,
   "metadata": {},
   "outputs": [],
   "source": [
    "dataset = pd.read_csv('c:/users/denni/data/knot_theory_invariants.csv')"
   ]
  },
  {
   "cell_type": "code",
   "execution_count": 53,
   "metadata": {},
   "outputs": [],
   "source": [
    "train_data = dataset.sample(frac=0.50)\n",
    "test_data = dataset.drop(train_data.index)"
   ]
  },
  {
   "cell_type": "code",
   "execution_count": 54,
   "metadata": {},
   "outputs": [],
   "source": [
    "cols_to_remove = ['hyperbolic_adjoint_torsion_degree',\n",
    " 'hyperbolic_torsion_degree',\n",
    " 'short_geodesic_real_part',\n",
    " 'short_geodesic_imag_part',\n",
    " 'injectivity_radius',\n",
    " 'chern_simons',\n",
    " 'cusp_volume',\n",
    " 'volume',\n",
    " 'Symmetry_0',\n",
    " 'Symmetry_D3',\n",
    " 'Symmetry_D4',\n",
    " 'Symmetry_D6',\n",
    " 'Symmetry_D8',\n",
    " 'Symmetry_Z/2 + Z/2']"
   ]
  },
  {
   "cell_type": "code",
   "execution_count": 55,
   "metadata": {},
   "outputs": [],
   "source": [
    "train_data.to_csv('c:/users/denni/data/knot_train.csv')\n",
    "test_data.to_csv('c:/users/denni/data/knot_test.csv')"
   ]
  },
  {
   "cell_type": "code",
   "execution_count": 14,
   "metadata": {},
   "outputs": [],
   "source": [
    "from azureml.core import Workspace, Datastore, Dataset"
   ]
  },
  {
   "cell_type": "code",
   "execution_count": 56,
   "metadata": {},
   "outputs": [],
   "source": [
    "from azureml.core import Dataset\n",
    "train_ds = Dataset.Tabular.from_delimited_files('https://dbgannonstorage.blob.core.windows.net/data/knot_train.csv')"
   ]
  },
  {
   "cell_type": "markdown",
   "metadata": {},
   "source": [
    "## Train\n",
    "\n",
    "Instantiate an `AutoMLConfig` object to specify the settings and data used to run the experiment.\n",
    "\n",
    "|Property|Description|\n",
    "|-|-|\n",
    "|**task**|classification, regression or forecasting|\n",
    "|**primary_metric**|This is the metric that you want to optimize. Regression supports the following primary metrics: <br><i>spearman_correlation</i><br><i>normalized_root_mean_squared_error</i><br><i>r2_score</i><br><i>normalized_mean_absolute_error</i>|\n",
    "|**n_cross_validations**|Number of cross validation splits.|\n",
    "|**training_data**|(sparse) array-like, shape = [n_samples, n_features]|\n",
    "|**label_column_name**|(sparse) array-like, shape = [n_samples, ], targets values.|\n",
    "\n",
    "**_You can find more information about primary metrics_** [here](https://docs.microsoft.com/en-us/azure/machine-learning/service/how-to-configure-auto-train#primary-metric)"
   ]
  },
  {
   "cell_type": "code",
   "execution_count": 57,
   "metadata": {
    "tags": [
     "automlconfig-remarks-sample"
    ]
   },
   "outputs": [],
   "source": [
    "label = 'signature'\n",
    "automl_settings = {\n",
    "    \"n_cross_validations\": 3,\n",
    "    \"primary_metric\": 'normalized_root_mean_squared_error',\n",
    "    \"enable_early_stopping\": True, \n",
    "    \"experiment_timeout_hours\": 1.0, #for real scenarios we reccommend a timeout of at least one hour \n",
    "    \"max_concurrent_iterations\": 4,\n",
    "    \"max_cores_per_iteration\": -1,\n",
    "    \"verbosity\": logging.INFO,\n",
    "}\n",
    "\n",
    "automl_config = AutoMLConfig(task = 'regression',\n",
    "                             compute_target = compute_target,\n",
    "                             training_data = train_ds,\n",
    "                             label_column_name = label,\n",
    "                             **automl_settings\n",
    "                            )"
   ]
  },
  {
   "cell_type": "markdown",
   "metadata": {},
   "source": [
    "Call the `submit` method on the experiment object and pass the run configuration. Execution of remote runs is asynchronous. Depending on the data and the number of iterations this can run for a while.  Validation errors and current status will be shown when setting `show_output=True` and the execution will be synchronous."
   ]
  },
  {
   "cell_type": "code",
   "execution_count": 58,
   "metadata": {},
   "outputs": [
    {
     "name": "stdout",
     "output_type": "stream",
     "text": [
      "Submitting remote run.\n"
     ]
    },
    {
     "data": {
      "text/html": [
       "<table style=\"width:100%\"><tr><th>Experiment</th><th>Id</th><th>Type</th><th>Status</th><th>Details Page</th><th>Docs Page</th></tr><tr><td>automl-regression</td><td>AutoML_bc1cccc4-7757-4ddd-bf29-518d0e5419ba</td><td>automl</td><td>NotStarted</td><td><a href=\"https://ml.azure.com/runs/AutoML_bc1cccc4-7757-4ddd-bf29-518d0e5419ba?wsid=/subscriptions/f518fe6b-5262-4e5a-80cb-05b7a39f9298/resourcegroups/azure_ml/workspaces/azure_ml_workspace&amp;tid=ad4722d3-9e90-4933-b22d-8b86471cf296\" target=\"_blank\" rel=\"noopener\">Link to Azure Machine Learning studio</a></td><td><a href=\"https://docs.microsoft.com/en-us/python/api/overview/azure/ml/intro?view=azure-ml-py\" target=\"_blank\" rel=\"noopener\">Link to Documentation</a></td></tr></table>"
      ],
      "text/plain": [
       "<IPython.core.display.HTML object>"
      ]
     },
     "metadata": {},
     "output_type": "display_data"
    }
   ],
   "source": [
    "remote_run = experiment.submit(automl_config, show_output = False)"
   ]
  },
  {
   "cell_type": "code",
   "execution_count": 59,
   "metadata": {},
   "outputs": [],
   "source": [
    "# If you need to retrieve a run that already started, use the following code\n",
    "#from azureml.train.automl.run import AutoMLRun\n",
    "#remote_run = AutoMLRun(experiment = experiment, run_id = '<replace with your run id>')"
   ]
  },
  {
   "cell_type": "code",
   "execution_count": 60,
   "metadata": {},
   "outputs": [],
   "source": [
    "import matplotlib.pyplot as plt"
   ]
  },
  {
   "cell_type": "markdown",
   "metadata": {},
   "source": [
    "## Results"
   ]
  },
  {
   "cell_type": "markdown",
   "metadata": {},
   "source": [
    "#### Widget for Monitoring Runs\n",
    "\n",
    "The widget will first report a \"loading\" status while running the first iteration. After completing the first iteration, an auto-updating graph and table will be shown. The widget will refresh once per minute, so you should see the graph update as child runs complete.\n",
    "\n",
    "**Note:** The widget displays a link at the bottom. Use this link to open a web interface to explore the individual run details."
   ]
  },
  {
   "cell_type": "code",
   "execution_count": 61,
   "metadata": {},
   "outputs": [
    {
     "data": {
      "application/vnd.jupyter.widget-view+json": {
       "model_id": "499b4fe911624c608296042924ccadf5",
       "version_major": 2,
       "version_minor": 0
      },
      "text/plain": [
       "_AutoMLWidget(widget_settings={'childWidgetDisplay': 'popup', 'send_telemetry': False, 'log_level': 'INFO', 's…"
      ]
     },
     "metadata": {},
     "output_type": "display_data"
    },
    {
     "data": {
      "application/aml.mini.widget.v1": "{\"status\": \"Completed\", \"workbench_run_details_uri\": \"https://ml.azure.com/runs/AutoML_bc1cccc4-7757-4ddd-bf29-518d0e5419ba?wsid=/subscriptions/f518fe6b-5262-4e5a-80cb-05b7a39f9298/resourcegroups/azure_ml/workspaces/azure_ml_workspace&tid=ad4722d3-9e90-4933-b22d-8b86471cf296\", \"run_id\": \"AutoML_bc1cccc4-7757-4ddd-bf29-518d0e5419ba\", \"run_properties\": {\"run_id\": \"AutoML_bc1cccc4-7757-4ddd-bf29-518d0e5419ba\", \"created_utc\": \"2021-12-30T21:26:11.315746Z\", \"properties\": {\"num_iterations\": \"1000\", \"training_type\": \"TrainFull\", \"acquisition_function\": \"EI\", \"primary_metric\": \"normalized_root_mean_squared_error\", \"train_split\": \"0\", \"acquisition_parameter\": \"0\", \"num_cross_validation\": \"3\", \"target\": \"bike-cluster\", \"AMLSettingsJsonString\": \"{\\\"path\\\":null,\\\"name\\\":\\\"automl-regression\\\",\\\"subscription_id\\\":\\\"f518fe6b-5262-4e5a-80cb-05b7a39f9298\\\",\\\"resource_group\\\":\\\"azure_ml\\\",\\\"workspace_name\\\":\\\"azure_ml_workspace\\\",\\\"region\\\":\\\"westus2\\\",\\\"compute_target\\\":\\\"bike-cluster\\\",\\\"spark_service\\\":null,\\\"azure_service\\\":\\\"remote\\\",\\\"many_models\\\":false,\\\"pipeline_fetch_max_batch_size\\\":1,\\\"enable_batch_run\\\":false,\\\"enable_run_restructure\\\":false,\\\"start_auxiliary_runs_before_parent_complete\\\":false,\\\"enable_code_generation\\\":false,\\\"iterations\\\":1000,\\\"primary_metric\\\":\\\"normalized_root_mean_squared_error\\\",\\\"task_type\\\":\\\"regression\\\",\\\"positive_label\\\":null,\\\"data_script\\\":null,\\\"test_size\\\":0.0,\\\"test_include_predictions_only\\\":false,\\\"validation_size\\\":0.0,\\\"n_cross_validations\\\":3,\\\"y_min\\\":null,\\\"y_max\\\":null,\\\"num_classes\\\":null,\\\"featurization\\\":\\\"auto\\\",\\\"_ignore_package_version_incompatibilities\\\":false,\\\"is_timeseries\\\":false,\\\"max_cores_per_iteration\\\":-1,\\\"max_concurrent_iterations\\\":4,\\\"iteration_timeout_minutes\\\":null,\\\"mem_in_mb\\\":null,\\\"enforce_time_on_windows\\\":true,\\\"experiment_timeout_minutes\\\":60,\\\"experiment_exit_score\\\":null,\\\"whitelist_models\\\":null,\\\"blacklist_algos\\\":[\\\"TensorFlowDNN\\\",\\\"TensorFlowLinearRegressor\\\"],\\\"supported_models\\\":[\\\"SGD\\\",\\\"OnlineGradientDescentRegressor\\\",\\\"LassoLars\\\",\\\"GradientBoosting\\\",\\\"RandomForest\\\",\\\"DecisionTree\\\",\\\"ExtremeRandomTrees\\\",\\\"KNN\\\",\\\"TensorFlowDNN\\\",\\\"XGBoostRegressor\\\",\\\"LightGBM\\\",\\\"FastLinearRegressor\\\",\\\"TensorFlowLinearRegressor\\\",\\\"ElasticNet\\\"],\\\"private_models\\\":[\\\"TabnetRegressor\\\"],\\\"auto_blacklist\\\":true,\\\"blacklist_samples_reached\\\":false,\\\"exclude_nan_labels\\\":true,\\\"verbosity\\\":20,\\\"_debug_log\\\":\\\"azureml_automl.log\\\",\\\"show_warnings\\\":false,\\\"model_explainability\\\":true,\\\"service_url\\\":null,\\\"sdk_url\\\":null,\\\"sdk_packages\\\":null,\\\"enable_onnx_compatible_models\\\":false,\\\"enable_split_onnx_featurizer_estimator_models\\\":false,\\\"vm_type\\\":\\\"STANDARD_DS12_V2\\\",\\\"telemetry_verbosity\\\":20,\\\"send_telemetry\\\":true,\\\"enable_dnn\\\":false,\\\"scenario\\\":\\\"SDK-1.13.0\\\",\\\"environment_label\\\":null,\\\"save_mlflow\\\":false,\\\"enable_categorical_indicators\\\":false,\\\"force_text_dnn\\\":false,\\\"enable_feature_sweeping\\\":true,\\\"enable_early_stopping\\\":true,\\\"early_stopping_n_iters\\\":10,\\\"arguments\\\":null,\\\"dataset_id\\\":null,\\\"hyperdrive_config\\\":null,\\\"validation_dataset_id\\\":null,\\\"run_source\\\":null,\\\"metrics\\\":null,\\\"enable_metric_confidence\\\":false,\\\"enable_ensembling\\\":true,\\\"enable_stack_ensembling\\\":true,\\\"ensemble_iterations\\\":15,\\\"enable_tf\\\":false,\\\"enable_subsampling\\\":null,\\\"subsample_seed\\\":null,\\\"enable_nimbusml\\\":false,\\\"enable_streaming\\\":false,\\\"force_streaming\\\":false,\\\"track_child_runs\\\":true,\\\"allowed_private_models\\\":[],\\\"label_column_name\\\":\\\"signature\\\",\\\"weight_column_name\\\":null,\\\"cv_split_column_names\\\":null,\\\"enable_local_managed\\\":false,\\\"_local_managed_run_id\\\":null,\\\"cost_mode\\\":1,\\\"lag_length\\\":0,\\\"metric_operation\\\":\\\"minimize\\\",\\\"preprocess\\\":true}\", \"DataPrepJsonString\": \"{\\\\\\\"training_data\\\\\\\": {\\\\\\\"datasetId\\\\\\\": \\\\\\\"23c8b926-7cad-41c3-9738-869321067fa8\\\\\\\"}, \\\\\\\"datasets\\\\\\\": 0}\", \"EnableSubsampling\": null, \"runTemplate\": \"AutoML\", \"azureml.runsource\": \"automl\", \"display_task_type\": \"regression\", \"dependencies_versions\": \"{\\\"azureml-train-restclients-hyperdrive\\\": \\\"1.35.0\\\", \\\"azureml-train-core\\\": \\\"1.35.0\\\", \\\"azureml-train-automl-runtime\\\": \\\"1.35.1\\\", \\\"azureml-train-automl-client\\\": \\\"1.35.0\\\", \\\"azureml-mlflow\\\": \\\"1.35.0\\\", \\\"azureml-interpret\\\": \\\"1.35.0\\\", \\\"azureml-inference-server-http\\\": \\\"0.3.2\\\", \\\"azureml-defaults\\\": \\\"1.35.0\\\", \\\"azureml-automl-runtime\\\": \\\"1.35.1\\\", \\\"azureml\\\": \\\"0.2.7\\\", \\\"azureml-widgets\\\": \\\"1.36.0\\\", \\\"azureml-telemetry\\\": \\\"1.36.0\\\", \\\"azureml-dataset-runtime\\\": \\\"1.36.0\\\", \\\"azureml-dataprep\\\": \\\"2.24.4\\\", \\\"azureml-dataprep-rslex\\\": \\\"2.0.3\\\", \\\"azureml-dataprep-native\\\": \\\"38.0.0\\\", \\\"azureml-core\\\": \\\"1.36.0.post2\\\", \\\"azureml-automl-core\\\": \\\"1.36.1\\\"}\", \"_aml_system_scenario_identification\": \"Remote.Parent\", \"ClientType\": \"SDK\", \"environment_cpu_name\": \"AzureML-AutoML\", \"environment_cpu_label\": \"prod\", \"environment_gpu_name\": \"AzureML-AutoML-GPU\", \"environment_gpu_label\": \"prod\", \"root_attribution\": \"automl\", \"attribution\": \"AutoML\", \"Orchestrator\": \"AutoML\", \"CancelUri\": \"https://westus2.api.azureml.ms/jasmine/v1.0/subscriptions/f518fe6b-5262-4e5a-80cb-05b7a39f9298/resourceGroups/azure_ml/providers/Microsoft.MachineLearningServices/workspaces/azure_ml_workspace/experimentids/8d09b9f7-f10d-4b65-93bc-eb4968bf5d1f/cancel/AutoML_bc1cccc4-7757-4ddd-bf29-518d0e5419ba\", \"ClientSdkVersion\": \"1.36.1\", \"snapshotId\": \"00000000-0000-0000-0000-000000000000\", \"SetupRunId\": \"AutoML_bc1cccc4-7757-4ddd-bf29-518d0e5419ba_setup\", \"SetupRunContainerId\": \"dcid.AutoML_bc1cccc4-7757-4ddd-bf29-518d0e5419ba_setup\", \"FeaturizationRunJsonPath\": \"featurizer_container.json\", \"FeaturizationRunId\": \"AutoML_bc1cccc4-7757-4ddd-bf29-518d0e5419ba_featurize\", \"ProblemInfoJsonString\": \"{\\\"dataset_num_categorical\\\": 0, \\\"is_sparse\\\": true, \\\"subsampling\\\": false, \\\"has_extra_col\\\": true, \\\"dataset_classes\\\": 14, \\\"dataset_features\\\": 39, \\\"dataset_samples\\\": 121873, \\\"single_frequency_class_detected\\\": false}\", \"ModelExplainRunId\": \"AutoML_bc1cccc4-7757-4ddd-bf29-518d0e5419ba_ModelExplain\"}, \"tags\": {\"model_explain_run\": \"best_run\", \"_aml_system_azureml.automlComponent\": \"AutoML\", \"pipeline_id\": \"\", \"score\": \"\", \"predicted_cost\": \"\", \"fit_time\": \"\", \"training_percent\": \"\", \"iteration\": \"\", \"run_preprocessor\": \"\", \"run_algorithm\": \"\", \"dynamic_whitelisting_iterations\": \"<25>;<30>;<35>;<40>;<45>;\", \"_aml_system_azureml.automl_early_exit_message\": \"No scores improved over last 20 iterations, so experiment stopped early. This early stopping behavior can be disabled by setting enable_early_stopping = False in AutoMLConfig for notebook/python SDK runs.\", \"automl_best_child_run_id\": \"AutoML_bc1cccc4-7757-4ddd-bf29-518d0e5419ba_50\", \"model_explain_best_run_child_id\": \"AutoML_bc1cccc4-7757-4ddd-bf29-518d0e5419ba_50\"}, \"end_time_utc\": \"2021-12-30T22:00:33.543225Z\", \"status\": \"Completed\", \"log_files\": {}, \"log_groups\": [], \"run_duration\": \"0:34:22\", \"run_number\": \"827\", \"run_queued_details\": {\"status\": \"Completed\", \"details\": null}}, \"child_runs\": [{\"run_id\": \"AutoML_bc1cccc4-7757-4ddd-bf29-518d0e5419ba_setup\", \"run_number\": 828, \"metric\": null, \"status\": \"Completed\", \"run_type\": \"azureml.scriptrun\", \"training_percent\": null, \"start_time\": \"2021-12-30T21:28:33.15277Z\", \"end_time\": \"2021-12-30T21:29:48.657967Z\", \"created_time\": \"2021-12-30T21:26:24.903958Z\", \"created_time_dt\": \"2021-12-30T21:26:24.903958Z\", \"duration\": \"0:03:23\", \"iteration\": null, \"goal\": null, \"run_name\": \"Completed\", \"run_properties\": null}, {\"run_id\": \"AutoML_bc1cccc4-7757-4ddd-bf29-518d0e5419ba_featurize\", \"run_number\": 829, \"metric\": null, \"status\": \"Completed\", \"run_type\": \"automl.featurization\", \"training_percent\": null, \"start_time\": \"2021-12-30T21:29:49.812235Z\", \"end_time\": \"2021-12-30T21:30:57.289014Z\", \"created_time\": \"2021-12-30T21:29:49.125363Z\", \"created_time_dt\": \"2021-12-30T21:29:49.125363Z\", \"duration\": \"0:01:08\", \"iteration\": null, \"goal\": null, \"run_name\": \"Completed\", \"run_properties\": null}, {\"run_id\": \"AutoML_bc1cccc4-7757-4ddd-bf29-518d0e5419ba_0\", \"run_number\": 831, \"metric\": null, \"status\": \"Completed\", \"run_type\": \"azureml.scriptrun\", \"training_percent\": \"100\", \"start_time\": \"2021-12-30T21:30:58.105143Z\", \"end_time\": \"2021-12-30T21:31:59.810715Z\", \"created_time\": \"2021-12-30T21:30:58.105143Z\", \"created_time_dt\": \"2021-12-30T21:30:58.105143Z\", \"duration\": \"0:01:01\", \"iteration\": \"0\", \"goal\": \"normalized_root_mean_squared_error_min\", \"run_name\": \"MaxAbsScaler, LightGBM\", \"run_properties\": \"copy=True\", \"primary_metric\": 0.0164154, \"best_metric\": 0.0164154}, {\"run_id\": \"AutoML_bc1cccc4-7757-4ddd-bf29-518d0e5419ba_3\", \"run_number\": 832, \"metric\": null, \"status\": \"Completed\", \"run_type\": \"azureml.scriptrun\", \"training_percent\": \"100\", \"start_time\": \"2021-12-30T21:30:58.122939Z\", \"end_time\": \"2021-12-30T21:31:28.871823Z\", \"created_time\": \"2021-12-30T21:30:58.122939Z\", \"created_time_dt\": \"2021-12-30T21:30:58.122939Z\", \"duration\": \"0:00:30\", \"iteration\": \"3\", \"goal\": \"normalized_root_mean_squared_error_min\", \"run_name\": \"StandardScalerWrapper, ElasticNet\", \"run_properties\": \"\\n    copy=True,\\n    with_mean=False,\\n    with_std=True\\n\", \"primary_metric\": 0.04739675, \"best_metric\": 0.0164154}, {\"run_id\": \"AutoML_bc1cccc4-7757-4ddd-bf29-518d0e5419ba_2\", \"run_number\": 833, \"metric\": null, \"status\": \"Completed\", \"run_type\": \"azureml.scriptrun\", \"training_percent\": \"100\", \"start_time\": \"2021-12-30T21:30:58.114593Z\", \"end_time\": \"2021-12-30T21:33:12.620963Z\", \"created_time\": \"2021-12-30T21:30:58.114593Z\", \"created_time_dt\": \"2021-12-30T21:30:58.114593Z\", \"duration\": \"0:02:14\", \"iteration\": \"2\", \"goal\": \"normalized_root_mean_squared_error_min\", \"run_name\": \"MaxAbsScaler, ElasticNet\", \"run_properties\": \"copy=True\", \"primary_metric\": 0.04735078, \"best_metric\": 0.0164154}, {\"run_id\": \"AutoML_bc1cccc4-7757-4ddd-bf29-518d0e5419ba_1\", \"run_number\": 834, \"metric\": null, \"status\": \"Completed\", \"run_type\": \"azureml.scriptrun\", \"training_percent\": \"100\", \"start_time\": \"2021-12-30T21:30:58.130397Z\", \"end_time\": \"2021-12-30T21:32:41.250185Z\", \"created_time\": \"2021-12-30T21:30:58.130397Z\", \"created_time_dt\": \"2021-12-30T21:30:58.130397Z\", \"duration\": \"0:01:43\", \"iteration\": \"1\", \"goal\": \"normalized_root_mean_squared_error_min\", \"run_name\": \"MaxAbsScaler, XGBoostRegressor\", \"run_properties\": \"copy=True\", \"primary_metric\": 0.02229463, \"best_metric\": 0.0164154}, {\"run_id\": \"AutoML_bc1cccc4-7757-4ddd-bf29-518d0e5419ba_4\", \"run_number\": 835, \"metric\": null, \"status\": \"Completed\", \"run_type\": \"azureml.scriptrun\", \"training_percent\": \"100\", \"start_time\": \"2021-12-30T21:31:32.025136Z\", \"end_time\": \"2021-12-30T21:33:39.261655Z\", \"created_time\": \"2021-12-30T21:31:32.025136Z\", \"created_time_dt\": \"2021-12-30T21:31:32.025136Z\", \"duration\": \"0:02:07\", \"iteration\": \"4\", \"goal\": \"normalized_root_mean_squared_error_min\", \"run_name\": \"MaxAbsScaler, ElasticNet\", \"run_properties\": \"copy=True\", \"primary_metric\": 0.04734967, \"best_metric\": 0.0164154}, {\"run_id\": \"AutoML_bc1cccc4-7757-4ddd-bf29-518d0e5419ba_5\", \"run_number\": 836, \"metric\": null, \"status\": \"Completed\", \"run_type\": \"azureml.scriptrun\", \"training_percent\": \"100\", \"start_time\": \"2021-12-30T21:32:02.75885Z\", \"end_time\": \"2021-12-30T21:34:06.500326Z\", \"created_time\": \"2021-12-30T21:32:02.75885Z\", \"created_time_dt\": \"2021-12-30T21:32:02.75885Z\", \"duration\": \"0:02:03\", \"iteration\": \"5\", \"goal\": \"normalized_root_mean_squared_error_min\", \"run_name\": \"MaxAbsScaler, ElasticNet\", \"run_properties\": \"copy=True\", \"primary_metric\": 0.0473489, \"best_metric\": 0.0164154}, {\"run_id\": \"AutoML_bc1cccc4-7757-4ddd-bf29-518d0e5419ba_6\", \"run_number\": 837, \"metric\": null, \"status\": \"Completed\", \"run_type\": \"azureml.scriptrun\", \"training_percent\": \"100\", \"start_time\": \"2021-12-30T21:32:44.339082Z\", \"end_time\": \"2021-12-30T21:34:50.436832Z\", \"created_time\": \"2021-12-30T21:32:44.339082Z\", \"created_time_dt\": \"2021-12-30T21:32:44.339082Z\", \"duration\": \"0:02:06\", \"iteration\": \"6\", \"goal\": \"normalized_root_mean_squared_error_min\", \"run_name\": \"MaxAbsScaler, ExtremeRandomTrees\", \"run_properties\": \"copy=True\", \"primary_metric\": 0.02316711, \"best_metric\": 0.0164154}, {\"run_id\": \"AutoML_bc1cccc4-7757-4ddd-bf29-518d0e5419ba_7\", \"run_number\": 838, \"metric\": null, \"status\": \"Completed\", \"run_type\": \"azureml.scriptrun\", \"training_percent\": \"100\", \"start_time\": \"2021-12-30T21:33:16.261305Z\", \"end_time\": \"2021-12-30T21:35:22.671691Z\", \"created_time\": \"2021-12-30T21:33:16.261305Z\", \"created_time_dt\": \"2021-12-30T21:33:16.261305Z\", \"duration\": \"0:02:06\", \"iteration\": \"7\", \"goal\": \"normalized_root_mean_squared_error_min\", \"run_name\": \"StandardScalerWrapper, ElasticNet\", \"run_properties\": \"\\n    copy=True,\\n    with_mean=False,\\n    with_std=True\\n\", \"primary_metric\": 0.04751854, \"best_metric\": 0.0164154}, {\"run_id\": \"AutoML_bc1cccc4-7757-4ddd-bf29-518d0e5419ba_8\", \"run_number\": 839, \"metric\": null, \"status\": \"Completed\", \"run_type\": \"azureml.scriptrun\", \"training_percent\": \"100\", \"start_time\": \"2021-12-30T21:33:42.194083Z\", \"end_time\": \"2021-12-30T21:35:59.161406Z\", \"created_time\": \"2021-12-30T21:33:42.194083Z\", \"created_time_dt\": \"2021-12-30T21:33:42.194083Z\", \"duration\": \"0:02:16\", \"iteration\": \"8\", \"goal\": \"normalized_root_mean_squared_error_min\", \"run_name\": \"StandardScalerWrapper, ElasticNet\", \"run_properties\": \"\\n    copy=True,\\n    with_mean=False,\\n    with_std=True\\n\", \"primary_metric\": 0.04739962, \"best_metric\": 0.0164154}, {\"run_id\": \"AutoML_bc1cccc4-7757-4ddd-bf29-518d0e5419ba_9\", \"run_number\": 840, \"metric\": null, \"status\": \"Completed\", \"run_type\": \"azureml.scriptrun\", \"training_percent\": \"100\", \"start_time\": \"2021-12-30T21:37:05.227213Z\", \"end_time\": \"2021-12-30T21:37:36.14466Z\", \"created_time\": \"2021-12-30T21:34:09.383727Z\", \"created_time_dt\": \"2021-12-30T21:34:09.383727Z\", \"duration\": \"0:03:26\", \"iteration\": \"9\", \"goal\": \"normalized_root_mean_squared_error_min\", \"run_name\": \"StandardScalerWrapper, ElasticNet\", \"run_properties\": \"\\n    copy=True,\\n    with_mean=False,\\n    with_std=False\\n\", \"primary_metric\": 0.06418991, \"best_metric\": 0.0164154}, {\"run_id\": \"AutoML_bc1cccc4-7757-4ddd-bf29-518d0e5419ba_10\", \"run_number\": 841, \"metric\": null, \"status\": \"Completed\", \"run_type\": \"azureml.scriptrun\", \"training_percent\": \"100\", \"start_time\": \"2021-12-30T21:34:53.42185Z\", \"end_time\": \"2021-12-30T21:36:33.06503Z\", \"created_time\": \"2021-12-30T21:34:53.42185Z\", \"created_time_dt\": \"2021-12-30T21:34:53.42185Z\", \"duration\": \"0:01:39\", \"iteration\": \"10\", \"goal\": \"normalized_root_mean_squared_error_min\", \"run_name\": \"MaxAbsScaler, RandomForest\", \"run_properties\": \"copy=True\", \"primary_metric\": 0.04375329, \"best_metric\": 0.0164154}, {\"run_id\": \"AutoML_bc1cccc4-7757-4ddd-bf29-518d0e5419ba_11\", \"run_number\": 842, \"metric\": null, \"status\": \"Completed\", \"run_type\": \"azureml.scriptrun\", \"training_percent\": \"100\", \"start_time\": \"2021-12-30T21:35:25.401277Z\", \"end_time\": \"2021-12-30T21:37:38.63912Z\", \"created_time\": \"2021-12-30T21:35:25.401277Z\", \"created_time_dt\": \"2021-12-30T21:35:25.401277Z\", \"duration\": \"0:02:13\", \"iteration\": \"11\", \"goal\": \"normalized_root_mean_squared_error_min\", \"run_name\": \"StandardScalerWrapper, ElasticNet\", \"run_properties\": \"\\n    copy=True,\\n    with_mean=False,\\n    with_std=False\\n\", \"primary_metric\": 0.04929914, \"best_metric\": 0.0164154}, {\"run_id\": \"AutoML_bc1cccc4-7757-4ddd-bf29-518d0e5419ba_12\", \"run_number\": 843, \"metric\": null, \"status\": \"Completed\", \"run_type\": \"azureml.scriptrun\", \"training_percent\": \"100\", \"start_time\": \"2021-12-30T21:36:01.860479Z\", \"end_time\": \"2021-12-30T21:38:33.158476Z\", \"created_time\": \"2021-12-30T21:36:01.860479Z\", \"created_time_dt\": \"2021-12-30T21:36:01.860479Z\", \"duration\": \"0:02:31\", \"iteration\": \"12\", \"goal\": \"normalized_root_mean_squared_error_min\", \"run_name\": \"StandardScalerWrapper, ElasticNet\", \"run_properties\": \"\\n    copy=True,\\n    with_mean=False,\\n    with_std=False\\n\", \"primary_metric\": 0.0476679, \"best_metric\": 0.0164154}, {\"run_id\": \"AutoML_bc1cccc4-7757-4ddd-bf29-518d0e5419ba_13\", \"run_number\": 844, \"metric\": null, \"status\": \"Completed\", \"run_type\": \"azureml.scriptrun\", \"training_percent\": \"100\", \"start_time\": \"2021-12-30T21:36:35.693867Z\", \"end_time\": \"2021-12-30T21:38:06.431587Z\", \"created_time\": \"2021-12-30T21:36:35.693867Z\", \"created_time_dt\": \"2021-12-30T21:36:35.693867Z\", \"duration\": \"0:01:30\", \"iteration\": \"13\", \"goal\": \"normalized_root_mean_squared_error_min\", \"run_name\": \"StandardScalerWrapper, ElasticNet\", \"run_properties\": \"\\n    copy=True,\\n    with_mean=False,\\n    with_std=True\\n\", \"primary_metric\": 0.04751854, \"best_metric\": 0.0164154}, {\"run_id\": \"AutoML_bc1cccc4-7757-4ddd-bf29-518d0e5419ba_14\", \"run_number\": 845, \"metric\": null, \"status\": \"Completed\", \"run_type\": \"azureml.scriptrun\", \"training_percent\": \"100\", \"start_time\": \"2021-12-30T21:37:38.98956Z\", \"end_time\": \"2021-12-30T21:39:49.541992Z\", \"created_time\": \"2021-12-30T21:37:38.98956Z\", \"created_time_dt\": \"2021-12-30T21:37:38.98956Z\", \"duration\": \"0:02:10\", \"iteration\": \"14\", \"goal\": \"normalized_root_mean_squared_error_min\", \"run_name\": \"StandardScalerWrapper, ElasticNet\", \"run_properties\": \"\\n    copy=True,\\n    with_mean=False,\\n    with_std=True\\n\", \"primary_metric\": 0.05227171, \"best_metric\": 0.0164154}, {\"run_id\": \"AutoML_bc1cccc4-7757-4ddd-bf29-518d0e5419ba_15\", \"run_number\": 846, \"metric\": null, \"status\": \"Completed\", \"run_type\": \"azureml.scriptrun\", \"training_percent\": \"100\", \"start_time\": \"2021-12-30T21:37:43.410638Z\", \"end_time\": \"2021-12-30T21:38:36.211828Z\", \"created_time\": \"2021-12-30T21:37:43.410638Z\", \"created_time_dt\": \"2021-12-30T21:37:43.410638Z\", \"duration\": \"0:00:52\", \"iteration\": \"15\", \"goal\": \"normalized_root_mean_squared_error_min\", \"run_name\": \"StandardScalerWrapper, ElasticNet\", \"run_properties\": \"\\n    copy=True,\\n    with_mean=False,\\n    with_std=True\\n\", \"primary_metric\": 0.04750268, \"best_metric\": 0.0164154}, {\"run_id\": \"AutoML_bc1cccc4-7757-4ddd-bf29-518d0e5419ba_16\", \"run_number\": 847, \"metric\": null, \"status\": \"Completed\", \"run_type\": \"azureml.scriptrun\", \"training_percent\": \"100\", \"start_time\": \"2021-12-30T21:38:09.229058Z\", \"end_time\": \"2021-12-30T21:39:38.578646Z\", \"created_time\": \"2021-12-30T21:38:09.229058Z\", \"created_time_dt\": \"2021-12-30T21:38:09.229058Z\", \"duration\": \"0:01:29\", \"iteration\": \"16\", \"goal\": \"normalized_root_mean_squared_error_min\", \"run_name\": \"StandardScalerWrapper, DecisionTree\", \"run_properties\": \"\\n    copy=True,\\n    with_mean=False,\\n    with_std=False\\n\", \"primary_metric\": 0.03268971, \"best_metric\": 0.0164154}, {\"run_id\": \"AutoML_bc1cccc4-7757-4ddd-bf29-518d0e5419ba_17\", \"run_number\": 848, \"metric\": null, \"status\": \"Completed\", \"run_type\": \"azureml.scriptrun\", \"training_percent\": \"100\", \"start_time\": \"2021-12-30T21:38:41.391143Z\", \"end_time\": \"2021-12-30T21:40:08.033293Z\", \"created_time\": \"2021-12-30T21:38:41.391143Z\", \"created_time_dt\": \"2021-12-30T21:38:41.391143Z\", \"duration\": \"0:01:26\", \"iteration\": \"17\", \"goal\": \"normalized_root_mean_squared_error_min\", \"run_name\": \"StandardScalerWrapper, ElasticNet\", \"run_properties\": \"\\n    copy=True,\\n    with_mean=False,\\n    with_std=True\\n\", \"primary_metric\": 0.04752582, \"best_metric\": 0.0164154}, {\"run_id\": \"AutoML_bc1cccc4-7757-4ddd-bf29-518d0e5419ba_18\", \"run_number\": 849, \"metric\": null, \"status\": \"Completed\", \"run_type\": \"azureml.scriptrun\", \"training_percent\": \"100\", \"start_time\": \"2021-12-30T21:38:45.913604Z\", \"end_time\": \"2021-12-30T21:40:32.468907Z\", \"created_time\": \"2021-12-30T21:38:45.913604Z\", \"created_time_dt\": \"2021-12-30T21:38:45.913604Z\", \"duration\": \"0:01:46\", \"iteration\": \"18\", \"goal\": \"normalized_root_mean_squared_error_min\", \"run_name\": \"MaxAbsScaler, DecisionTree\", \"run_properties\": \"copy=True\", \"primary_metric\": 0.02578244, \"best_metric\": 0.0164154}, {\"run_id\": \"AutoML_bc1cccc4-7757-4ddd-bf29-518d0e5419ba_19\", \"run_number\": 850, \"metric\": null, \"status\": \"Completed\", \"run_type\": \"azureml.scriptrun\", \"training_percent\": \"100\", \"start_time\": \"2021-12-30T21:39:42.00341Z\", \"end_time\": \"2021-12-30T21:41:39.424597Z\", \"created_time\": \"2021-12-30T21:39:42.00341Z\", \"created_time_dt\": \"2021-12-30T21:39:42.00341Z\", \"duration\": \"0:01:57\", \"iteration\": \"19\", \"goal\": \"normalized_root_mean_squared_error_min\", \"run_name\": \"StandardScalerWrapper, LightGBM\", \"run_properties\": \"\\n    copy=True,\\n    with_mean=False,\\n    with_std=True\\n\", \"primary_metric\": 0.01693245, \"best_metric\": 0.0164154}, {\"run_id\": \"AutoML_bc1cccc4-7757-4ddd-bf29-518d0e5419ba_20\", \"run_number\": 851, \"metric\": null, \"status\": \"Completed\", \"run_type\": \"azureml.scriptrun\", \"training_percent\": \"100\", \"start_time\": \"2021-12-30T21:39:52.477832Z\", \"end_time\": \"2021-12-30T21:41:39.796472Z\", \"created_time\": \"2021-12-30T21:39:52.477832Z\", \"created_time_dt\": \"2021-12-30T21:39:52.477832Z\", \"duration\": \"0:01:47\", \"iteration\": \"20\", \"goal\": \"normalized_root_mean_squared_error_min\", \"run_name\": \"SparseNormalizer, ExtremeRandomTrees\", \"run_properties\": \"copy=True, norm='l1'\", \"primary_metric\": 0.11595477, \"best_metric\": 0.0164154}, {\"run_id\": \"AutoML_bc1cccc4-7757-4ddd-bf29-518d0e5419ba_21\", \"run_number\": 852, \"metric\": null, \"status\": \"Completed\", \"run_type\": \"azureml.scriptrun\", \"training_percent\": \"100\", \"start_time\": \"2021-12-30T21:40:11.02019Z\", \"end_time\": \"2021-12-30T21:43:06.346376Z\", \"created_time\": \"2021-12-30T21:40:11.02019Z\", \"created_time_dt\": \"2021-12-30T21:40:11.02019Z\", \"duration\": \"0:02:55\", \"iteration\": \"21\", \"goal\": \"normalized_root_mean_squared_error_min\", \"run_name\": \"StandardScalerWrapper, ExtremeRandomTrees\", \"run_properties\": \"\\n    copy=True,\\n    with_mean=False,\\n    with_std=False\\n\", \"primary_metric\": 0.04819802, \"best_metric\": 0.0164154}, {\"run_id\": \"AutoML_bc1cccc4-7757-4ddd-bf29-518d0e5419ba_22\", \"run_number\": 853, \"metric\": null, \"status\": \"Completed\", \"run_type\": \"azureml.scriptrun\", \"training_percent\": \"100\", \"start_time\": \"2021-12-30T21:40:35.327428Z\", \"end_time\": \"2021-12-30T21:42:31.576256Z\", \"created_time\": \"2021-12-30T21:40:35.327428Z\", \"created_time_dt\": \"2021-12-30T21:40:35.327428Z\", \"duration\": \"0:01:56\", \"iteration\": \"22\", \"goal\": \"normalized_root_mean_squared_error_min\", \"run_name\": \"StandardScalerWrapper, ExtremeRandomTrees\", \"run_properties\": \"\\n    copy=True,\\n    with_mean=False,\\n    with_std=True\\n\", \"primary_metric\": 0.02840065, \"best_metric\": 0.0164154}, {\"run_id\": \"AutoML_bc1cccc4-7757-4ddd-bf29-518d0e5419ba_23\", \"run_number\": 854, \"metric\": null, \"status\": \"Completed\", \"run_type\": \"azureml.scriptrun\", \"training_percent\": \"100\", \"start_time\": \"2021-12-30T21:41:41.937018Z\", \"end_time\": \"2021-12-30T21:43:47.330409Z\", \"created_time\": \"2021-12-30T21:41:41.937018Z\", \"created_time_dt\": \"2021-12-30T21:41:41.937018Z\", \"duration\": \"0:02:05\", \"iteration\": \"23\", \"goal\": \"normalized_root_mean_squared_error_min\", \"run_name\": \"MaxAbsScaler, ExtremeRandomTrees\", \"run_properties\": \"copy=True\", \"primary_metric\": 0.03651813, \"best_metric\": 0.0164154}, {\"run_id\": \"AutoML_bc1cccc4-7757-4ddd-bf29-518d0e5419ba_24\", \"run_number\": 855, \"metric\": null, \"status\": \"Completed\", \"run_type\": \"azureml.scriptrun\", \"training_percent\": \"100\", \"start_time\": \"2021-12-30T21:41:45.664509Z\", \"end_time\": \"2021-12-30T21:43:56.591062Z\", \"created_time\": \"2021-12-30T21:41:45.664509Z\", \"created_time_dt\": \"2021-12-30T21:41:45.664509Z\", \"duration\": \"0:02:10\", \"iteration\": \"24\", \"goal\": \"normalized_root_mean_squared_error_min\", \"run_name\": \"StandardScalerWrapper, RandomForest\", \"run_properties\": \"\\n    copy=True,\\n    with_mean=False,\\n    with_std=False\\n\", \"primary_metric\": 0.04328609, \"best_metric\": 0.0164154}, {\"run_id\": \"AutoML_bc1cccc4-7757-4ddd-bf29-518d0e5419ba_25\", \"run_number\": 856, \"metric\": null, \"status\": \"Completed\", \"run_type\": \"azureml.scriptrun\", \"training_percent\": \"100\", \"start_time\": \"2021-12-30T21:42:35.078735Z\", \"end_time\": \"2021-12-30T21:44:30.559287Z\", \"created_time\": \"2021-12-30T21:42:35.078735Z\", \"created_time_dt\": \"2021-12-30T21:42:35.078735Z\", \"duration\": \"0:01:55\", \"iteration\": \"25\", \"goal\": \"normalized_root_mean_squared_error_min\", \"run_name\": \"StandardScalerWrapper, LightGBM\", \"run_properties\": \"\\n    copy=True,\\n    with_mean=False,\\n    with_std=False\\n\", \"primary_metric\": 0.05951044, \"best_metric\": 0.0164154}, {\"run_id\": \"AutoML_bc1cccc4-7757-4ddd-bf29-518d0e5419ba_26\", \"run_number\": 857, \"metric\": null, \"status\": \"Completed\", \"run_type\": \"azureml.scriptrun\", \"training_percent\": \"100\", \"start_time\": \"2021-12-30T21:43:08.470719Z\", \"end_time\": \"2021-12-30T21:46:08.312366Z\", \"created_time\": \"2021-12-30T21:43:08.470719Z\", \"created_time_dt\": \"2021-12-30T21:43:08.470719Z\", \"duration\": \"0:02:59\", \"iteration\": \"26\", \"goal\": \"normalized_root_mean_squared_error_min\", \"run_name\": \"MaxAbsScaler, ExtremeRandomTrees\", \"run_properties\": \"copy=True\", \"primary_metric\": 0.04326884, \"best_metric\": 0.0164154}, {\"run_id\": \"AutoML_bc1cccc4-7757-4ddd-bf29-518d0e5419ba_27\", \"run_number\": 858, \"metric\": null, \"status\": \"Completed\", \"run_type\": \"azureml.scriptrun\", \"training_percent\": \"100\", \"start_time\": \"2021-12-30T21:43:49.408259Z\", \"end_time\": \"2021-12-30T21:45:46.962019Z\", \"created_time\": \"2021-12-30T21:43:49.408259Z\", \"created_time_dt\": \"2021-12-30T21:43:49.408259Z\", \"duration\": \"0:01:57\", \"iteration\": \"27\", \"goal\": \"normalized_root_mean_squared_error_min\", \"run_name\": \"MaxAbsScaler, ExtremeRandomTrees\", \"run_properties\": \"copy=True\", \"primary_metric\": 0.02514901, \"best_metric\": 0.0164154}, {\"run_id\": \"AutoML_bc1cccc4-7757-4ddd-bf29-518d0e5419ba_28\", \"run_number\": 859, \"metric\": null, \"status\": \"Completed\", \"run_type\": \"azureml.scriptrun\", \"training_percent\": \"100\", \"start_time\": \"2021-12-30T21:43:58.525387Z\", \"end_time\": \"2021-12-30T21:46:54.530583Z\", \"created_time\": \"2021-12-30T21:43:58.525387Z\", \"created_time_dt\": \"2021-12-30T21:43:58.525387Z\", \"duration\": \"0:02:56\", \"iteration\": \"28\", \"goal\": \"normalized_root_mean_squared_error_min\", \"run_name\": \"MaxAbsScaler, RandomForest\", \"run_properties\": \"copy=True\", \"primary_metric\": 0.02795782, \"best_metric\": 0.0164154}, {\"run_id\": \"AutoML_bc1cccc4-7757-4ddd-bf29-518d0e5419ba_29\", \"run_number\": 860, \"metric\": null, \"status\": \"Completed\", \"run_type\": \"azureml.scriptrun\", \"training_percent\": \"100\", \"start_time\": \"2021-12-30T21:44:32.398276Z\", \"end_time\": \"2021-12-30T21:46:44.083624Z\", \"created_time\": \"2021-12-30T21:44:32.398276Z\", \"created_time_dt\": \"2021-12-30T21:44:32.398276Z\", \"duration\": \"0:02:11\", \"iteration\": \"29\", \"goal\": \"normalized_root_mean_squared_error_min\", \"run_name\": \"MaxAbsScaler, ExtremeRandomTrees\", \"run_properties\": \"copy=True\", \"primary_metric\": 0.08486119, \"best_metric\": 0.0164154}, {\"run_id\": \"AutoML_bc1cccc4-7757-4ddd-bf29-518d0e5419ba_30\", \"run_number\": 861, \"metric\": null, \"status\": \"Completed\", \"run_type\": \"azureml.scriptrun\", \"training_percent\": \"100\", \"start_time\": \"2021-12-30T21:45:49.939446Z\", \"end_time\": \"2021-12-30T21:47:36.13034Z\", \"created_time\": \"2021-12-30T21:45:49.939446Z\", \"created_time_dt\": \"2021-12-30T21:45:49.939446Z\", \"duration\": \"0:01:46\", \"iteration\": \"30\", \"goal\": \"normalized_root_mean_squared_error_min\", \"run_name\": \"MaxAbsScaler, LightGBM\", \"run_properties\": \"copy=True\", \"primary_metric\": 0.02705958, \"best_metric\": 0.0164154}, {\"run_id\": \"AutoML_bc1cccc4-7757-4ddd-bf29-518d0e5419ba_31\", \"run_number\": 862, \"metric\": null, \"status\": \"Completed\", \"run_type\": \"azureml.scriptrun\", \"training_percent\": \"100\", \"start_time\": \"2021-12-30T21:46:10.163967Z\", \"end_time\": \"2021-12-30T21:47:39.559545Z\", \"created_time\": \"2021-12-30T21:46:10.163967Z\", \"created_time_dt\": \"2021-12-30T21:46:10.163967Z\", \"duration\": \"0:01:29\", \"iteration\": \"31\", \"goal\": \"normalized_root_mean_squared_error_min\", \"run_name\": \"MaxAbsScaler, RandomForest\", \"run_properties\": \"copy=True\", \"primary_metric\": 0.02797331, \"best_metric\": 0.0164154}, {\"run_id\": \"AutoML_bc1cccc4-7757-4ddd-bf29-518d0e5419ba_32\", \"run_number\": 863, \"metric\": null, \"status\": \"Completed\", \"run_type\": \"azureml.scriptrun\", \"training_percent\": \"100\", \"start_time\": \"2021-12-30T21:49:11.379873Z\", \"end_time\": \"2021-12-30T21:50:00.513011Z\", \"created_time\": \"2021-12-30T21:46:46.110111Z\", \"created_time_dt\": \"2021-12-30T21:46:46.110111Z\", \"duration\": \"0:03:14\", \"iteration\": \"32\", \"goal\": \"normalized_root_mean_squared_error_min\", \"run_name\": \"MaxAbsScaler, ExtremeRandomTrees\", \"run_properties\": \"copy=True\", \"primary_metric\": 0.06786727, \"best_metric\": 0.0164154}, {\"run_id\": \"AutoML_bc1cccc4-7757-4ddd-bf29-518d0e5419ba_33\", \"run_number\": 864, \"metric\": null, \"status\": \"Completed\", \"run_type\": \"azureml.scriptrun\", \"training_percent\": \"100\", \"start_time\": \"2021-12-30T21:46:56.362375Z\", \"end_time\": \"2021-12-30T21:48:43.829223Z\", \"created_time\": \"2021-12-30T21:46:56.362375Z\", \"created_time_dt\": \"2021-12-30T21:46:56.362375Z\", \"duration\": \"0:01:47\", \"iteration\": \"33\", \"goal\": \"normalized_root_mean_squared_error_min\", \"run_name\": \"StandardScalerWrapper, XGBoostRegressor\", \"run_properties\": \"\\n    copy=True,\\n    with_mean=False,\\n    with_std=False\\n\", \"primary_metric\": 0.01478847, \"best_metric\": 0.01478847}, {\"run_id\": \"AutoML_bc1cccc4-7757-4ddd-bf29-518d0e5419ba_34\", \"run_number\": 865, \"metric\": null, \"status\": \"Completed\", \"run_type\": \"azureml.scriptrun\", \"training_percent\": \"100\", \"start_time\": \"2021-12-30T21:47:37.98074Z\", \"end_time\": \"2021-12-30T21:50:09.739059Z\", \"created_time\": \"2021-12-30T21:47:37.98074Z\", \"created_time_dt\": \"2021-12-30T21:47:37.98074Z\", \"duration\": \"0:02:31\", \"iteration\": \"34\", \"goal\": \"normalized_root_mean_squared_error_min\", \"run_name\": \"StandardScalerWrapper, ExtremeRandomTrees\", \"run_properties\": \"\\n    copy=True,\\n    with_mean=False,\\n    with_std=True\\n\", \"primary_metric\": 0.03901072, \"best_metric\": 0.01478847}, {\"run_id\": \"AutoML_bc1cccc4-7757-4ddd-bf29-518d0e5419ba_35\", \"run_number\": 866, \"metric\": null, \"status\": \"Completed\", \"run_type\": \"azureml.scriptrun\", \"training_percent\": \"100\", \"start_time\": \"2021-12-30T21:47:42.708687Z\", \"end_time\": \"2021-12-30T21:50:33.629661Z\", \"created_time\": \"2021-12-30T21:47:42.708687Z\", \"created_time_dt\": \"2021-12-30T21:47:42.708687Z\", \"duration\": \"0:02:50\", \"iteration\": \"35\", \"goal\": \"normalized_root_mean_squared_error_min\", \"run_name\": \"StandardScalerWrapper, LightGBM\", \"run_properties\": \"\\n    copy=True,\\n    with_mean=False,\\n    with_std=False\\n\", \"primary_metric\": 0.01700557, \"best_metric\": 0.01478847}, {\"run_id\": \"AutoML_bc1cccc4-7757-4ddd-bf29-518d0e5419ba_36\", \"run_number\": 867, \"metric\": null, \"status\": \"Completed\", \"run_type\": \"azureml.scriptrun\", \"training_percent\": \"100\", \"start_time\": \"2021-12-30T21:48:45.976103Z\", \"end_time\": \"2021-12-30T21:50:39.39987Z\", \"created_time\": \"2021-12-30T21:48:45.976103Z\", \"created_time_dt\": \"2021-12-30T21:48:45.976103Z\", \"duration\": \"0:01:53\", \"iteration\": \"36\", \"goal\": \"normalized_root_mean_squared_error_min\", \"run_name\": \"StandardScalerWrapper, DecisionTree\", \"run_properties\": \"\\n    copy=True,\\n    with_mean=False,\\n    with_std=False\\n\", \"primary_metric\": 0.03453717, \"best_metric\": 0.01478847}, {\"run_id\": \"AutoML_bc1cccc4-7757-4ddd-bf29-518d0e5419ba_37\", \"run_number\": 868, \"metric\": null, \"status\": \"Completed\", \"run_type\": \"azureml.scriptrun\", \"training_percent\": \"100\", \"start_time\": \"2021-12-30T21:50:02.56157Z\", \"end_time\": \"2021-12-30T21:53:07.314746Z\", \"created_time\": \"2021-12-30T21:50:02.56157Z\", \"created_time_dt\": \"2021-12-30T21:50:02.56157Z\", \"duration\": \"0:03:04\", \"iteration\": \"37\", \"goal\": \"normalized_root_mean_squared_error_min\", \"run_name\": \"StandardScalerWrapper, RandomForest\", \"run_properties\": \"\\n    copy=True,\\n    with_mean=False,\\n    with_std=False\\n\", \"primary_metric\": 0.04423289, \"best_metric\": 0.01478847}, {\"run_id\": \"AutoML_bc1cccc4-7757-4ddd-bf29-518d0e5419ba_38\", \"run_number\": 869, \"metric\": null, \"status\": \"Completed\", \"run_type\": \"azureml.scriptrun\", \"training_percent\": \"100\", \"start_time\": \"2021-12-30T21:50:11.740879Z\", \"end_time\": \"2021-12-30T21:51:54.955831Z\", \"created_time\": \"2021-12-30T21:50:11.740879Z\", \"created_time_dt\": \"2021-12-30T21:50:11.740879Z\", \"duration\": \"0:01:43\", \"iteration\": \"38\", \"goal\": \"normalized_root_mean_squared_error_min\", \"run_name\": \"MaxAbsScaler, ExtremeRandomTrees\", \"run_properties\": \"copy=True\", \"primary_metric\": 0.08554432, \"best_metric\": 0.01478847}, {\"run_id\": \"AutoML_bc1cccc4-7757-4ddd-bf29-518d0e5419ba_39\", \"run_number\": 870, \"metric\": null, \"status\": \"Completed\", \"run_type\": \"azureml.scriptrun\", \"training_percent\": \"100\", \"start_time\": \"2021-12-30T21:53:13.212112Z\", \"end_time\": \"2021-12-30T21:53:14.83246Z\", \"created_time\": \"2021-12-30T21:50:35.514168Z\", \"created_time_dt\": \"2021-12-30T21:50:35.514168Z\", \"duration\": \"0:02:39\", \"iteration\": \"39\", \"goal\": \"normalized_root_mean_squared_error_min\", \"run_name\": \"StandardScalerWrapper, RandomForest\", \"run_properties\": \"\\n    copy=True,\\n    with_mean=False,\\n    with_std=True\\n\", \"primary_metric\": 0.06000993, \"best_metric\": 0.01478847}, {\"run_id\": \"AutoML_bc1cccc4-7757-4ddd-bf29-518d0e5419ba_40\", \"run_number\": 871, \"metric\": null, \"status\": \"Completed\", \"run_type\": \"azureml.scriptrun\", \"training_percent\": \"100\", \"start_time\": \"2021-12-30T21:50:42.384536Z\", \"end_time\": \"2021-12-30T21:53:49.198149Z\", \"created_time\": \"2021-12-30T21:50:42.384536Z\", \"created_time_dt\": \"2021-12-30T21:50:42.384536Z\", \"duration\": \"0:03:06\", \"iteration\": \"40\", \"goal\": \"normalized_root_mean_squared_error_min\", \"run_name\": \"StandardScalerWrapper, XGBoostRegressor\", \"run_properties\": \"\\n    copy=True,\\n    with_mean=False,\\n    with_std=False\\n\", \"primary_metric\": 0.01765033, \"best_metric\": 0.01478847}, {\"run_id\": \"AutoML_bc1cccc4-7757-4ddd-bf29-518d0e5419ba_41\", \"run_number\": 872, \"metric\": null, \"status\": \"Completed\", \"run_type\": \"azureml.scriptrun\", \"training_percent\": \"100\", \"start_time\": \"2021-12-30T21:51:56.858527Z\", \"end_time\": \"2021-12-30T21:53:47.109615Z\", \"created_time\": \"2021-12-30T21:51:56.858527Z\", \"created_time_dt\": \"2021-12-30T21:51:56.858527Z\", \"duration\": \"0:01:50\", \"iteration\": \"41\", \"goal\": \"normalized_root_mean_squared_error_min\", \"run_name\": \"StandardScalerWrapper, DecisionTree\", \"run_properties\": \"\\n    copy=True,\\n    with_mean=False,\\n    with_std=False\\n\", \"primary_metric\": 0.04293511, \"best_metric\": 0.01478847}, {\"run_id\": \"AutoML_bc1cccc4-7757-4ddd-bf29-518d0e5419ba_42\", \"run_number\": 873, \"metric\": null, \"status\": \"Completed\", \"run_type\": \"azureml.scriptrun\", \"training_percent\": \"100\", \"start_time\": \"2021-12-30T21:53:09.271097Z\", \"end_time\": \"2021-12-30T21:54:34.501886Z\", \"created_time\": \"2021-12-30T21:53:09.271097Z\", \"created_time_dt\": \"2021-12-30T21:53:09.271097Z\", \"duration\": \"0:01:25\", \"iteration\": \"42\", \"goal\": \"normalized_root_mean_squared_error_min\", \"run_name\": \"StandardScalerWrapper, ExtremeRandomTrees\", \"run_properties\": \"\\n    copy=True,\\n    with_mean=False,\\n    with_std=True\\n\", \"primary_metric\": 0.03400753, \"best_metric\": 0.01478847}, {\"run_id\": \"AutoML_bc1cccc4-7757-4ddd-bf29-518d0e5419ba_43\", \"run_number\": 874, \"metric\": null, \"status\": \"Completed\", \"run_type\": \"azureml.scriptrun\", \"training_percent\": \"100\", \"start_time\": \"2021-12-30T21:53:16.873541Z\", \"end_time\": \"2021-12-30T21:55:59.207994Z\", \"created_time\": \"2021-12-30T21:53:16.873541Z\", \"created_time_dt\": \"2021-12-30T21:53:16.873541Z\", \"duration\": \"0:02:42\", \"iteration\": \"43\", \"goal\": \"normalized_root_mean_squared_error_min\", \"run_name\": \"StandardScalerWrapper, RandomForest\", \"run_properties\": \"\\n    copy=True,\\n    with_mean=False,\\n    with_std=True\\n\", \"primary_metric\": 0.02887794, \"best_metric\": 0.01478847}, {\"run_id\": \"AutoML_bc1cccc4-7757-4ddd-bf29-518d0e5419ba_44\", \"run_number\": 875, \"metric\": null, \"status\": \"Completed\", \"run_type\": \"azureml.scriptrun\", \"training_percent\": \"100\", \"start_time\": \"2021-12-30T21:53:49.125524Z\", \"end_time\": \"2021-12-30T21:55:52.221731Z\", \"created_time\": \"2021-12-30T21:53:49.125524Z\", \"created_time_dt\": \"2021-12-30T21:53:49.125524Z\", \"duration\": \"0:02:03\", \"iteration\": \"44\", \"goal\": \"normalized_root_mean_squared_error_min\", \"run_name\": \"StandardScalerWrapper, XGBoostRegressor\", \"run_properties\": \"\\n    copy=True,\\n    with_mean=False,\\n    with_std=False\\n\", \"primary_metric\": 0.0252914, \"best_metric\": 0.01478847}, {\"run_id\": \"AutoML_bc1cccc4-7757-4ddd-bf29-518d0e5419ba_45\", \"run_number\": 876, \"metric\": null, \"status\": \"Canceled\", \"run_type\": \"azureml.scriptrun\", \"training_percent\": \"100\", \"start_time\": \"2021-12-30T21:53:53.433486Z\", \"end_time\": \"2021-12-30T21:57:45.552096Z\", \"created_time\": \"2021-12-30T21:53:53.433486Z\", \"created_time_dt\": \"2021-12-30T21:53:53.433486Z\", \"duration\": \"0:03:52\", \"iteration\": \"45\", \"goal\": \"normalized_root_mean_squared_error_min\", \"run_name\": \"StandardScalerWrapper, XGBoostRegressor\", \"run_properties\": \"\\n    copy=True,\\n    with_mean=False,\\n    with_std=False\\n\", \"primary_metric\": 0.0247911, \"best_metric\": 0.01478847}, {\"run_id\": \"AutoML_bc1cccc4-7757-4ddd-bf29-518d0e5419ba_46\", \"run_number\": 877, \"metric\": null, \"status\": \"Completed\", \"run_type\": \"azureml.scriptrun\", \"training_percent\": \"100\", \"start_time\": \"2021-12-30T21:54:36.669611Z\", \"end_time\": \"2021-12-30T21:57:44.293626Z\", \"created_time\": \"2021-12-30T21:54:36.669611Z\", \"created_time_dt\": \"2021-12-30T21:54:36.669611Z\", \"duration\": \"0:03:07\", \"iteration\": \"46\", \"goal\": \"normalized_root_mean_squared_error_min\", \"run_name\": \"StandardScalerWrapper, DecisionTree\", \"run_properties\": \"\\n    copy=True,\\n    with_mean=False,\\n    with_std=True\\n\", \"primary_metric\": 0.03609872, \"best_metric\": 0.01478847}, {\"run_id\": \"AutoML_bc1cccc4-7757-4ddd-bf29-518d0e5419ba_47\", \"run_number\": 878, \"metric\": null, \"status\": \"Canceled\", \"run_type\": \"azureml.scriptrun\", \"training_percent\": \"100\", \"start_time\": \"2021-12-30T21:55:54.30355Z\", \"end_time\": \"2021-12-30T21:57:45.574848Z\", \"created_time\": \"2021-12-30T21:55:54.30355Z\", \"created_time_dt\": \"2021-12-30T21:55:54.30355Z\", \"duration\": \"0:01:51\", \"iteration\": \"47\", \"goal\": null, \"run_name\": \"Canceled\", \"run_properties\": null}, {\"run_id\": \"AutoML_bc1cccc4-7757-4ddd-bf29-518d0e5419ba_48\", \"run_number\": 879, \"metric\": null, \"status\": \"Canceled\", \"run_type\": \"azureml.scriptrun\", \"training_percent\": \"100\", \"start_time\": \"2021-12-30T21:56:01.333319Z\", \"end_time\": \"2021-12-30T21:57:45.604812Z\", \"created_time\": \"2021-12-30T21:56:01.333319Z\", \"created_time_dt\": \"2021-12-30T21:56:01.333319Z\", \"duration\": \"0:01:44\", \"iteration\": \"48\", \"goal\": null, \"run_name\": \"Canceled\", \"run_properties\": null}, {\"run_id\": \"AutoML_bc1cccc4-7757-4ddd-bf29-518d0e5419ba_50\", \"run_number\": 880, \"metric\": null, \"status\": \"Completed\", \"run_type\": \"azureml.scriptrun\", \"training_percent\": \"100\", \"start_time\": \"2021-12-30T21:57:46.7737Z\", \"end_time\": \"2021-12-30T21:58:58.995769Z\", \"created_time\": \"2021-12-30T21:57:46.7737Z\", \"created_time_dt\": \"2021-12-30T21:57:46.7737Z\", \"duration\": \"0:01:12\", \"iteration\": \"50\", \"goal\": \"normalized_root_mean_squared_error_min\", \"run_name\": \"StackEnsemble\", \"run_properties\": \"\\n    base_learners=[('33', Pipeline(\\n        memory=None,\\n        steps=[('standardscalerwrapper', StandardScalerWrapper(\\n            copy=True,\\n            with_mean=False,\\n            with_std=False\\n        \", \"primary_metric\": 0.01473306, \"best_metric\": 0.01473306}, {\"run_id\": \"AutoML_bc1cccc4-7757-4ddd-bf29-518d0e5419ba_49\", \"run_number\": 881, \"metric\": null, \"status\": \"Completed\", \"run_type\": \"azureml.scriptrun\", \"training_percent\": \"100\", \"start_time\": \"2021-12-30T21:57:46.80097Z\", \"end_time\": \"2021-12-30T22:00:30.477433Z\", \"created_time\": \"2021-12-30T21:57:46.80097Z\", \"created_time_dt\": \"2021-12-30T21:57:46.80097Z\", \"duration\": \"0:02:43\", \"iteration\": \"49\", \"goal\": \"normalized_root_mean_squared_error_min\", \"run_name\": \"VotingEnsemble\", \"run_properties\": \"\\n    estimators=[('33', Pipeline(\\n        memory=None,\\n        steps=[('standardscalerwrapper', StandardScalerWrapper(\\n            copy=True,\\n            with_mean=False,\\n            with_std=False\\n        \", \"primary_metric\": 0.01477281, \"best_metric\": 0.01477281}], \"children_metrics\": {\"categories\": [0], \"series\": {\"mean_absolute_error\": [{\"categories\": [\"0\", \"1\", \"2\", \"3\", \"4\", \"5\", \"6\", \"7\", \"8\", \"9\", \"10\", \"11\", \"12\", \"13\", \"14\", \"15\", \"16\", \"17\", \"18\", \"19\", \"20\", \"21\", \"22\", \"23\", \"24\", \"25\", \"26\", \"27\", \"28\", \"29\", \"30\", \"31\", \"32\", \"33\", \"34\", \"35\", \"36\", \"37\", \"38\", \"39\", \"40\", \"41\", \"42\", \"43\", \"44\", \"45\", \"46\", \"49\", \"50\"], \"mode\": \"markers\", \"name\": \"mean_absolute_error\", \"stepped\": false, \"type\": \"scatter\", \"data\": [0.2694244306662831, 0.4313204185401171, 0.9270369641975075, 0.9271100966070414, 0.927015662797069, 0.9269800205503902, 0.42017009613682116, 0.929160450073792, 0.9271690480234902, 1.233029778025526, 0.8263813940324459, 0.9570071739266207, 0.9312609703854396, 0.929160450073792, 1.0059307268708724, 0.9285803969783347, 0.5928494721466135, 0.9293857178437467, 0.4214315986188655, 0.25827217582919587, 2.3145383439088474, 0.9130207889684879, 0.5492450833871819, 0.6820459366519985, 0.7638930522729858, 1.108278451895705, 0.8159524440523279, 0.47100909868671065, 0.48259879704704695, 1.6853684496858081, 0.5162609600625055, 0.5151031700423349, 1.3348836304874308, 0.20388764823822572, 0.7453864464947452, 0.26297388603375765, 0.6265129906629356, 0.7855073649714072, 1.701249572498317, 1.1138176367731492, 0.2939800206864222, 0.7180425106090312, 0.647151564541763, 0.5158189410228742, 0.4929899489170144, 0.46829129186358937, 0.6799752245140093, 0.2062876651422827, 0.21138016371362411]}, {\"categories\": [\"0\", \"1\", \"2\", \"3\", \"4\", \"5\", \"6\", \"7\", \"8\", \"9\", \"10\", \"11\", \"12\", \"13\", \"14\", \"15\", \"16\", \"17\", \"18\", \"19\", \"20\", \"21\", \"22\", \"23\", \"24\", \"25\", \"26\", \"27\", \"28\", \"29\", \"30\", \"31\", \"32\", \"33\", \"34\", \"35\", \"36\", \"37\", \"38\", \"39\", \"40\", \"41\", \"42\", \"43\", \"44\", \"45\", \"46\", \"49\", \"50\"], \"mode\": \"lines\", \"name\": \"mean_absolute_error_min\", \"stepped\": true, \"type\": \"scatter\", \"data\": [0.2694244306662831, 0.2694244306662831, 0.2694244306662831, 0.2694244306662831, 0.2694244306662831, 0.2694244306662831, 0.2694244306662831, 0.2694244306662831, 0.2694244306662831, 0.2694244306662831, 0.2694244306662831, 0.2694244306662831, 0.2694244306662831, 0.2694244306662831, 0.2694244306662831, 0.2694244306662831, 0.2694244306662831, 0.2694244306662831, 0.2694244306662831, 0.25827217582919587, 0.25827217582919587, 0.25827217582919587, 0.25827217582919587, 0.25827217582919587, 0.25827217582919587, 0.25827217582919587, 0.25827217582919587, 0.25827217582919587, 0.25827217582919587, 0.25827217582919587, 0.25827217582919587, 0.25827217582919587, 0.25827217582919587, 0.20388764823822572, 0.20388764823822572, 0.20388764823822572, 0.20388764823822572, 0.20388764823822572, 0.20388764823822572, 0.20388764823822572, 0.20388764823822572, 0.20388764823822572, 0.20388764823822572, 0.20388764823822572, 0.20388764823822572, 0.20388764823822572, 0.20388764823822572, 0.20388764823822572, 0.20388764823822572]}], \"spearman_correlation\": [{\"categories\": [\"0\", \"1\", \"2\", \"3\", \"4\", \"5\", \"6\", \"7\", \"8\", \"9\", \"10\", \"11\", \"12\", \"13\", \"14\", \"15\", \"16\", \"17\", \"18\", \"19\", \"20\", \"21\", \"22\", \"23\", \"24\", \"25\", \"26\", \"27\", \"28\", \"29\", \"30\", \"31\", \"32\", \"33\", \"34\", \"35\", \"36\", \"37\", \"38\", \"39\", \"40\", \"41\", \"42\", \"43\", \"44\", \"45\", \"46\", \"49\", \"50\"], \"mode\": \"markers\", \"name\": \"spearman_correlation\", \"stepped\": false, \"type\": \"scatter\", \"data\": [0.978620245982993, 0.9754808681739657, 0.9409439240311218, 0.9408716744760307, 0.9409479263704581, 0.9409492652726213, 0.976019113598686, 0.9406160753955173, 0.9408716940879537, 0.9390239732794229, 0.9534094459793779, 0.9406075120502363, 0.9407935246250632, 0.9406160753955173, 0.9400807481282304, 0.9405104295275931, 0.9623232399729004, 0.9406431926888285, 0.971496011685895, 0.9785577256171588, 0.8380105885921701, 0.9563475048214793, 0.9711184041114821, 0.968632599018823, 0.9708059119750606, 0.9440884112347679, 0.966857205815495, 0.9746985210697016, 0.9754834424317317, 0.9461294545583829, 0.9733064235833355, 0.9714879451429489, 0.9594583241633545, 0.9788984127495505, 0.9625658205579842, 0.9786532775270723, 0.959296161186419, 0.9720933924398977, 0.9472651286267881, 0.9637143875202693, 0.9784295743191179, 0.9344240196738189, 0.9691552751866476, 0.9733116420211155, 0.9741264645323232, 0.974723285553332, 0.9535182117251235, 0.9789567882202258, 0.9789816917580646]}, {\"categories\": [\"0\", \"1\", \"2\", \"3\", \"4\", \"5\", \"6\", \"7\", \"8\", \"9\", \"10\", \"11\", \"12\", \"13\", \"14\", \"15\", \"16\", \"17\", \"18\", \"19\", \"20\", \"21\", \"22\", \"23\", \"24\", \"25\", \"26\", \"27\", \"28\", \"29\", \"30\", \"31\", \"32\", \"33\", \"34\", \"35\", \"36\", \"37\", \"38\", \"39\", \"40\", \"41\", \"42\", \"43\", \"44\", \"45\", \"46\", \"49\", \"50\"], \"mode\": \"lines\", \"name\": \"spearman_correlation_max\", \"stepped\": true, \"type\": \"scatter\", \"data\": [0.978620245982993, 0.978620245982993, 0.978620245982993, 0.978620245982993, 0.978620245982993, 0.978620245982993, 0.978620245982993, 0.978620245982993, 0.978620245982993, 0.978620245982993, 0.978620245982993, 0.978620245982993, 0.978620245982993, 0.978620245982993, 0.978620245982993, 0.978620245982993, 0.978620245982993, 0.978620245982993, 0.978620245982993, 0.978620245982993, 0.978620245982993, 0.978620245982993, 0.978620245982993, 0.978620245982993, 0.978620245982993, 0.978620245982993, 0.978620245982993, 0.978620245982993, 0.978620245982993, 0.978620245982993, 0.978620245982993, 0.978620245982993, 0.978620245982993, 0.9788984127495505, 0.9788984127495505, 0.9788984127495505, 0.9788984127495505, 0.9788984127495505, 0.9788984127495505, 0.9788984127495505, 0.9788984127495505, 0.9788984127495505, 0.9788984127495505, 0.9788984127495505, 0.9788984127495505, 0.9788984127495505, 0.9788984127495505, 0.9789567882202258, 0.9789816917580646]}], \"root_mean_squared_log_error\": [{\"categories\": [\"0\", \"1\", \"2\", \"3\", \"4\", \"5\", \"6\", \"7\", \"8\", \"9\", \"10\", \"11\", \"12\", \"13\", \"14\", \"15\", \"16\", \"17\", \"18\", \"19\", \"20\", \"21\", \"22\", \"23\", \"24\", \"25\", \"26\", \"27\", \"28\", \"29\", \"30\", \"31\", \"32\", \"33\", \"34\", \"35\", \"36\", \"37\", \"38\", \"39\", \"40\", \"41\", \"42\", \"43\", \"44\", \"45\", \"46\", \"49\", \"50\"], \"mode\": \"markers\", \"name\": \"root_mean_squared_log_error\", \"stepped\": false, \"type\": \"scatter\", \"data\": [NaN, NaN, NaN, NaN, NaN, NaN, NaN, NaN, NaN, NaN, NaN, NaN, NaN, NaN, NaN, NaN, NaN, NaN, NaN, NaN, NaN, NaN, NaN, NaN, NaN, NaN, NaN, NaN, NaN, NaN, NaN, NaN, NaN, NaN, NaN, NaN, NaN, NaN, NaN, NaN, NaN, NaN, NaN, NaN, NaN, NaN, NaN, NaN, NaN]}, {\"categories\": [\"0\", \"1\", \"2\", \"3\", \"4\", \"5\", \"6\", \"7\", \"8\", \"9\", \"10\", \"11\", \"12\", \"13\", \"14\", \"15\", \"16\", \"17\", \"18\", \"19\", \"20\", \"21\", \"22\", \"23\", \"24\", \"25\", \"26\", \"27\", \"28\", \"29\", \"30\", \"31\", \"32\", \"33\", \"34\", \"35\", \"36\", \"37\", \"38\", \"39\", \"40\", \"41\", \"42\", \"43\", \"44\", \"45\", \"46\", \"49\", \"50\"], \"mode\": \"lines\", \"name\": \"root_mean_squared_log_error_min\", \"stepped\": true, \"type\": \"scatter\", \"data\": [NaN, NaN, NaN, NaN, NaN, NaN, NaN, NaN, NaN, NaN, NaN, NaN, NaN, NaN, NaN, NaN, NaN, NaN, NaN, NaN, NaN, NaN, NaN, NaN, NaN, NaN, NaN, NaN, NaN, NaN, NaN, NaN, NaN, NaN, NaN, NaN, NaN, NaN, NaN, NaN, NaN, NaN, NaN, NaN, NaN, NaN, NaN, NaN, NaN]}], \"normalized_median_absolute_error\": [{\"categories\": [\"0\", \"1\", \"2\", \"3\", \"4\", \"5\", \"6\", \"7\", \"8\", \"9\", \"10\", \"11\", \"12\", \"13\", \"14\", \"15\", \"16\", \"17\", \"18\", \"19\", \"20\", \"21\", \"22\", \"23\", \"24\", \"25\", \"26\", \"27\", \"28\", \"29\", \"30\", \"31\", \"32\", \"33\", \"34\", \"35\", \"36\", \"37\", \"38\", \"39\", \"40\", \"41\", \"42\", \"43\", \"44\", \"45\", \"46\", \"49\", \"50\"], \"mode\": \"markers\", \"name\": \"normalized_median_absolute_error\", \"stepped\": false, \"type\": \"scatter\", \"data\": [0.005342168731062936, 0.012229454249907762, 0.026890914461904624, 0.02694768823504333, 0.026917175444349937, 0.026956885245945555, 0.010504649182395492, 0.027179958547444996, 0.02697626516147761, 0.03495303158418932, 0.02087149083035793, 0.028052414944542147, 0.027023713994801923, 0.027179958547444996, 0.029656872595673813, 0.027271179172799618, 0.014832959475495693, 0.027136781427923806, 0.008682960938833048, 0.004162094171457728, 0.07562330838243958, 0.026067903011946936, 0.015737850768393923, 0.01901816491838262, 0.019638216916806107, 0.02808585400097785, 0.023081952382760163, 0.01260695667050272, 0.011558877322395524, 0.05143164307214596, 0.014355997765534227, 0.013498309631086275, 0.041082673583261335, 0.0028219780860803067, 0.02101049652046723, 0.004504864879960433, 0.01601656206278209, 0.020300344148676142, 0.05251492071731804, 0.029633203114980716, 0.00624359456392435, 0.015780610464016884, 0.018393090535955368, 0.013093866020190538, 0.014356370155627912, 0.012740183144043654, 0.02036311467148906, 0.0029389300690879296, 0.0032966435215405813]}, {\"categories\": [\"0\", \"1\", \"2\", \"3\", \"4\", \"5\", \"6\", \"7\", \"8\", \"9\", \"10\", \"11\", \"12\", \"13\", \"14\", \"15\", \"16\", \"17\", \"18\", \"19\", \"20\", \"21\", \"22\", \"23\", \"24\", \"25\", \"26\", \"27\", \"28\", \"29\", \"30\", \"31\", \"32\", \"33\", \"34\", \"35\", \"36\", \"37\", \"38\", \"39\", \"40\", \"41\", \"42\", \"43\", \"44\", \"45\", \"46\", \"49\", \"50\"], \"mode\": \"lines\", \"name\": \"normalized_median_absolute_error_min\", \"stepped\": true, \"type\": \"scatter\", \"data\": [0.005342168731062936, 0.005342168731062936, 0.005342168731062936, 0.005342168731062936, 0.005342168731062936, 0.005342168731062936, 0.005342168731062936, 0.005342168731062936, 0.005342168731062936, 0.005342168731062936, 0.005342168731062936, 0.005342168731062936, 0.005342168731062936, 0.005342168731062936, 0.005342168731062936, 0.005342168731062936, 0.005342168731062936, 0.005342168731062936, 0.005342168731062936, 0.004162094171457728, 0.004162094171457728, 0.004162094171457728, 0.004162094171457728, 0.004162094171457728, 0.004162094171457728, 0.004162094171457728, 0.004162094171457728, 0.004162094171457728, 0.004162094171457728, 0.004162094171457728, 0.004162094171457728, 0.004162094171457728, 0.004162094171457728, 0.0028219780860803067, 0.0028219780860803067, 0.0028219780860803067, 0.0028219780860803067, 0.0028219780860803067, 0.0028219780860803067, 0.0028219780860803067, 0.0028219780860803067, 0.0028219780860803067, 0.0028219780860803067, 0.0028219780860803067, 0.0028219780860803067, 0.0028219780860803067, 0.0028219780860803067, 0.0028219780860803067, 0.0028219780860803067]}], \"r2_score\": [{\"categories\": [\"0\", \"1\", \"2\", \"3\", \"4\", \"5\", \"6\", \"7\", \"8\", \"9\", \"10\", \"11\", \"12\", \"13\", \"14\", \"15\", \"16\", \"17\", \"18\", \"19\", \"20\", \"21\", \"22\", \"23\", \"24\", \"25\", \"26\", \"27\", \"28\", \"29\", \"30\", \"31\", \"32\", \"33\", \"34\", \"35\", \"36\", \"37\", \"38\", \"39\", \"40\", \"41\", \"42\", \"43\", \"44\", \"45\", \"46\", \"49\", \"50\"], \"mode\": \"markers\", \"name\": \"r2_score\", \"stepped\": false, \"type\": \"scatter\", \"data\": [0.9804467875743148, 0.9639321468041219, 0.8373057783931502, 0.8369890888876247, 0.8373133613660245, 0.8373186460126276, 0.9610383170375721, 0.8361513986023138, 0.8369693106228189, 0.7010160721449363, 0.8608358454241835, 0.8236427415620273, 0.8351199851356873, 0.8361513986023138, 0.8017342356457816, 0.8362606905734761, 0.9224522935285883, 0.8361012508338859, 0.9517619341216644, 0.9791945613733515, 0.024316058864929418, 0.8313407388511594, 0.9414147174464658, 0.902679567886668, 0.8639371910471733, 0.7430176098903858, 0.8639448650705589, 0.954104245539396, 0.9432800473796982, 0.4773282660314744, 0.9468628566532956, 0.9431929184440279, 0.6657676172879367, 0.9841265419994422, 0.8895300967936843, 0.9790145894265688, 0.9133956849911021, 0.8579803693444398, 0.46895355591820725, 0.7385874985731733, 0.9773758217512637, 0.8555213062502833, 0.9160435476274302, 0.9393778570791108, 0.9535166454648533, 0.9552758991110162, 0.9037151630557564, 0.9841612373281933, 0.9842479255271815]}, {\"categories\": [\"0\", \"1\", \"2\", \"3\", \"4\", \"5\", \"6\", \"7\", \"8\", \"9\", \"10\", \"11\", \"12\", \"13\", \"14\", \"15\", \"16\", \"17\", \"18\", \"19\", \"20\", \"21\", \"22\", \"23\", \"24\", \"25\", \"26\", \"27\", \"28\", \"29\", \"30\", \"31\", \"32\", \"33\", \"34\", \"35\", \"36\", \"37\", \"38\", \"39\", \"40\", \"41\", \"42\", \"43\", \"44\", \"45\", \"46\", \"49\", \"50\"], \"mode\": \"lines\", \"name\": \"r2_score_max\", \"stepped\": true, \"type\": \"scatter\", \"data\": [0.9804467875743148, 0.9804467875743148, 0.9804467875743148, 0.9804467875743148, 0.9804467875743148, 0.9804467875743148, 0.9804467875743148, 0.9804467875743148, 0.9804467875743148, 0.9804467875743148, 0.9804467875743148, 0.9804467875743148, 0.9804467875743148, 0.9804467875743148, 0.9804467875743148, 0.9804467875743148, 0.9804467875743148, 0.9804467875743148, 0.9804467875743148, 0.9804467875743148, 0.9804467875743148, 0.9804467875743148, 0.9804467875743148, 0.9804467875743148, 0.9804467875743148, 0.9804467875743148, 0.9804467875743148, 0.9804467875743148, 0.9804467875743148, 0.9804467875743148, 0.9804467875743148, 0.9804467875743148, 0.9804467875743148, 0.9841265419994422, 0.9841265419994422, 0.9841265419994422, 0.9841265419994422, 0.9841265419994422, 0.9841265419994422, 0.9841265419994422, 0.9841265419994422, 0.9841265419994422, 0.9841265419994422, 0.9841265419994422, 0.9841265419994422, 0.9841265419994422, 0.9841265419994422, 0.9841612373281933, 0.9842479255271815]}], \"root_mean_squared_error\": [{\"categories\": [\"0\", \"1\", \"2\", \"3\", \"4\", \"5\", \"6\", \"7\", \"8\", \"9\", \"10\", \"11\", \"12\", \"13\", \"14\", \"15\", \"16\", \"17\", \"18\", \"19\", \"20\", \"21\", \"22\", \"23\", \"24\", \"25\", \"26\", \"27\", \"28\", \"29\", \"30\", \"31\", \"32\", \"33\", \"34\", \"35\", \"36\", \"37\", \"38\", \"39\", \"40\", \"41\", \"42\", \"43\", \"44\", \"45\", \"46\", \"49\", \"50\"], \"mode\": \"markers\", \"name\": \"root_mean_squared_error\", \"stepped\": false, \"type\": \"scatter\", \"data\": [0.4268004088542474, 0.5796604309234542, 1.2311202120373113, 1.232315473986832, 1.2310915165397789, 1.2310715014487006, 0.6023449619510433, 1.2354820523075254, 1.2323902304285657, 1.6689376416026416, 1.137585558124038, 1.2817777430582273, 1.239365299887255, 1.2354820523075254, 1.3590644460446502, 1.2350695955340492, 0.8499323994408075, 1.2356712094287803, 0.6703433431083458, 0.4402437862086019, 3.014823973172245, 1.2531484695538984, 0.7384168306762214, 0.9494714109847884, 1.1254384394613668, 1.5472714424236873, 1.124989754344278, 0.6538742255884761, 0.726903221232808, 2.2063908996897794, 0.7035491030982076, 0.7273061552542969, 1.7645489279172277, 0.38450015894484624, 1.0142787872205685, 0.4421447534538383, 0.8979665172586055, 1.1500552320079935, 2.224152231698653, 1.5602581003838738, 0.45890855216306803, 1.1163128371860611, 0.8841958953177022, 0.7508263517091512, 0.657576463518944, 0.6445685937810237, 0.938566657844976, 0.3840930343144124, 0.38305968654038797]}, {\"categories\": [\"0\", \"1\", \"2\", \"3\", \"4\", \"5\", \"6\", \"7\", \"8\", \"9\", \"10\", \"11\", \"12\", \"13\", \"14\", \"15\", \"16\", \"17\", \"18\", \"19\", \"20\", \"21\", \"22\", \"23\", \"24\", \"25\", \"26\", \"27\", \"28\", \"29\", \"30\", \"31\", \"32\", \"33\", \"34\", \"35\", \"36\", \"37\", \"38\", \"39\", \"40\", \"41\", \"42\", \"43\", \"44\", \"45\", \"46\", \"49\", \"50\"], \"mode\": \"lines\", \"name\": \"root_mean_squared_error_min\", \"stepped\": true, \"type\": \"scatter\", \"data\": [0.4268004088542474, 0.4268004088542474, 0.4268004088542474, 0.4268004088542474, 0.4268004088542474, 0.4268004088542474, 0.4268004088542474, 0.4268004088542474, 0.4268004088542474, 0.4268004088542474, 0.4268004088542474, 0.4268004088542474, 0.4268004088542474, 0.4268004088542474, 0.4268004088542474, 0.4268004088542474, 0.4268004088542474, 0.4268004088542474, 0.4268004088542474, 0.4268004088542474, 0.4268004088542474, 0.4268004088542474, 0.4268004088542474, 0.4268004088542474, 0.4268004088542474, 0.4268004088542474, 0.4268004088542474, 0.4268004088542474, 0.4268004088542474, 0.4268004088542474, 0.4268004088542474, 0.4268004088542474, 0.4268004088542474, 0.38450015894484624, 0.38450015894484624, 0.38450015894484624, 0.38450015894484624, 0.38450015894484624, 0.38450015894484624, 0.38450015894484624, 0.38450015894484624, 0.38450015894484624, 0.38450015894484624, 0.38450015894484624, 0.38450015894484624, 0.38450015894484624, 0.38450015894484624, 0.3840930343144124, 0.38305968654038797]}], \"normalized_mean_absolute_error\": [{\"categories\": [\"0\", \"1\", \"2\", \"3\", \"4\", \"5\", \"6\", \"7\", \"8\", \"9\", \"10\", \"11\", \"12\", \"13\", \"14\", \"15\", \"16\", \"17\", \"18\", \"19\", \"20\", \"21\", \"22\", \"23\", \"24\", \"25\", \"26\", \"27\", \"28\", \"29\", \"30\", \"31\", \"32\", \"33\", \"34\", \"35\", \"36\", \"37\", \"38\", \"39\", \"40\", \"41\", \"42\", \"43\", \"44\", \"45\", \"46\", \"49\", \"50\"], \"mode\": \"markers\", \"name\": \"normalized_mean_absolute_error\", \"stepped\": false, \"type\": \"scatter\", \"data\": [0.010362478102549349, 0.016589246866927584, 0.03565526785375029, 0.03565808063873236, 0.03565444856911804, 0.035653077713476554, 0.016160388312954663, 0.03573694038745354, 0.03566034800090346, 0.047424222231751, 0.03178389977047869, 0.03680796822794694, 0.03581772963020922, 0.03573694038745354, 0.03868964334118741, 0.03571463065301288, 0.02280190277486975, 0.03574560453245179, 0.016208907639187135, 0.009933545224199841, 0.08902070553495567, 0.03511618419109568, 0.021124810899506994, 0.02623253602507687, 0.02938050201049945, 0.04262609430368095, 0.03138278630970492, 0.018115734564873486, 0.018561492194117193, 0.06482186344945416, 0.019856190771634825, 0.019811660386243646, 0.05134167809567042, 0.007841832624547143, 0.028668709480567125, 0.010114380232067604, 0.024096653487035987, 0.030211821729669505, 0.06543267586531988, 0.04283913987589035, 0.011306923872554699, 0.027617019638808898, 0.02489044479006781, 0.01983919003934131, 0.018961151881423628, 0.018011203533214972, 0.02615289325053882, 0.007934140967010872, 0.00813000629667785]}, {\"categories\": [\"0\", \"1\", \"2\", \"3\", \"4\", \"5\", \"6\", \"7\", \"8\", \"9\", \"10\", \"11\", \"12\", \"13\", \"14\", \"15\", \"16\", \"17\", \"18\", \"19\", \"20\", \"21\", \"22\", \"23\", \"24\", \"25\", \"26\", \"27\", \"28\", \"29\", \"30\", \"31\", \"32\", \"33\", \"34\", \"35\", \"36\", \"37\", \"38\", \"39\", \"40\", \"41\", \"42\", \"43\", \"44\", \"45\", \"46\", \"49\", \"50\"], \"mode\": \"lines\", \"name\": \"normalized_mean_absolute_error_min\", \"stepped\": true, \"type\": \"scatter\", \"data\": [0.010362478102549349, 0.010362478102549349, 0.010362478102549349, 0.010362478102549349, 0.010362478102549349, 0.010362478102549349, 0.010362478102549349, 0.010362478102549349, 0.010362478102549349, 0.010362478102549349, 0.010362478102549349, 0.010362478102549349, 0.010362478102549349, 0.010362478102549349, 0.010362478102549349, 0.010362478102549349, 0.010362478102549349, 0.010362478102549349, 0.010362478102549349, 0.009933545224199841, 0.009933545224199841, 0.009933545224199841, 0.009933545224199841, 0.009933545224199841, 0.009933545224199841, 0.009933545224199841, 0.009933545224199841, 0.009933545224199841, 0.009933545224199841, 0.009933545224199841, 0.009933545224199841, 0.009933545224199841, 0.009933545224199841, 0.007841832624547143, 0.007841832624547143, 0.007841832624547143, 0.007841832624547143, 0.007841832624547143, 0.007841832624547143, 0.007841832624547143, 0.007841832624547143, 0.007841832624547143, 0.007841832624547143, 0.007841832624547143, 0.007841832624547143, 0.007841832624547143, 0.007841832624547143, 0.007841832624547143, 0.007841832624547143]}], \"normalized_root_mean_squared_log_error\": [{\"categories\": [\"0\", \"1\", \"2\", \"3\", \"4\", \"5\", \"6\", \"7\", \"8\", \"9\", \"10\", \"11\", \"12\", \"13\", \"14\", \"15\", \"16\", \"17\", \"18\", \"19\", \"20\", \"21\", \"22\", \"23\", \"24\", \"25\", \"26\", \"27\", \"28\", \"29\", \"30\", \"31\", \"32\", \"33\", \"34\", \"35\", \"36\", \"37\", \"38\", \"39\", \"40\", \"41\", \"42\", \"43\", \"44\", \"45\", \"46\", \"49\", \"50\"], \"mode\": \"markers\", \"name\": \"normalized_root_mean_squared_log_error\", \"stepped\": false, \"type\": \"scatter\", \"data\": [NaN, NaN, NaN, NaN, NaN, NaN, NaN, NaN, NaN, NaN, NaN, NaN, NaN, NaN, NaN, NaN, NaN, NaN, NaN, NaN, NaN, NaN, NaN, NaN, NaN, NaN, NaN, NaN, NaN, NaN, NaN, NaN, NaN, NaN, NaN, NaN, NaN, NaN, NaN, NaN, NaN, NaN, NaN, NaN, NaN, NaN, NaN, NaN, NaN]}, {\"categories\": [\"0\", \"1\", \"2\", \"3\", \"4\", \"5\", \"6\", \"7\", \"8\", \"9\", \"10\", \"11\", \"12\", \"13\", \"14\", \"15\", \"16\", \"17\", \"18\", \"19\", \"20\", \"21\", \"22\", \"23\", \"24\", \"25\", \"26\", \"27\", \"28\", \"29\", \"30\", \"31\", \"32\", \"33\", \"34\", \"35\", \"36\", \"37\", \"38\", \"39\", \"40\", \"41\", \"42\", \"43\", \"44\", \"45\", \"46\", \"49\", \"50\"], \"mode\": \"lines\", \"name\": \"normalized_root_mean_squared_log_error_min\", \"stepped\": true, \"type\": \"scatter\", \"data\": [NaN, NaN, NaN, NaN, NaN, NaN, NaN, NaN, NaN, NaN, NaN, NaN, NaN, NaN, NaN, NaN, NaN, NaN, NaN, NaN, NaN, NaN, NaN, NaN, NaN, NaN, NaN, NaN, NaN, NaN, NaN, NaN, NaN, NaN, NaN, NaN, NaN, NaN, NaN, NaN, NaN, NaN, NaN, NaN, NaN, NaN, NaN, NaN, NaN]}], \"mean_absolute_percentage_error\": [{\"categories\": [\"0\", \"1\", \"2\", \"3\", \"4\", \"5\", \"6\", \"7\", \"8\", \"9\", \"10\", \"11\", \"12\", \"13\", \"14\", \"15\", \"16\", \"17\", \"18\", \"19\", \"20\", \"21\", \"22\", \"23\", \"24\", \"25\", \"26\", \"27\", \"28\", \"29\", \"30\", \"31\", \"32\", \"33\", \"34\", \"35\", \"36\", \"37\", \"38\", \"39\", \"40\", \"41\", \"42\", \"43\", \"44\", \"45\", \"46\", \"49\", \"50\"], \"mode\": \"markers\", \"name\": \"mean_absolute_percentage_error\", \"stepped\": false, \"type\": \"scatter\", \"data\": [10.338637864723013, 16.28480503632986, 31.523991483862602, 31.56449415148536, 31.537392927784357, 31.551312256168654, 15.243312554717237, 31.222578071993677, 31.5607966657998, 42.27890135793407, 26.669070374917563, 31.178038644585666, 31.087448218893375, 31.222578071993677, 32.55494125346016, 31.277895853795204, 22.15341422157762, 31.205719671749478, 15.690591830447708, 9.671294001600526, 98.45781996040785, 30.28396923219358, 19.692533045698088, 24.514169788132623, 24.88198332589867, 36.57046335413568, 28.866070873442684, 17.37245001889183, 16.574181259902446, 66.83829190346121, 18.98839376997489, 18.38987639429518, 51.975964955486525, 7.651052510161372, 25.55857397549291, 9.760325220162448, 23.30216125279345, 25.92374909896995, 67.97714194776871, 37.328544125982, 11.102453609579086, 25.50607404793944, 22.911885269979578, 18.02967649677156, 18.140536008618877, 17.15637588532347, 25.437383097658, 7.747854539880482, 7.976002268741017]}, {\"categories\": [\"0\", \"1\", \"2\", \"3\", \"4\", \"5\", \"6\", \"7\", \"8\", \"9\", \"10\", \"11\", \"12\", \"13\", \"14\", \"15\", \"16\", \"17\", \"18\", \"19\", \"20\", \"21\", \"22\", \"23\", \"24\", \"25\", \"26\", \"27\", \"28\", \"29\", \"30\", \"31\", \"32\", \"33\", \"34\", \"35\", \"36\", \"37\", \"38\", \"39\", \"40\", \"41\", \"42\", \"43\", \"44\", \"45\", \"46\", \"49\", \"50\"], \"mode\": \"lines\", \"name\": \"mean_absolute_percentage_error_min\", \"stepped\": true, \"type\": \"scatter\", \"data\": [10.338637864723013, 10.338637864723013, 10.338637864723013, 10.338637864723013, 10.338637864723013, 10.338637864723013, 10.338637864723013, 10.338637864723013, 10.338637864723013, 10.338637864723013, 10.338637864723013, 10.338637864723013, 10.338637864723013, 10.338637864723013, 10.338637864723013, 10.338637864723013, 10.338637864723013, 10.338637864723013, 10.338637864723013, 9.671294001600526, 9.671294001600526, 9.671294001600526, 9.671294001600526, 9.671294001600526, 9.671294001600526, 9.671294001600526, 9.671294001600526, 9.671294001600526, 9.671294001600526, 9.671294001600526, 9.671294001600526, 9.671294001600526, 9.671294001600526, 7.651052510161372, 7.651052510161372, 7.651052510161372, 7.651052510161372, 7.651052510161372, 7.651052510161372, 7.651052510161372, 7.651052510161372, 7.651052510161372, 7.651052510161372, 7.651052510161372, 7.651052510161372, 7.651052510161372, 7.651052510161372, 7.651052510161372, 7.651052510161372]}], \"normalized_root_mean_squared_error\": [{\"categories\": [\"0\", \"1\", \"2\", \"3\", \"4\", \"5\", \"6\", \"7\", \"8\", \"9\", \"10\", \"11\", \"12\", \"13\", \"14\", \"15\", \"16\", \"17\", \"18\", \"19\", \"20\", \"21\", \"22\", \"23\", \"24\", \"25\", \"26\", \"27\", \"28\", \"29\", \"30\", \"31\", \"32\", \"33\", \"34\", \"35\", \"36\", \"37\", \"38\", \"39\", \"40\", \"41\", \"42\", \"43\", \"44\", \"45\", \"46\", \"49\", \"50\"], \"mode\": \"markers\", \"name\": \"normalized_root_mean_squared_error\", \"stepped\": false, \"type\": \"scatter\", \"data\": [0.01641540034054798, 0.02229463195859439, 0.04735077738605043, 0.04739674899949354, 0.04734967371306842, 0.0473489039018731, 0.023167113921193975, 0.04751854047336635, 0.047399624247252525, 0.0641899092924093, 0.043753290697078374, 0.04929914396377797, 0.04766789614950981, 0.04751854047336635, 0.052271709463255774, 0.04750267675130957, 0.03268970767080028, 0.04752581574726078, 0.02578243627339791, 0.016932453315715454, 0.11595476819893248, 0.048198018059765334, 0.02840064733370082, 0.036518131191722626, 0.04328609382543719, 0.059510440093218736, 0.04326883670554915, 0.02514900867647985, 0.027957816201261847, 0.08486118844960693, 0.0270595808883926, 0.027973313663626802, 0.0678672664583549, 0.014788467651724856, 0.03901072258540648, 0.017005567440532245, 0.034537173740715604, 0.044232893538768976, 0.08554431660379432, 0.060009926937841296, 0.017650328929348768, 0.04293510912254082, 0.03400753443529624, 0.028877936604198125, 0.02529140244303631, 0.024791099760808604, 0.03609871760942215, 0.014772809012092785, 0.014733064866937998]}, {\"categories\": [\"0\", \"1\", \"2\", \"3\", \"4\", \"5\", \"6\", \"7\", \"8\", \"9\", \"10\", \"11\", \"12\", \"13\", \"14\", \"15\", \"16\", \"17\", \"18\", \"19\", \"20\", \"21\", \"22\", \"23\", \"24\", \"25\", \"26\", \"27\", \"28\", \"29\", \"30\", \"31\", \"32\", \"33\", \"34\", \"35\", \"36\", \"37\", \"38\", \"39\", \"40\", \"41\", \"42\", \"43\", \"44\", \"45\", \"46\", \"49\", \"50\"], \"mode\": \"lines\", \"name\": \"normalized_root_mean_squared_error_min\", \"stepped\": true, \"type\": \"scatter\", \"data\": [0.01641540034054798, 0.01641540034054798, 0.01641540034054798, 0.01641540034054798, 0.01641540034054798, 0.01641540034054798, 0.01641540034054798, 0.01641540034054798, 0.01641540034054798, 0.01641540034054798, 0.01641540034054798, 0.01641540034054798, 0.01641540034054798, 0.01641540034054798, 0.01641540034054798, 0.01641540034054798, 0.01641540034054798, 0.01641540034054798, 0.01641540034054798, 0.01641540034054798, 0.01641540034054798, 0.01641540034054798, 0.01641540034054798, 0.01641540034054798, 0.01641540034054798, 0.01641540034054798, 0.01641540034054798, 0.01641540034054798, 0.01641540034054798, 0.01641540034054798, 0.01641540034054798, 0.01641540034054798, 0.01641540034054798, 0.014788467651724856, 0.014788467651724856, 0.014788467651724856, 0.014788467651724856, 0.014788467651724856, 0.014788467651724856, 0.014788467651724856, 0.014788467651724856, 0.014788467651724856, 0.014788467651724856, 0.014788467651724856, 0.014788467651724856, 0.014788467651724856, 0.014788467651724856, 0.014772809012092785, 0.014733064866937998]}], \"explained_variance\": [{\"categories\": [\"0\", \"1\", \"2\", \"3\", \"4\", \"5\", \"6\", \"7\", \"8\", \"9\", \"10\", \"11\", \"12\", \"13\", \"14\", \"15\", \"16\", \"17\", \"18\", \"19\", \"20\", \"21\", \"22\", \"23\", \"24\", \"25\", \"26\", \"27\", \"28\", \"29\", \"30\", \"31\", \"32\", \"33\", \"34\", \"35\", \"36\", \"37\", \"38\", \"39\", \"40\", \"41\", \"42\", \"43\", \"44\", \"45\", \"46\", \"49\", \"50\"], \"mode\": \"markers\", \"name\": \"explained_variance\", \"stepped\": false, \"type\": \"scatter\", \"data\": [0.9804470631305313, 0.9639322704504405, 0.8373078563779992, 0.8369911757628429, 0.8373154395376741, 0.8373207274202974, 0.9610386849640252, 0.8361532402829116, 0.8369714052323912, 0.7010163627731637, 0.8608376703847226, 0.8236436050275362, 0.8351215944591092, 0.8361532402829116, 0.8017345983410217, 0.8362626235415386, 0.9224530028249106, 0.8361030628774385, 0.951762487330526, 0.9791949951389535, 0.024327339130259307, 0.8313418405972816, 0.9414154515627837, 0.9026798553029286, 0.8639387488714204, 0.7430207747404162, 0.863945447309375, 0.9541044173914792, 0.9432806839108756, 0.47733210056862374, 0.9468630676099431, 0.9431932069440344, 0.665768966479582, 0.9841279794755962, 0.8895303025778207, 0.9790148025869364, 0.913398661044169, 0.8579830637992668, 0.46895969724470804, 0.7385923520405484, 0.977376224648716, 0.855526521604815, 0.9160437009847756, 0.9393782664186623, 0.9535175444467491, 0.9552770143497655, 0.9037159420349878, 0.9841624148498967, 0.9842490938225739]}, {\"categories\": [\"0\", \"1\", \"2\", \"3\", \"4\", \"5\", \"6\", \"7\", \"8\", \"9\", \"10\", \"11\", \"12\", \"13\", \"14\", \"15\", \"16\", \"17\", \"18\", \"19\", \"20\", \"21\", \"22\", \"23\", \"24\", \"25\", \"26\", \"27\", \"28\", \"29\", \"30\", \"31\", \"32\", \"33\", \"34\", \"35\", \"36\", \"37\", \"38\", \"39\", \"40\", \"41\", \"42\", \"43\", \"44\", \"45\", \"46\", \"49\", \"50\"], \"mode\": \"lines\", \"name\": \"explained_variance_max\", \"stepped\": true, \"type\": \"scatter\", \"data\": [0.9804470631305313, 0.9804470631305313, 0.9804470631305313, 0.9804470631305313, 0.9804470631305313, 0.9804470631305313, 0.9804470631305313, 0.9804470631305313, 0.9804470631305313, 0.9804470631305313, 0.9804470631305313, 0.9804470631305313, 0.9804470631305313, 0.9804470631305313, 0.9804470631305313, 0.9804470631305313, 0.9804470631305313, 0.9804470631305313, 0.9804470631305313, 0.9804470631305313, 0.9804470631305313, 0.9804470631305313, 0.9804470631305313, 0.9804470631305313, 0.9804470631305313, 0.9804470631305313, 0.9804470631305313, 0.9804470631305313, 0.9804470631305313, 0.9804470631305313, 0.9804470631305313, 0.9804470631305313, 0.9804470631305313, 0.9841279794755962, 0.9841279794755962, 0.9841279794755962, 0.9841279794755962, 0.9841279794755962, 0.9841279794755962, 0.9841279794755962, 0.9841279794755962, 0.9841279794755962, 0.9841279794755962, 0.9841279794755962, 0.9841279794755962, 0.9841279794755962, 0.9841279794755962, 0.9841624148498967, 0.9842490938225739]}], \"median_absolute_error\": [{\"categories\": [\"0\", \"1\", \"2\", \"3\", \"4\", \"5\", \"6\", \"7\", \"8\", \"9\", \"10\", \"11\", \"12\", \"13\", \"14\", \"15\", \"16\", \"17\", \"18\", \"19\", \"20\", \"21\", \"22\", \"23\", \"24\", \"25\", \"26\", \"27\", \"28\", \"29\", \"30\", \"31\", \"32\", \"33\", \"34\", \"35\", \"36\", \"37\", \"38\", \"39\", \"40\", \"41\", \"42\", \"43\", \"44\", \"45\", \"46\", \"49\", \"50\"], \"mode\": \"markers\", \"name\": \"median_absolute_error\", \"stepped\": false, \"type\": \"scatter\", \"data\": [0.13889638700763637, 0.3179658104976018, 0.6991637760095202, 0.7006398941111266, 0.6998465615530985, 0.7008790163945845, 0.27312087874228275, 0.70667892223357, 0.7013828941984178, 0.9087788211889222, 0.5426587615893063, 0.7293627885580959, 0.7026165638648498, 0.70667892223357, 0.7710786874875192, 0.7090506584927901, 0.38565694636288805, 0.7055563171260189, 0.22575698440965927, 0.10821444845790092, 1.9662060179434289, 0.6777654783106204, 0.409184119978242, 0.49447228787794817, 0.5105936398369588, 0.7302322040254241, 0.6001307619517644, 0.3277808734330707, 0.30053081038228363, 1.337222719875795, 0.3732559419038899, 0.3509560504082432, 1.0681495131647945, 0.07337143023808797, 0.5462729095321478, 0.11712648687897127, 0.41643061363233436, 0.5278089478655797, 1.365387938650269, 0.7704632809894987, 0.16233345866203308, 0.41029587206443896, 0.4782203539348396, 0.340440516524954, 0.3732656240463257, 0.331244761745135, 0.5294409814587155, 0.07641218179628617, 0.0857127315600551]}, {\"categories\": [\"0\", \"1\", \"2\", \"3\", \"4\", \"5\", \"6\", \"7\", \"8\", \"9\", \"10\", \"11\", \"12\", \"13\", \"14\", \"15\", \"16\", \"17\", \"18\", \"19\", \"20\", \"21\", \"22\", \"23\", \"24\", \"25\", \"26\", \"27\", \"28\", \"29\", \"30\", \"31\", \"32\", \"33\", \"34\", \"35\", \"36\", \"37\", \"38\", \"39\", \"40\", \"41\", \"42\", \"43\", \"44\", \"45\", \"46\", \"49\", \"50\"], \"mode\": \"lines\", \"name\": \"median_absolute_error_min\", \"stepped\": true, \"type\": \"scatter\", \"data\": [0.13889638700763637, 0.13889638700763637, 0.13889638700763637, 0.13889638700763637, 0.13889638700763637, 0.13889638700763637, 0.13889638700763637, 0.13889638700763637, 0.13889638700763637, 0.13889638700763637, 0.13889638700763637, 0.13889638700763637, 0.13889638700763637, 0.13889638700763637, 0.13889638700763637, 0.13889638700763637, 0.13889638700763637, 0.13889638700763637, 0.13889638700763637, 0.10821444845790092, 0.10821444845790092, 0.10821444845790092, 0.10821444845790092, 0.10821444845790092, 0.10821444845790092, 0.10821444845790092, 0.10821444845790092, 0.10821444845790092, 0.10821444845790092, 0.10821444845790092, 0.10821444845790092, 0.10821444845790092, 0.10821444845790092, 0.07337143023808797, 0.07337143023808797, 0.07337143023808797, 0.07337143023808797, 0.07337143023808797, 0.07337143023808797, 0.07337143023808797, 0.07337143023808797, 0.07337143023808797, 0.07337143023808797, 0.07337143023808797, 0.07337143023808797, 0.07337143023808797, 0.07337143023808797, 0.07337143023808797, 0.07337143023808797]}]}, \"metricName\": null, \"primaryMetricName\": \"normalized_root_mean_squared_error\", \"showLegend\": false}, \"run_metrics\": [{\"name\": \"experiment_status\", \"run_id\": \"AutoML_bc1cccc4-7757-4ddd-bf29-518d0e5419ba\", \"categories\": [0, 1, 2, 3, 4, 5, 6, 7, 8, 9, 10, 11], \"series\": [{\"data\": [\"DatasetEvaluation\", \"FeaturesGeneration\", \"DatasetFeaturization\", \"DatasetFeaturizationCompleted\", \"DatasetCrossValidationSplit\", \"ModelSelection\", \"BestRunExplainModel\", \"ModelExplanationDataSetSetup\", \"PickSurrogateModel\", \"EngineeredFeatureExplanations\", \"EngineeredFeatureExplanations\", \"RawFeaturesExplanations\"]}]}, {\"name\": \"experiment_status_description\", \"run_id\": \"AutoML_bc1cccc4-7757-4ddd-bf29-518d0e5419ba\", \"categories\": [0, 1, 2, 3, 4, 5, 6, 7, 8, 9, 10, 11], \"series\": [{\"data\": [\"Gathering dataset statistics.\", \"Generating features for the dataset.\", \"Beginning to fit featurizers and featurize the dataset.\", \"Completed fit featurizers and featurizing the dataset.\", \"Generating individually featurized CV splits.\", \"Beginning model selection.\", \"Best run model explanations started\", \"Model explanations data setup completed\", \"Choosing LightGBM as the surrogate model for explanations\", \"Computation of engineered features started\", \"Computation of engineered features completed\", \"Computation of raw features started\"]}]}, {\"name\": \"median_absolute_error\", \"run_id\": \"AutoML_bc1cccc4-7757-4ddd-bf29-518d0e5419ba\", \"categories\": [0], \"series\": [{\"data\": [0.0857127315600551]}]}, {\"name\": \"normalized_median_absolute_error\", \"run_id\": \"AutoML_bc1cccc4-7757-4ddd-bf29-518d0e5419ba\", \"categories\": [0], \"series\": [{\"data\": [0.0032966435215405813]}]}, {\"name\": \"r2_score\", \"run_id\": \"AutoML_bc1cccc4-7757-4ddd-bf29-518d0e5419ba\", \"categories\": [0], \"series\": [{\"data\": [0.9842479255271815]}]}, {\"name\": \"root_mean_squared_error\", \"run_id\": \"AutoML_bc1cccc4-7757-4ddd-bf29-518d0e5419ba\", \"categories\": [0], \"series\": [{\"data\": [0.38305968654038797]}]}, {\"name\": \"mean_absolute_error\", \"run_id\": \"AutoML_bc1cccc4-7757-4ddd-bf29-518d0e5419ba\", \"categories\": [0], \"series\": [{\"data\": [0.21138016371362411]}]}, {\"name\": \"normalized_mean_absolute_error\", \"run_id\": \"AutoML_bc1cccc4-7757-4ddd-bf29-518d0e5419ba\", \"categories\": [0], \"series\": [{\"data\": [0.00813000629667785]}]}, {\"name\": \"root_mean_squared_log_error\", \"run_id\": \"AutoML_bc1cccc4-7757-4ddd-bf29-518d0e5419ba\", \"categories\": [0], \"series\": [{\"data\": [NaN]}]}, {\"name\": \"explained_variance\", \"run_id\": \"AutoML_bc1cccc4-7757-4ddd-bf29-518d0e5419ba\", \"categories\": [0], \"series\": [{\"data\": [0.9842490938225739]}]}, {\"name\": \"normalized_root_mean_squared_error\", \"run_id\": \"AutoML_bc1cccc4-7757-4ddd-bf29-518d0e5419ba\", \"categories\": [0], \"series\": [{\"data\": [0.014733064866937998]}]}, {\"name\": \"mean_absolute_percentage_error\", \"run_id\": \"AutoML_bc1cccc4-7757-4ddd-bf29-518d0e5419ba\", \"categories\": [0], \"series\": [{\"data\": [7.976002268741017]}]}, {\"name\": \"normalized_root_mean_squared_log_error\", \"run_id\": \"AutoML_bc1cccc4-7757-4ddd-bf29-518d0e5419ba\", \"categories\": [0], \"series\": [{\"data\": [NaN]}]}, {\"name\": \"spearman_correlation\", \"run_id\": \"AutoML_bc1cccc4-7757-4ddd-bf29-518d0e5419ba\", \"categories\": [0], \"series\": [{\"data\": [0.9789816917580646]}]}], \"run_logs\": \"\\nRun is completed.\", \"graph\": {}, \"widget_settings\": {\"childWidgetDisplay\": \"popup\", \"send_telemetry\": false, \"log_level\": \"INFO\", \"sdk_version\": \"1.36.0\"}, \"loading\": false}"
     },
     "metadata": {},
     "output_type": "display_data"
    }
   ],
   "source": [
    "from azureml.widgets import RunDetails\n",
    "RunDetails(remote_run).show() "
   ]
  },
  {
   "cell_type": "code",
   "execution_count": 62,
   "metadata": {},
   "outputs": [
    {
     "data": {
      "text/plain": [
       "{'runId': 'AutoML_bc1cccc4-7757-4ddd-bf29-518d0e5419ba',\n",
       " 'target': 'bike-cluster',\n",
       " 'status': 'Completed',\n",
       " 'startTimeUtc': '2021-12-30T21:26:29.949349Z',\n",
       " 'endTimeUtc': '2021-12-30T22:00:33.543225Z',\n",
       " 'services': {},\n",
       " 'warnings': [{'source': 'JasmineService',\n",
       "   'message': 'No scores improved over last 20 iterations, so experiment stopped early. This early stopping behavior can be disabled by setting enable_early_stopping = False in AutoMLConfig for notebook/python SDK runs.'}],\n",
       " 'properties': {'num_iterations': '1000',\n",
       "  'training_type': 'TrainFull',\n",
       "  'acquisition_function': 'EI',\n",
       "  'primary_metric': 'normalized_root_mean_squared_error',\n",
       "  'train_split': '0',\n",
       "  'acquisition_parameter': '0',\n",
       "  'num_cross_validation': '3',\n",
       "  'target': 'bike-cluster',\n",
       "  'AMLSettingsJsonString': '{\"path\":null,\"name\":\"automl-regression\",\"subscription_id\":\"f518fe6b-5262-4e5a-80cb-05b7a39f9298\",\"resource_group\":\"azure_ml\",\"workspace_name\":\"azure_ml_workspace\",\"region\":\"westus2\",\"compute_target\":\"bike-cluster\",\"spark_service\":null,\"azure_service\":\"remote\",\"many_models\":false,\"pipeline_fetch_max_batch_size\":1,\"enable_batch_run\":false,\"enable_run_restructure\":false,\"start_auxiliary_runs_before_parent_complete\":false,\"enable_code_generation\":false,\"iterations\":1000,\"primary_metric\":\"normalized_root_mean_squared_error\",\"task_type\":\"regression\",\"positive_label\":null,\"data_script\":null,\"test_size\":0.0,\"test_include_predictions_only\":false,\"validation_size\":0.0,\"n_cross_validations\":3,\"y_min\":null,\"y_max\":null,\"num_classes\":null,\"featurization\":\"auto\",\"_ignore_package_version_incompatibilities\":false,\"is_timeseries\":false,\"max_cores_per_iteration\":-1,\"max_concurrent_iterations\":4,\"iteration_timeout_minutes\":null,\"mem_in_mb\":null,\"enforce_time_on_windows\":true,\"experiment_timeout_minutes\":60,\"experiment_exit_score\":null,\"whitelist_models\":null,\"blacklist_algos\":[\"TensorFlowDNN\",\"TensorFlowLinearRegressor\"],\"supported_models\":[\"SGD\",\"OnlineGradientDescentRegressor\",\"LassoLars\",\"GradientBoosting\",\"RandomForest\",\"DecisionTree\",\"ExtremeRandomTrees\",\"KNN\",\"TensorFlowDNN\",\"XGBoostRegressor\",\"LightGBM\",\"FastLinearRegressor\",\"TensorFlowLinearRegressor\",\"ElasticNet\"],\"private_models\":[\"TabnetRegressor\"],\"auto_blacklist\":true,\"blacklist_samples_reached\":false,\"exclude_nan_labels\":true,\"verbosity\":20,\"_debug_log\":\"azureml_automl.log\",\"show_warnings\":false,\"model_explainability\":true,\"service_url\":null,\"sdk_url\":null,\"sdk_packages\":null,\"enable_onnx_compatible_models\":false,\"enable_split_onnx_featurizer_estimator_models\":false,\"vm_type\":\"STANDARD_DS12_V2\",\"telemetry_verbosity\":20,\"send_telemetry\":true,\"enable_dnn\":false,\"scenario\":\"SDK-1.13.0\",\"environment_label\":null,\"save_mlflow\":false,\"enable_categorical_indicators\":false,\"force_text_dnn\":false,\"enable_feature_sweeping\":true,\"enable_early_stopping\":true,\"early_stopping_n_iters\":10,\"arguments\":null,\"dataset_id\":null,\"hyperdrive_config\":null,\"validation_dataset_id\":null,\"run_source\":null,\"metrics\":null,\"enable_metric_confidence\":false,\"enable_ensembling\":true,\"enable_stack_ensembling\":true,\"ensemble_iterations\":15,\"enable_tf\":false,\"enable_subsampling\":null,\"subsample_seed\":null,\"enable_nimbusml\":false,\"enable_streaming\":false,\"force_streaming\":false,\"track_child_runs\":true,\"allowed_private_models\":[],\"label_column_name\":\"signature\",\"weight_column_name\":null,\"cv_split_column_names\":null,\"enable_local_managed\":false,\"_local_managed_run_id\":null,\"cost_mode\":1,\"lag_length\":0,\"metric_operation\":\"minimize\",\"preprocess\":true}',\n",
       "  'DataPrepJsonString': '{\\\\\"training_data\\\\\": {\\\\\"datasetId\\\\\": \\\\\"23c8b926-7cad-41c3-9738-869321067fa8\\\\\"}, \\\\\"datasets\\\\\": 0}',\n",
       "  'EnableSubsampling': None,\n",
       "  'runTemplate': 'AutoML',\n",
       "  'azureml.runsource': 'automl',\n",
       "  'display_task_type': 'regression',\n",
       "  'dependencies_versions': '{\"azureml-train-restclients-hyperdrive\": \"1.35.0\", \"azureml-train-core\": \"1.35.0\", \"azureml-train-automl-runtime\": \"1.35.1\", \"azureml-train-automl-client\": \"1.35.0\", \"azureml-mlflow\": \"1.35.0\", \"azureml-interpret\": \"1.35.0\", \"azureml-inference-server-http\": \"0.3.2\", \"azureml-defaults\": \"1.35.0\", \"azureml-automl-runtime\": \"1.35.1\", \"azureml\": \"0.2.7\", \"azureml-widgets\": \"1.36.0\", \"azureml-telemetry\": \"1.36.0\", \"azureml-dataset-runtime\": \"1.36.0\", \"azureml-dataprep\": \"2.24.4\", \"azureml-dataprep-rslex\": \"2.0.3\", \"azureml-dataprep-native\": \"38.0.0\", \"azureml-core\": \"1.36.0.post2\", \"azureml-automl-core\": \"1.36.1\"}',\n",
       "  '_aml_system_scenario_identification': 'Remote.Parent',\n",
       "  'ClientType': 'SDK',\n",
       "  'environment_cpu_name': 'AzureML-AutoML',\n",
       "  'environment_cpu_label': 'prod',\n",
       "  'environment_gpu_name': 'AzureML-AutoML-GPU',\n",
       "  'environment_gpu_label': 'prod',\n",
       "  'root_attribution': 'automl',\n",
       "  'attribution': 'AutoML',\n",
       "  'Orchestrator': 'AutoML',\n",
       "  'CancelUri': 'https://westus2.api.azureml.ms/jasmine/v1.0/subscriptions/f518fe6b-5262-4e5a-80cb-05b7a39f9298/resourceGroups/azure_ml/providers/Microsoft.MachineLearningServices/workspaces/azure_ml_workspace/experimentids/8d09b9f7-f10d-4b65-93bc-eb4968bf5d1f/cancel/AutoML_bc1cccc4-7757-4ddd-bf29-518d0e5419ba',\n",
       "  'ClientSdkVersion': '1.36.1',\n",
       "  'snapshotId': '00000000-0000-0000-0000-000000000000',\n",
       "  'SetupRunId': 'AutoML_bc1cccc4-7757-4ddd-bf29-518d0e5419ba_setup',\n",
       "  'SetupRunContainerId': 'dcid.AutoML_bc1cccc4-7757-4ddd-bf29-518d0e5419ba_setup',\n",
       "  'FeaturizationRunJsonPath': 'featurizer_container.json',\n",
       "  'FeaturizationRunId': 'AutoML_bc1cccc4-7757-4ddd-bf29-518d0e5419ba_featurize',\n",
       "  'ProblemInfoJsonString': '{\"dataset_num_categorical\": 0, \"is_sparse\": true, \"subsampling\": false, \"has_extra_col\": true, \"dataset_classes\": 14, \"dataset_features\": 39, \"dataset_samples\": 121873, \"single_frequency_class_detected\": false}',\n",
       "  'ModelExplainRunId': 'AutoML_bc1cccc4-7757-4ddd-bf29-518d0e5419ba_ModelExplain'},\n",
       " 'inputDatasets': [{'dataset': {'id': '23c8b926-7cad-41c3-9738-869321067fa8'}, 'consumptionDetails': {'type': 'RunInput', 'inputName': 'training_data', 'mechanism': 'Direct'}}],\n",
       " 'outputDatasets': [],\n",
       " 'logFiles': {},\n",
       " 'submittedBy': '6792567c-7ed3-4fcb-b710-dacec3e0dfd5 ebeec708-d8a6-4de7-ae55-e69967de024a'}"
      ]
     },
     "execution_count": 62,
     "metadata": {},
     "output_type": "execute_result"
    }
   ],
   "source": [
    "remote_run.wait_for_completion()"
   ]
  },
  {
   "cell_type": "markdown",
   "metadata": {},
   "source": [
    "### Retrieve the Best Model\n",
    "\n",
    "Below we select the best pipeline from our iterations. The `get_output` method returns the best run and the fitted model. The Model includes the pipeline and any pre-processing.  Overloads on `get_output` allow you to retrieve the best run and fitted model for *any* logged metric or for a particular *iteration*.\n",
    "\n",
    "note: we got a warning concerning our version of automl, but it does not effect any of our use of the model because most of the computation we are doing is taking place on the remote instances."
   ]
  },
  {
   "cell_type": "code",
   "execution_count": 63,
   "metadata": {},
   "outputs": [
    {
     "name": "stderr",
     "output_type": "stream",
     "text": [
      "WARNING:root:The version of the SDK does not match the version the model was trained on.\n",
      "WARNING:root:The consistency in the result may not be guaranteed.\n",
      "WARNING:root:Package:azureml-automl-runtime, training version:1.36.1, current version:1.35.1\n",
      "Package:azureml-defaults, training version:1.36.0, current version:1.35.0\n",
      "Package:azureml-inference-server-http, training version:0.4.2, current version:0.3.2\n",
      "Package:azureml-interpret, training version:1.36.0, current version:1.35.0\n",
      "Package:azureml-mlflow, training version:1.36.0, current version:1.35.0\n",
      "Package:azureml-train-automl-client, training version:1.36.0, current version:1.35.0\n",
      "Package:azureml-train-automl-runtime, training version:1.36.1, current version:1.35.1\n",
      "Package:azureml-train-core, training version:1.36.0, current version:1.35.0\n",
      "Package:azureml-train-restclients-hyperdrive, training version:1.36.0, current version:1.35.0\n",
      "WARNING:root:Below packages were used for model training but missing in current environment:\n",
      "WARNING:root:Package:azureml-pipeline-core, training version:1.36.0\n",
      "Package:azureml-responsibleai, training version:1.36.0\n",
      "WARNING:root:Please ensure the version of your local conda dependencies match the version on which your model was trained in order to properly retrieve your model.\n"
     ]
    },
    {
     "name": "stdout",
     "output_type": "stream",
     "text": [
      "Run(Experiment: automl-regression,\n",
      "Id: AutoML_bc1cccc4-7757-4ddd-bf29-518d0e5419ba_50,\n",
      "Type: azureml.scriptrun,\n",
      "Status: Completed)\n",
      "RegressionPipeline(pipeline=Pipeline(memory=None,\n",
      "                                     steps=[('datatransformer',\n",
      "                                             DataTransformer(enable_dnn=False, enable_feature_sweeping=True, feature_sweeping_config={}, feature_sweeping_timeout=86400, featurization_config=None, force_text_dnn=False, is_cross_validation=True, is_onnx_compatible=False, observer=None, task='regression', working_dir='C:\\\\Users\\\\de...\n",
      "), random_state=None, reg_alpha=0, reg_lambda=0.75, subsample=0.9, subsample_freq=6))], verbose=False))], meta_learner=ElasticNetCV(alphas=None, copy_X=True, cv=None, eps=0.001, fit_intercept=True, l1_ratio=0.5, max_iter=1000, n_alphas=100, n_jobs=None, normalize=False, positive=False, precompute='auto', random_state=None, selection='cyclic', tol=0.0001, verbose=0), training_cv_folds=5))],\n",
      "                                     verbose=False),\n",
      "                   stddev=[0.3830990178638105])\n"
     ]
    }
   ],
   "source": [
    "best_run, fitted_model = remote_run.get_output()\n",
    "print(best_run)\n",
    "print(fitted_model)"
   ]
  },
  {
   "cell_type": "markdown",
   "metadata": {},
   "source": [
    "#### Best Model Based on Any Other Metric\n",
    "Show the run and the model that has the smallest `root_mean_squared_error` value (which turned out to be the same as the one with largest `spearman_correlation` value):"
   ]
  },
  {
   "cell_type": "code",
   "execution_count": 64,
   "metadata": {},
   "outputs": [
    {
     "name": "stderr",
     "output_type": "stream",
     "text": [
      "WARNING:root:The version of the SDK does not match the version the model was trained on.\n",
      "WARNING:root:The consistency in the result may not be guaranteed.\n",
      "WARNING:root:Package:azureml-automl-runtime, training version:1.36.1, current version:1.35.1\n",
      "Package:azureml-defaults, training version:1.36.0, current version:1.35.0\n",
      "Package:azureml-inference-server-http, training version:0.4.2, current version:0.3.2\n",
      "Package:azureml-interpret, training version:1.36.0, current version:1.35.0\n",
      "Package:azureml-mlflow, training version:1.36.0, current version:1.35.0\n",
      "Package:azureml-train-automl-client, training version:1.36.0, current version:1.35.0\n",
      "Package:azureml-train-automl-runtime, training version:1.36.1, current version:1.35.1\n",
      "Package:azureml-train-core, training version:1.36.0, current version:1.35.0\n",
      "Package:azureml-train-restclients-hyperdrive, training version:1.36.0, current version:1.35.0\n",
      "WARNING:root:Below packages were used for model training but missing in current environment:\n",
      "WARNING:root:Package:azureml-pipeline-core, training version:1.36.0\n",
      "Package:azureml-responsibleai, training version:1.36.0\n",
      "WARNING:root:Please ensure the version of your local conda dependencies match the version on which your model was trained in order to properly retrieve your model.\n"
     ]
    },
    {
     "name": "stdout",
     "output_type": "stream",
     "text": [
      "Run(Experiment: automl-regression,\n",
      "Id: AutoML_bc1cccc4-7757-4ddd-bf29-518d0e5419ba_50,\n",
      "Type: azureml.scriptrun,\n",
      "Status: Completed)\n",
      "RegressionPipeline(pipeline=Pipeline(memory=None,\n",
      "                                     steps=[('datatransformer',\n",
      "                                             DataTransformer(enable_dnn=False, enable_feature_sweeping=True, feature_sweeping_config={}, feature_sweeping_timeout=86400, featurization_config=None, force_text_dnn=False, is_cross_validation=True, is_onnx_compatible=False, observer=None, task='regression', working_dir='C:\\\\Users\\\\de...\n",
      "), random_state=None, reg_alpha=0, reg_lambda=0.75, subsample=0.9, subsample_freq=6))], verbose=False))], meta_learner=ElasticNetCV(alphas=None, copy_X=True, cv=None, eps=0.001, fit_intercept=True, l1_ratio=0.5, max_iter=1000, n_alphas=100, n_jobs=None, normalize=False, positive=False, precompute='auto', random_state=None, selection='cyclic', tol=0.0001, verbose=0), training_cv_folds=5))],\n",
      "                                     verbose=False),\n",
      "                   stddev=[0.3830990178638105])\n"
     ]
    }
   ],
   "source": [
    "lookup_metric = \"root_mean_squared_error\"\n",
    "best_run, fitted_model = remote_run.get_output(metric = lookup_metric)\n",
    "print(best_run)\n",
    "print(fitted_model)"
   ]
  },
  {
   "cell_type": "code",
   "execution_count": 93,
   "metadata": {},
   "outputs": [],
   "source": [
    "test_ds = Dataset.Tabular.from_delimited_files('https://dbgannonstorage.blob.core.windows.net/data/knot_test.csv')"
   ]
  },
  {
   "cell_type": "code",
   "execution_count": 97,
   "metadata": {},
   "outputs": [
    {
     "data": {
      "text/html": [
       "<div>\n",
       "<style scoped>\n",
       "    .dataframe tbody tr th:only-of-type {\n",
       "        vertical-align: middle;\n",
       "    }\n",
       "\n",
       "    .dataframe tbody tr th {\n",
       "        vertical-align: top;\n",
       "    }\n",
       "\n",
       "    .dataframe thead th {\n",
       "        text-align: right;\n",
       "    }\n",
       "</style>\n",
       "<table border=\"1\" class=\"dataframe\">\n",
       "  <thead>\n",
       "    <tr style=\"text-align: right;\">\n",
       "      <th></th>\n",
       "      <th>Column1</th>\n",
       "      <th>Unnamed: 0</th>\n",
       "      <th>hyperbolic_adjoint_torsion_degree</th>\n",
       "      <th>hyperbolic_torsion_degree</th>\n",
       "      <th>short_geodesic_real_part</th>\n",
       "      <th>short_geodesic_imag_part</th>\n",
       "      <th>injectivity_radius</th>\n",
       "      <th>chern_simons</th>\n",
       "      <th>cusp_volume</th>\n",
       "      <th>longitudinal_translation</th>\n",
       "      <th>meridinal_translation_imag</th>\n",
       "      <th>meridinal_translation_real</th>\n",
       "      <th>volume</th>\n",
       "      <th>Symmetry_0</th>\n",
       "      <th>Symmetry_D3</th>\n",
       "      <th>Symmetry_D4</th>\n",
       "      <th>Symmetry_D6</th>\n",
       "      <th>Symmetry_D8</th>\n",
       "      <th>Symmetry_Z/2 + Z/2</th>\n",
       "    </tr>\n",
       "  </thead>\n",
       "  <tbody>\n",
       "    <tr>\n",
       "      <th>0</th>\n",
       "      <td>0</td>\n",
       "      <td>0</td>\n",
       "      <td>15</td>\n",
       "      <td>10</td>\n",
       "      <td>0.94</td>\n",
       "      <td>-3.04</td>\n",
       "      <td>0.47</td>\n",
       "      <td>0.18</td>\n",
       "      <td>13.07</td>\n",
       "      <td>12.89</td>\n",
       "      <td>1.01</td>\n",
       "      <td>0.76</td>\n",
       "      <td>12.51</td>\n",
       "      <td>0.00</td>\n",
       "      <td>0.00</td>\n",
       "      <td>0.00</td>\n",
       "      <td>0.00</td>\n",
       "      <td>0.00</td>\n",
       "      <td>0.00</td>\n",
       "    </tr>\n",
       "    <tr>\n",
       "      <th>1</th>\n",
       "      <td>2</td>\n",
       "      <td>2</td>\n",
       "      <td>0</td>\n",
       "      <td>14</td>\n",
       "      <td>0.33</td>\n",
       "      <td>2.21</td>\n",
       "      <td>0.16</td>\n",
       "      <td>0.09</td>\n",
       "      <td>9.50</td>\n",
       "      <td>9.29</td>\n",
       "      <td>1.02</td>\n",
       "      <td>1.00</td>\n",
       "      <td>8.29</td>\n",
       "      <td>0.00</td>\n",
       "      <td>0.00</td>\n",
       "      <td>0.00</td>\n",
       "      <td>0.00</td>\n",
       "      <td>0.00</td>\n",
       "      <td>1.00</td>\n",
       "    </tr>\n",
       "    <tr>\n",
       "      <th>2</th>\n",
       "      <td>3</td>\n",
       "      <td>3</td>\n",
       "      <td>15</td>\n",
       "      <td>10</td>\n",
       "      <td>0.98</td>\n",
       "      <td>2.14</td>\n",
       "      <td>0.49</td>\n",
       "      <td>-0.07</td>\n",
       "      <td>8.09</td>\n",
       "      <td>18.80</td>\n",
       "      <td>0.43</td>\n",
       "      <td>1.26</td>\n",
       "      <td>8.39</td>\n",
       "      <td>0.00</td>\n",
       "      <td>0.00</td>\n",
       "      <td>0.00</td>\n",
       "      <td>0.00</td>\n",
       "      <td>0.00</td>\n",
       "      <td>0.00</td>\n",
       "    </tr>\n",
       "    <tr>\n",
       "      <th>3</th>\n",
       "      <td>4</td>\n",
       "      <td>4</td>\n",
       "      <td>0</td>\n",
       "      <td>10</td>\n",
       "      <td>1.74</td>\n",
       "      <td>-2.69</td>\n",
       "      <td>0.66</td>\n",
       "      <td>-0.08</td>\n",
       "      <td>14.53</td>\n",
       "      <td>10.41</td>\n",
       "      <td>1.40</td>\n",
       "      <td>0.26</td>\n",
       "      <td>12.27</td>\n",
       "      <td>0.00</td>\n",
       "      <td>0.00</td>\n",
       "      <td>0.00</td>\n",
       "      <td>0.00</td>\n",
       "      <td>0.00</td>\n",
       "      <td>0.00</td>\n",
       "    </tr>\n",
       "    <tr>\n",
       "      <th>4</th>\n",
       "      <td>6</td>\n",
       "      <td>6</td>\n",
       "      <td>9</td>\n",
       "      <td>6</td>\n",
       "      <td>1.15</td>\n",
       "      <td>2.79</td>\n",
       "      <td>0.57</td>\n",
       "      <td>0.19</td>\n",
       "      <td>10.00</td>\n",
       "      <td>7.11</td>\n",
       "      <td>1.41</td>\n",
       "      <td>-0.10</td>\n",
       "      <td>8.90</td>\n",
       "      <td>0.00</td>\n",
       "      <td>0.00</td>\n",
       "      <td>0.00</td>\n",
       "      <td>0.00</td>\n",
       "      <td>0.00</td>\n",
       "      <td>0.00</td>\n",
       "    </tr>\n",
       "    <tr>\n",
       "      <th>...</th>\n",
       "      <td>...</td>\n",
       "      <td>...</td>\n",
       "      <td>...</td>\n",
       "      <td>...</td>\n",
       "      <td>...</td>\n",
       "      <td>...</td>\n",
       "      <td>...</td>\n",
       "      <td>...</td>\n",
       "      <td>...</td>\n",
       "      <td>...</td>\n",
       "      <td>...</td>\n",
       "      <td>...</td>\n",
       "      <td>...</td>\n",
       "      <td>...</td>\n",
       "      <td>...</td>\n",
       "      <td>...</td>\n",
       "      <td>...</td>\n",
       "      <td>...</td>\n",
       "      <td>...</td>\n",
       "    </tr>\n",
       "    <tr>\n",
       "      <th>121868</th>\n",
       "      <td>243736</td>\n",
       "      <td>252182</td>\n",
       "      <td>15</td>\n",
       "      <td>10</td>\n",
       "      <td>0.99</td>\n",
       "      <td>2.79</td>\n",
       "      <td>0.50</td>\n",
       "      <td>0.11</td>\n",
       "      <td>14.17</td>\n",
       "      <td>16.68</td>\n",
       "      <td>0.85</td>\n",
       "      <td>-0.97</td>\n",
       "      <td>13.08</td>\n",
       "      <td>0.00</td>\n",
       "      <td>0.00</td>\n",
       "      <td>0.00</td>\n",
       "      <td>0.00</td>\n",
       "      <td>0.00</td>\n",
       "      <td>1.00</td>\n",
       "    </tr>\n",
       "    <tr>\n",
       "      <th>121869</th>\n",
       "      <td>243738</td>\n",
       "      <td>252184</td>\n",
       "      <td>0</td>\n",
       "      <td>10</td>\n",
       "      <td>1.43</td>\n",
       "      <td>2.74</td>\n",
       "      <td>0.62</td>\n",
       "      <td>0.10</td>\n",
       "      <td>17.85</td>\n",
       "      <td>15.36</td>\n",
       "      <td>1.16</td>\n",
       "      <td>-0.62</td>\n",
       "      <td>17.43</td>\n",
       "      <td>1.00</td>\n",
       "      <td>0.00</td>\n",
       "      <td>0.00</td>\n",
       "      <td>0.00</td>\n",
       "      <td>0.00</td>\n",
       "      <td>0.00</td>\n",
       "    </tr>\n",
       "    <tr>\n",
       "      <th>121870</th>\n",
       "      <td>243741</td>\n",
       "      <td>252187</td>\n",
       "      <td>0</td>\n",
       "      <td>6</td>\n",
       "      <td>0.37</td>\n",
       "      <td>-1.93</td>\n",
       "      <td>0.19</td>\n",
       "      <td>-0.18</td>\n",
       "      <td>9.20</td>\n",
       "      <td>7.87</td>\n",
       "      <td>1.17</td>\n",
       "      <td>-0.64</td>\n",
       "      <td>8.42</td>\n",
       "      <td>0.00</td>\n",
       "      <td>0.00</td>\n",
       "      <td>0.00</td>\n",
       "      <td>0.00</td>\n",
       "      <td>0.00</td>\n",
       "      <td>1.00</td>\n",
       "    </tr>\n",
       "    <tr>\n",
       "      <th>121871</th>\n",
       "      <td>243744</td>\n",
       "      <td>252190</td>\n",
       "      <td>0</td>\n",
       "      <td>10</td>\n",
       "      <td>1.40</td>\n",
       "      <td>2.31</td>\n",
       "      <td>0.61</td>\n",
       "      <td>0.14</td>\n",
       "      <td>17.58</td>\n",
       "      <td>18.25</td>\n",
       "      <td>0.96</td>\n",
       "      <td>-0.88</td>\n",
       "      <td>16.59</td>\n",
       "      <td>1.00</td>\n",
       "      <td>0.00</td>\n",
       "      <td>0.00</td>\n",
       "      <td>0.00</td>\n",
       "      <td>0.00</td>\n",
       "      <td>0.00</td>\n",
       "    </tr>\n",
       "    <tr>\n",
       "      <th>121872</th>\n",
       "      <td>243745</td>\n",
       "      <td>252191</td>\n",
       "      <td>0</td>\n",
       "      <td>22</td>\n",
       "      <td>0.75</td>\n",
       "      <td>-1.46</td>\n",
       "      <td>0.37</td>\n",
       "      <td>-0.15</td>\n",
       "      <td>20.20</td>\n",
       "      <td>22.97</td>\n",
       "      <td>0.88</td>\n",
       "      <td>1.02</td>\n",
       "      <td>22.58</td>\n",
       "      <td>1.00</td>\n",
       "      <td>0.00</td>\n",
       "      <td>0.00</td>\n",
       "      <td>0.00</td>\n",
       "      <td>0.00</td>\n",
       "      <td>0.00</td>\n",
       "    </tr>\n",
       "  </tbody>\n",
       "</table>\n",
       "<p>121873 rows × 19 columns</p>\n",
       "</div>"
      ],
      "text/plain": [
       "        Column1  Unnamed: 0  hyperbolic_adjoint_torsion_degree  \\\n",
       "0       0        0           15                                  \n",
       "1       2        2           0                                   \n",
       "2       3        3           15                                  \n",
       "3       4        4           0                                   \n",
       "4       6        6           9                                   \n",
       "...    ..       ..          ..                                   \n",
       "121868  243736   252182      15                                  \n",
       "121869  243738   252184      0                                   \n",
       "121870  243741   252187      0                                   \n",
       "121871  243744   252190      0                                   \n",
       "121872  243745   252191      0                                   \n",
       "\n",
       "        hyperbolic_torsion_degree  short_geodesic_real_part  \\\n",
       "0       10                        0.94                        \n",
       "1       14                        0.33                        \n",
       "2       10                        0.98                        \n",
       "3       10                        1.74                        \n",
       "4       6                         1.15                        \n",
       "...    ..                          ...                        \n",
       "121868  10                        0.99                        \n",
       "121869  10                        1.43                        \n",
       "121870  6                         0.37                        \n",
       "121871  10                        1.40                        \n",
       "121872  22                        0.75                        \n",
       "\n",
       "        short_geodesic_imag_part  injectivity_radius  chern_simons  \\\n",
       "0      -3.04                     0.47                0.18            \n",
       "1      2.21                      0.16                0.09            \n",
       "2      2.14                      0.49                -0.07           \n",
       "3      -2.69                     0.66                -0.08           \n",
       "4      2.79                      0.57                0.19            \n",
       "...     ...                       ...                 ...            \n",
       "121868 2.79                      0.50                0.11            \n",
       "121869 2.74                      0.62                0.10            \n",
       "121870 -1.93                     0.19                -0.18           \n",
       "121871 2.31                      0.61                0.14            \n",
       "121872 -1.46                     0.37                -0.15           \n",
       "\n",
       "        cusp_volume  longitudinal_translation  meridinal_translation_imag  \\\n",
       "0      13.07        12.89                     1.01                          \n",
       "1      9.50         9.29                      1.02                          \n",
       "2      8.09         18.80                     0.43                          \n",
       "3      14.53        10.41                     1.40                          \n",
       "4      10.00        7.11                      1.41                          \n",
       "...      ...         ...                       ...                          \n",
       "121868 14.17        16.68                     0.85                          \n",
       "121869 17.85        15.36                     1.16                          \n",
       "121870 9.20         7.87                      1.17                          \n",
       "121871 17.58        18.25                     0.96                          \n",
       "121872 20.20        22.97                     0.88                          \n",
       "\n",
       "        meridinal_translation_real  volume  Symmetry_0  Symmetry_D3  \\\n",
       "0      0.76                        12.51   0.00        0.00           \n",
       "1      1.00                        8.29    0.00        0.00           \n",
       "2      1.26                        8.39    0.00        0.00           \n",
       "3      0.26                        12.27   0.00        0.00           \n",
       "4      -0.10                       8.90    0.00        0.00           \n",
       "...      ...                        ...     ...         ...           \n",
       "121868 -0.97                       13.08   0.00        0.00           \n",
       "121869 -0.62                       17.43   1.00        0.00           \n",
       "121870 -0.64                       8.42    0.00        0.00           \n",
       "121871 -0.88                       16.59   1.00        0.00           \n",
       "121872 1.02                        22.58   1.00        0.00           \n",
       "\n",
       "        Symmetry_D4  Symmetry_D6  Symmetry_D8  Symmetry_Z/2 + Z/2  \n",
       "0      0.00         0.00         0.00         0.00                 \n",
       "1      0.00         0.00         0.00         1.00                 \n",
       "2      0.00         0.00         0.00         0.00                 \n",
       "3      0.00         0.00         0.00         0.00                 \n",
       "4      0.00         0.00         0.00         0.00                 \n",
       "...     ...          ...          ...          ...                 \n",
       "121868 0.00         0.00         0.00         1.00                 \n",
       "121869 0.00         0.00         0.00         0.00                 \n",
       "121870 0.00         0.00         0.00         1.00                 \n",
       "121871 0.00         0.00         0.00         0.00                 \n",
       "121872 0.00         0.00         0.00         0.00                 \n",
       "\n",
       "[121873 rows x 19 columns]"
      ]
     },
     "execution_count": 97,
     "metadata": {},
     "output_type": "execute_result"
    }
   ],
   "source": [
    "test_data3 =test_ds.to_pandas_dataframe()\n",
    "test_data = test_data3.drop('signature',axis=1)\n",
    "test_data"
   ]
  },
  {
   "cell_type": "markdown",
   "metadata": {},
   "source": [
    "## Now we can  use the model to predict the signature."
   ]
  },
  {
   "cell_type": "code",
   "execution_count": 103,
   "metadata": {},
   "outputs": [],
   "source": [
    "y_pred_test = fitted_model.predict(test_data)"
   ]
  },
  {
   "cell_type": "markdown",
   "metadata": {},
   "source": [
    "# Show the prediction graphically"
   ]
  },
  {
   "cell_type": "code",
   "execution_count": 105,
   "metadata": {},
   "outputs": [
    {
     "data": {
      "image/png": "[encoded data removed]",
      "text/plain": [
       "<Figure size 432x288 with 1 Axes>"
      ]
     },
     "metadata": {
      "needs_background": "light"
     },
     "output_type": "display_data"
    }
   ],
   "source": [
    "%matplotlib inline\n",
    "test_pred = plt.scatter(test_data3['signature'],y_pred_test, color='b')\n",
    "#test_test = plt.scatter(y_test['count'], y_test['count'], color='g')\n",
    "#lt.legend((test_pred, test), ('prediction', 'truth'), loc='upper left', fontsize=8)\n",
    "plt.show()"
   ]
  },
  {
   "cell_type": "markdown",
   "metadata": {},
   "source": [
    "The authors provide a theorem that says the signature is   0.5*Re(Long_translation/meridinal_translation)\n",
    "\n",
    "Let's check it out with the data."
   ]
  },
  {
   "cell_type": "code",
   "execution_count": 106,
   "metadata": {},
   "outputs": [],
   "source": [
    "def predict_signature_from_slope(data_X):\n",
    "  meridinal_translation = (\n",
    "      data_X['meridinal_translation_real'] +\n",
    "      1j * data_X['meridinal_translation_imag'])\n",
    "  slope = data_X['longitudinal_translation'] / meridinal_translation\n",
    "  return slope.real / 2"
   ]
  },
  {
   "cell_type": "code",
   "execution_count": 107,
   "metadata": {},
   "outputs": [
    {
     "data": {
      "text/plain": [
       "Text(0.5, 0, 'Signature')"
      ]
     },
     "execution_count": 107,
     "metadata": {},
     "output_type": "execute_result"
    },
    {
     "data": {
      "image/png": "[encoded data removed]",
      "text/plain": [
       "<Figure size 576x576 with 1 Axes>"
      ]
     },
     "metadata": {
      "needs_background": "light"
     },
     "output_type": "display_data"
    }
   ],
   "source": [
    "predictions = [\n",
    "    predict_signature_from_slope(x)\n",
    "    for _, x in test_data.iterrows()\n",
    "]\n",
    "\n",
    "fig, ax = plt.subplots(figsize=(8, 8))\n",
    "#sns.scatterplot(\n",
    "#    x=predictions, y=test_data['signature'], alpha=0.2)\n",
    "plt.scatter(test_data3['signature'], predictions )\n",
    "ax.set_ylabel('Predicted Signature')\n",
    "ax.set_xlabel('Signature')"
   ]
  },
  {
   "cell_type": "code",
   "execution_count": 113,
   "metadata": {},
   "outputs": [],
   "source": [
    "err = np.sqrt(np.sum((test_data3['signature']-y_pred_test)**2)/len(y_pred_test))"
   ]
  },
  {
   "cell_type": "code",
   "execution_count": 114,
   "metadata": {},
   "outputs": [
    {
     "data": {
      "text/plain": [
       "0.37917642777104843"
      ]
     },
     "execution_count": 114,
     "metadata": {},
     "output_type": "execute_result"
    }
   ],
   "source": [
    "err"
   ]
  },
  {
   "cell_type": "code",
   "execution_count": 115,
   "metadata": {},
   "outputs": [
    {
     "data": {
      "text/plain": [
       "0         2\n",
       "1         2\n",
       "2         6\n",
       "3         0\n",
       "4         0\n",
       "         ..\n",
       "121868   -4\n",
       "121869   -2\n",
       "121870    0\n",
       "121871   -4\n",
       "121872    6\n",
       "Name: signature, Length: 121873, dtype: int64"
      ]
     },
     "execution_count": 115,
     "metadata": {},
     "output_type": "execute_result"
    }
   ],
   "source": [
    "test_data3['signature']"
   ]
  },
  {
   "cell_type": "code",
   "execution_count": 116,
   "metadata": {},
   "outputs": [
    {
     "data": {
      "text/plain": [
       "array([ 2.01053654e+00,  1.89294853e+00,  6.10328733e+00, ...,\n",
       "       -5.84505402e-03, -4.09601191e+00,  5.93518041e+00])"
      ]
     },
     "execution_count": 116,
     "metadata": {},
     "output_type": "execute_result"
    }
   ],
   "source": [
    "y_pred_test"
   ]
  },
  {
   "cell_type": "markdown",
   "metadata": {},
   "source": [
    "Now compute the averages for each signature prediction"
   ]
  },
  {
   "cell_type": "code",
   "execution_count": 141,
   "metadata": {},
   "outputs": [],
   "source": [
    "keys = {}\n",
    "for i in range(len(test_data3['signature'])):\n",
    "    try:\n",
    "        v = keys[test_data3['signature'][i]]\n",
    "        v[0]=v[0]+1\n",
    "        v[1].append(i)\n",
    "        keys[test_data3['signature'][i]]= v\n",
    "    except:\n",
    "        #print(test_data3['signature'][i])\n",
    "        keys[test_data3['signature'][i]] =  [1, [i]]\n",
    "\n"
   ]
  },
  {
   "cell_type": "code",
   "execution_count": 147,
   "metadata": {},
   "outputs": [],
   "source": [
    "vals = []\n",
    "for i in keys:\n",
    "    s = 0\n",
    "    for j in range(keys[i][0]):\n",
    "        s = s+ y_pred_test[keys[i][1][j]]\n",
    "    s = s/keys[i][0]\n",
    "    vals.append((i,s))"
   ]
  },
  {
   "cell_type": "code",
   "execution_count": 150,
   "metadata": {},
   "outputs": [],
   "source": [
    "vals.sort()"
   ]
  },
  {
   "cell_type": "code",
   "execution_count": 151,
   "metadata": {},
   "outputs": [
    {
     "data": {
      "text/plain": [
       "[(-12, -9.876745237809919),\n",
       " (-10, -9.216081510404404),\n",
       " (-8, -7.7310675993388775),\n",
       " (-6, -5.921238850266819),\n",
       " (-4, -3.946703628236261),\n",
       " (-2, -1.9788050726005992),\n",
       " (0, 1.107118087833087e-05),\n",
       " (2, 1.9739114243896447),\n",
       " (4, 3.9491958008193984),\n",
       " (6, 5.918988033574817),\n",
       " (8, 7.70770818719638),\n",
       " (10, 9.287603259384197),\n",
       " (12, 10.581051015435634)]"
      ]
     },
     "execution_count": 151,
     "metadata": {},
     "output_type": "execute_result"
    }
   ],
   "source": [
    "vals"
   ]
  },
  {
   "cell_type": "markdown",
   "metadata": {},
   "source": [
    "the model is not very accurate near the extremes."
   ]
  },
  {
   "cell_type": "code",
   "execution_count": 153,
   "metadata": {},
   "outputs": [
    {
     "data": {
      "text/plain": [
       "[<matplotlib.lines.Line2D at 0x2591afa47b8>,\n",
       " <matplotlib.lines.Line2D at 0x2591afa4828>]"
      ]
     },
     "execution_count": 153,
     "metadata": {},
     "output_type": "execute_result"
    },
    {
     "data": {
      "image/png": "[encoded data removed]",
      "text/plain": [
       "<Figure size 432x288 with 1 Axes>"
      ]
     },
     "metadata": {
      "needs_background": "light"
     },
     "output_type": "display_data"
    }
   ],
   "source": [
    "plt.plot(vals)"
   ]
  },
  {
   "cell_type": "markdown",
   "metadata": {},
   "source": [
    "As can be seen the mean of the predictions from the model are very close to the true values for the signature except in the extreme ranges of the signature.  "
   ]
  },
  {
   "cell_type": "code",
   "execution_count": 159,
   "metadata": {},
   "outputs": [],
   "source": [
    "vals = []\n",
    "for i in keys:\n",
    "    s = 0\n",
    "    for j in range(keys[i][0]):\n",
    "        s = s+ predict_signature_from_slope(test_data.loc[[keys[i][1][j]]])\n",
    "    s = s/keys[i][0]\n",
    "    vals.append((i,s))"
   ]
  },
  {
   "cell_type": "code",
   "execution_count": 162,
   "metadata": {},
   "outputs": [
    {
     "data": {
      "text/plain": [
       "[<matplotlib.lines.Line2D at 0x25928abb128>,\n",
       " <matplotlib.lines.Line2D at 0x25928abb198>]"
      ]
     },
     "execution_count": 162,
     "metadata": {},
     "output_type": "execute_result"
    },
    {
     "data": {
      "image/png": "[encoded data removed]",
      "text/plain": [
       "<Figure size 432x288 with 1 Axes>"
      ]
     },
     "metadata": {
      "needs_background": "light"
     },
     "output_type": "display_data"
    }
   ],
   "source": [
    "vals.sort()\n",
    "plt.plot(vals)"
   ]
  },
  {
   "cell_type": "markdown",
   "metadata": {},
   "source": [
    "This appears to be consistant with their Conjecture: There exist constants c1 and c2 such that, for every hyperbolic knot K,\n",
    "$$\n",
    "| 2 \\sigma(K) - slope(K) | ~<~ c_1 vol(K) + c_2\n",
    "$$\n"
   ]
  },
  {
   "cell_type": "code",
   "execution_count": null,
   "metadata": {},
   "outputs": [],
   "source": []
  }
 ],
 "metadata": {
  "authors": [
   {
    "name": "ratanase"
   }
  ],
  "categories": [
   "how-to-use-azureml",
   "automated-machine-learning"
  ],
  "kernelspec": {
   "display_name": "Python 3",
   "language": "python",
   "name": "python3"
  },
  "language_info": {
   "codemirror_mode": {
    "name": "ipython",
    "version": 3
   },
   "file_extension": ".py",
   "mimetype": "text/x-python",
   "name": "python",
   "nbconvert_exporter": "python",
   "pygments_lexer": "ipython3",
   "version": "3.6.13"
  }
 },
 "nbformat": 4,
 "nbformat_minor": 2
}
