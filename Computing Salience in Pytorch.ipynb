{
 "cells": [
  {
   "cell_type": "code",
   "execution_count": 1,
   "id": "8138b3f6",
   "metadata": {},
   "outputs": [],
   "source": [
    "import torch\n",
    "import torch.nn as nn\n",
    "import torch.nn.functional as F\n",
    "import numpy"
   ]
  },
  {
   "cell_type": "code",
   "execution_count": 2,
   "id": "b7074a0e",
   "metadata": {},
   "outputs": [],
   "source": [
    "from captum.attr import IntegratedGradients, Saliency\n"
   ]
  },
  {
   "cell_type": "code",
   "execution_count": 3,
   "id": "0faf4b03",
   "metadata": {},
   "outputs": [],
   "source": [
    "# defining model input tensors\n",
    "input1 = torch.tensor([2.0], requires_grad=True)\n",
    "input2 = torch.tensor([2.0], requires_grad=True)\n",
    "baseline = torch.tensor([0.0], requires_grad=True)\n"
   ]
  },
  {
   "cell_type": "code",
   "execution_count": 4,
   "id": "f613219f",
   "metadata": {},
   "outputs": [],
   "source": [
    "class Toy(nn.Module):\n",
    "    \"\"\"\n",
    "    Example toy model from the original paper\n",
    "    https://arxiv.org/pdf/1703.01365.pdf\n",
    "    f(x) = 1 − ReLU(1−x)\n",
    "    but with two parameters\n",
    "    \"\"\"\n",
    "    def __init__(self):\n",
    "        super().__init__()\n",
    "\n",
    "    def forward(self, input1, input2):\n",
    "        relu_out = F.relu(1.0-input1-0.1*input2)\n",
    "        return 1.0 - relu_out"
   ]
  },
  {
   "cell_type": "code",
   "execution_count": 5,
   "id": "15bb80fa",
   "metadata": {},
   "outputs": [],
   "source": [
    "m = Toy()"
   ]
  },
  {
   "cell_type": "code",
   "execution_count": 6,
   "id": "01c865ed",
   "metadata": {},
   "outputs": [
    {
     "name": "stdout",
     "output_type": "stream",
     "text": [
      "tensor([0.], grad_fn=<RsubBackward1>)\n"
     ]
    }
   ],
   "source": [
    "print(m(baseline,  baseline))"
   ]
  },
  {
   "cell_type": "code",
   "execution_count": 7,
   "id": "31fef790",
   "metadata": {},
   "outputs": [
    {
     "name": "stdout",
     "output_type": "stream",
     "text": [
      "tensor([1.], grad_fn=<RsubBackward1>)\n"
     ]
    }
   ],
   "source": [
    "print(m(input1, input2))"
   ]
  },
  {
   "cell_type": "code",
   "execution_count": 8,
   "id": "cf169dee",
   "metadata": {},
   "outputs": [
    {
     "name": "stdout",
     "output_type": "stream",
     "text": [
      "dm/dinput1 =  tensor([-0.])\n",
      "dm/dinput2 =  tensor([-0.])\n"
     ]
    }
   ],
   "source": [
    "y = m(input1, input2)\n",
    "y.backward()\n",
    "print('dm/dinput1 = ', input1.grad)\n",
    "print('dm/dinput2 = ', input2.grad)"
   ]
  },
  {
   "cell_type": "code",
   "execution_count": 16,
   "id": "d005e2f1",
   "metadata": {},
   "outputs": [
    {
     "name": "stdout",
     "output_type": "stream",
     "text": [
      "attributions input1 0.9378233833446531\n",
      "attributions input2 0.09378233973193104\n",
      "sum =  1.031605723076584\n",
      "approx_error 0.03160572307658405\n"
     ]
    }
   ],
   "source": [
    "ig = IntegratedGradients(m)\n",
    "attributions, approximation_error = ig.attribute((input1, input2), baselines=(baseline, baseline),\n",
    "            return_convergence_delta=True)\n",
    "attr1 = attributions[0].detach().numpy()[0]\n",
    "attr2 = attributions[1].detach().numpy()[0]\n",
    "err = approximation_error[0].detach().numpy()\n",
    "\n",
    "print(\"attributions input1\", attr1)\n",
    "print(\"attributions input2\", attr2)\n",
    "print('sum = ', attr1+attr2)\n",
    "print(\"approx_error\", err)"
   ]
  },
  {
   "cell_type": "code",
   "execution_count": 17,
   "id": "662ea911",
   "metadata": {},
   "outputs": [
    {
     "data": {
      "text/plain": [
       "(tensor([0.]), tensor([0.]))"
      ]
     },
     "execution_count": 17,
     "metadata": {},
     "output_type": "execute_result"
    }
   ],
   "source": [
    "saliency = Saliency(m)\n",
    "saliency.attribute((input1, input2))"
   ]
  },
  {
   "cell_type": "code",
   "execution_count": null,
   "id": "0407dec4",
   "metadata": {},
   "outputs": [],
   "source": []
  }
 ],
 "metadata": {
  "kernelspec": {
   "display_name": "Python 3 (ipykernel)",
   "language": "python",
   "name": "python3"
  },
  "language_info": {
   "codemirror_mode": {
    "name": "ipython",
    "version": 3
   },
   "file_extension": ".py",
   "mimetype": "text/x-python",
   "name": "python",
   "nbconvert_exporter": "python",
   "pygments_lexer": "ipython3",
   "version": "3.8.0"
  }
 },
 "nbformat": 4,
 "nbformat_minor": 5
}
